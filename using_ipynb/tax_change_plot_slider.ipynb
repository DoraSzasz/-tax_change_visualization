{
 "cells": [
  {
   "cell_type": "code",
   "execution_count": 1,
   "metadata": {
    "collapsed": true
   },
   "outputs": [],
   "source": [
    "#importing some libraries\n",
    "import pandas as pd\n",
    "from os import path\n",
    "\n",
    "#importing Bokeh libraries\n",
    "from bokeh.plotting import figure\n",
    "from bokeh.layouts import layout\n",
    "from bokeh.models import ColumnDataSource, Text, Range1d, Plot, LinearAxis, SingleIntervalTicker\n",
    "from bokeh.models.widgets import Select\n",
    "from bkcharts import Line, Bar\n",
    "from bkcharts.attributes import cat, ColorAttr, color\n",
    "from bkcharts.operations import blend\n",
    "from bokeh.layouts import column\n",
    "from bokeh.io import show\n",
    "from bokeh.io import output_notebook \n",
    "from bokeh.models import BoxZoomTool, ResetTool, ResetTool, SaveTool\n",
    "from bokeh.models import FuncTickFormatter\n",
    "from bokeh.models import CustomJS, Slider\n",
    "from bokeh.models.glyphs import VBar\n",
    "from bokeh.layouts import widgetbox"
   ]
  },
  {
   "cell_type": "code",
   "execution_count": 2,
   "metadata": {},
   "outputs": [
    {
     "data": {
      "text/html": [
       "\n",
       "    <div class=\"bk-root\">\n",
       "        <a href=\"http://bokeh.pydata.org\" target=\"_blank\" class=\"bk-logo bk-logo-small bk-logo-notebook\"></a>\n",
       "        <span id=\"6f342a97-02e5-4cce-ac7f-58e44756e7d7\">Loading BokehJS ...</span>\n",
       "    </div>"
      ]
     },
     "metadata": {},
     "output_type": "display_data"
    },
    {
     "data": {
      "application/javascript": [
       "\n",
       "(function(global) {\n",
       "  function now() {\n",
       "    return new Date();\n",
       "  }\n",
       "\n",
       "  var force = true;\n",
       "\n",
       "  if (typeof (window._bokeh_onload_callbacks) === \"undefined\" || force === true) {\n",
       "    window._bokeh_onload_callbacks = [];\n",
       "    window._bokeh_is_loading = undefined;\n",
       "  }\n",
       "\n",
       "\n",
       "  \n",
       "  if (typeof (window._bokeh_timeout) === \"undefined\" || force === true) {\n",
       "    window._bokeh_timeout = Date.now() + 5000;\n",
       "    window._bokeh_failed_load = false;\n",
       "  }\n",
       "\n",
       "  var NB_LOAD_WARNING = {'data': {'text/html':\n",
       "     \"<div style='background-color: #fdd'>\\n\"+\n",
       "     \"<p>\\n\"+\n",
       "     \"BokehJS does not appear to have successfully loaded. If loading BokehJS from CDN, this \\n\"+\n",
       "     \"may be due to a slow or bad network connection. Possible fixes:\\n\"+\n",
       "     \"</p>\\n\"+\n",
       "     \"<ul>\\n\"+\n",
       "     \"<li>re-rerun `output_notebook()` to attempt to load from CDN again, or</li>\\n\"+\n",
       "     \"<li>use INLINE resources instead, as so:</li>\\n\"+\n",
       "     \"</ul>\\n\"+\n",
       "     \"<code>\\n\"+\n",
       "     \"from bokeh.resources import INLINE\\n\"+\n",
       "     \"output_notebook(resources=INLINE)\\n\"+\n",
       "     \"</code>\\n\"+\n",
       "     \"</div>\"}};\n",
       "\n",
       "  function display_loaded() {\n",
       "    if (window.Bokeh !== undefined) {\n",
       "      var el = document.getElementById(\"6f342a97-02e5-4cce-ac7f-58e44756e7d7\");\n",
       "      el.textContent = \"BokehJS \" + Bokeh.version + \" successfully loaded.\";\n",
       "    } else if (Date.now() < window._bokeh_timeout) {\n",
       "      setTimeout(display_loaded, 100)\n",
       "    }\n",
       "  }\n",
       "\n",
       "  function run_callbacks() {\n",
       "    try {\n",
       "      window._bokeh_onload_callbacks.forEach(function(callback) { callback() });\n",
       "    }\n",
       "    finally {\n",
       "      delete window._bokeh_onload_callbacks\n",
       "    }\n",
       "    console.info(\"Bokeh: all callbacks have finished\");\n",
       "  }\n",
       "\n",
       "  function load_libs(js_urls, callback) {\n",
       "    window._bokeh_onload_callbacks.push(callback);\n",
       "    if (window._bokeh_is_loading > 0) {\n",
       "      console.log(\"Bokeh: BokehJS is being loaded, scheduling callback at\", now());\n",
       "      return null;\n",
       "    }\n",
       "    if (js_urls == null || js_urls.length === 0) {\n",
       "      run_callbacks();\n",
       "      return null;\n",
       "    }\n",
       "    console.log(\"Bokeh: BokehJS not loaded, scheduling load and callback at\", now());\n",
       "    window._bokeh_is_loading = js_urls.length;\n",
       "    for (var i = 0; i < js_urls.length; i++) {\n",
       "      var url = js_urls[i];\n",
       "      var s = document.createElement('script');\n",
       "      s.src = url;\n",
       "      s.async = false;\n",
       "      s.onreadystatechange = s.onload = function() {\n",
       "        window._bokeh_is_loading--;\n",
       "        if (window._bokeh_is_loading === 0) {\n",
       "          console.log(\"Bokeh: all BokehJS libraries loaded\");\n",
       "          run_callbacks()\n",
       "        }\n",
       "      };\n",
       "      s.onerror = function() {\n",
       "        console.warn(\"failed to load library \" + url);\n",
       "      };\n",
       "      console.log(\"Bokeh: injecting script tag for BokehJS library: \", url);\n",
       "      document.getElementsByTagName(\"head\")[0].appendChild(s);\n",
       "    }\n",
       "  };var element = document.getElementById(\"6f342a97-02e5-4cce-ac7f-58e44756e7d7\");\n",
       "  if (element == null) {\n",
       "    console.log(\"Bokeh: ERROR: autoload.js configured with elementid '6f342a97-02e5-4cce-ac7f-58e44756e7d7' but no matching script tag was found. \")\n",
       "    return false;\n",
       "  }\n",
       "\n",
       "  var js_urls = [\"https://cdn.pydata.org/bokeh/release/bokeh-0.12.6.min.js\", \"https://cdn.pydata.org/bokeh/release/bokeh-widgets-0.12.6.min.js\"];\n",
       "\n",
       "  var inline_js = [\n",
       "    function(Bokeh) {\n",
       "      Bokeh.set_log_level(\"info\");\n",
       "    },\n",
       "    \n",
       "    function(Bokeh) {\n",
       "      \n",
       "    },\n",
       "    \n",
       "    function(Bokeh) {\n",
       "      \n",
       "      document.getElementById(\"6f342a97-02e5-4cce-ac7f-58e44756e7d7\").textContent = \"BokehJS is loading...\";\n",
       "    },\n",
       "    function(Bokeh) {\n",
       "      console.log(\"Bokeh: injecting CSS: https://cdn.pydata.org/bokeh/release/bokeh-0.12.6.min.css\");\n",
       "      Bokeh.embed.inject_css(\"https://cdn.pydata.org/bokeh/release/bokeh-0.12.6.min.css\");\n",
       "      console.log(\"Bokeh: injecting CSS: https://cdn.pydata.org/bokeh/release/bokeh-widgets-0.12.6.min.css\");\n",
       "      Bokeh.embed.inject_css(\"https://cdn.pydata.org/bokeh/release/bokeh-widgets-0.12.6.min.css\");\n",
       "    }\n",
       "  ];\n",
       "\n",
       "  function run_inline_js() {\n",
       "    \n",
       "    if ((window.Bokeh !== undefined) || (force === true)) {\n",
       "      for (var i = 0; i < inline_js.length; i++) {\n",
       "        inline_js[i](window.Bokeh);\n",
       "      }if (force === true) {\n",
       "        display_loaded();\n",
       "      }} else if (Date.now() < window._bokeh_timeout) {\n",
       "      setTimeout(run_inline_js, 100);\n",
       "    } else if (!window._bokeh_failed_load) {\n",
       "      console.log(\"Bokeh: BokehJS failed to load within specified timeout.\");\n",
       "      window._bokeh_failed_load = true;\n",
       "    } else if (force !== true) {\n",
       "      var cell = $(document.getElementById(\"6f342a97-02e5-4cce-ac7f-58e44756e7d7\")).parents('.cell').data().cell;\n",
       "      cell.output_area.append_execute_result(NB_LOAD_WARNING)\n",
       "    }\n",
       "\n",
       "  }\n",
       "\n",
       "  if (window._bokeh_is_loading === 0) {\n",
       "    console.log(\"Bokeh: BokehJS loaded, going straight to plotting\");\n",
       "    run_inline_js();\n",
       "  } else {\n",
       "    load_libs(js_urls, function() {\n",
       "      console.log(\"Bokeh: BokehJS plotting callback run at\", now());\n",
       "      run_inline_js();\n",
       "    });\n",
       "  }\n",
       "}(this));"
      ]
     },
     "metadata": {},
     "output_type": "display_data"
    }
   ],
   "source": [
    "output_notebook()"
   ]
  },
  {
   "cell_type": "code",
   "execution_count": 3,
   "metadata": {
    "collapsed": true
   },
   "outputs": [],
   "source": [
    "#years of interest\n",
    "years=[2017, 2018, 2019, 2020, 2021, 2022, 2023, 2024, 2025, 2026]"
   ]
  },
  {
   "cell_type": "code",
   "execution_count": 4,
   "metadata": {},
   "outputs": [
    {
     "name": "stderr",
     "output_type": "stream",
     "text": [
      "/Users/rcc/anaconda3/envs/django_env/lib/python3.6/site-packages/ipykernel/__main__.py:13: SettingWithCopyWarning: \n",
      "A value is trying to be set on a copy of a slice from a DataFrame.\n",
      "Try using .loc[row_indexer,col_indexer] = value instead\n",
      "\n",
      "See the caveats in the documentation: http://pandas.pydata.org/pandas-docs/stable/indexing.html#indexing-view-versus-copy\n",
      "/Users/rcc/anaconda3/envs/django_env/lib/python3.6/site-packages/ipykernel/__main__.py:14: SettingWithCopyWarning: \n",
      "A value is trying to be set on a copy of a slice from a DataFrame.\n",
      "Try using .loc[row_indexer,col_indexer] = value instead\n",
      "\n",
      "See the caveats in the documentation: http://pandas.pydata.org/pandas-docs/stable/indexing.html#indexing-view-versus-copy\n",
      "/Users/rcc/anaconda3/envs/django_env/lib/python3.6/site-packages/ipykernel/__main__.py:15: SettingWithCopyWarning: \n",
      "A value is trying to be set on a copy of a slice from a DataFrame.\n",
      "Try using .loc[row_indexer,col_indexer] = value instead\n",
      "\n",
      "See the caveats in the documentation: http://pandas.pydata.org/pandas-docs/stable/indexing.html#indexing-view-versus-copy\n",
      "/Users/rcc/anaconda3/envs/django_env/lib/python3.6/site-packages/ipykernel/__main__.py:16: SettingWithCopyWarning: \n",
      "A value is trying to be set on a copy of a slice from a DataFrame.\n",
      "Try using .loc[row_indexer,col_indexer] = value instead\n",
      "\n",
      "See the caveats in the documentation: http://pandas.pydata.org/pandas-docs/stable/indexing.html#indexing-view-versus-copy\n"
     ]
    }
   ],
   "source": [
    "sources = {}\n",
    "sources_df = {}\n",
    "\n",
    "#load data as DataFrame\n",
    "#prepare data\n",
    "\n",
    "for year in years:\n",
    "    sources = pd.DataFrame(pd.read_csv('resources/14814_'+str(year)+'_difference_combined_bins.csv', decimal=\",\", encoding='utf-8-sig', header=1))\n",
    "    sources=sources.rename(columns={'Unnamed: 0':'Intervals'})\n",
    "    sources_dropped=sources.drop(sources.index[[0,len(sources['Tax Units with Tax Cut'])-1]])\n",
    "    df_data = sources_dropped[['Intervals','Tax Units with Tax Cut', 'Tax Units with Tax Increase', 'Average Tax Change']]\n",
    "    intervals = df_data['Intervals']\n",
    "    df_data['Tax Units with Tax Cut']= [x.replace(',', '.') for x in df_data['Tax Units with Tax Cut']]\n",
    "    df_data['Tax Units with Tax Cut']=(-1)*df_data['Tax Units with Tax Cut'].astype(float)\n",
    "    df_data['Tax Units with Tax Increase']= [x.replace(',', '.') for x in df_data['Tax Units with Tax Increase']]\n",
    "    df_data['Tax Units with Tax Increase']=df_data['Tax Units with Tax Increase'].astype(float)\n",
    "    #indexed_df = df_data.set_index(['Intervals'])\n",
    "    sources_df['_' + str(year)] = ColumnDataSource(df_data)"
   ]
  },
  {
   "cell_type": "code",
   "execution_count": 5,
   "metadata": {},
   "outputs": [
    {
     "data": {
      "text/plain": [
       "1     Less than 10\n",
       "2            10-20\n",
       "3            20-30\n",
       "4            30-40\n",
       "5            40-50\n",
       "6            50-75\n",
       "7           75-100\n",
       "8          100-200\n",
       "9          200-500\n",
       "10        500-1000\n",
       "11           1000+\n",
       "12             All\n",
       "Name: Intervals, dtype: object"
      ]
     },
     "execution_count": 5,
     "metadata": {},
     "output_type": "execute_result"
    }
   ],
   "source": [
    "intervals"
   ]
  },
  {
   "cell_type": "code",
   "execution_count": null,
   "metadata": {},
   "outputs": [],
   "source": [
    "indexed_df"
   ]
  },
  {
   "cell_type": "code",
   "execution_count": 6,
   "metadata": {},
   "outputs": [
    {
     "data": {
      "text/plain": [
       "{'Average Tax Change': 1      -8.000\n",
       " 2     -81.000\n",
       " 3    -184.000\n",
       " 4    -297.000\n",
       " 5    -370.000\n",
       " 6    -553.000\n",
       " 7    -577.000\n",
       " 8    -512.000\n",
       " 9     245.000\n",
       " 10      2.461\n",
       " 11     14.225\n",
       " 12      0.000\n",
       " Name: Average Tax Change, dtype: float64, 'Intervals': 1     Less than 10\n",
       " 2            10-20\n",
       " 3            20-30\n",
       " 4            30-40\n",
       " 5            40-50\n",
       " 6            50-75\n",
       " 7           75-100\n",
       " 8          100-200\n",
       " 9          200-500\n",
       " 10        500-1000\n",
       " 11           1000+\n",
       " 12             All\n",
       " Name: Intervals, dtype: object, 'Tax Units with Tax Cut': 1      -1.436\n",
       " 2      -7.015\n",
       " 3      -9.483\n",
       " 4     -11.352\n",
       " 5      -9.795\n",
       " 6     -17.029\n",
       " 7      -9.208\n",
       " 8     -11.100\n",
       " 9    -691.000\n",
       " 10    -57.000\n",
       " 11    -40.000\n",
       " 12    -77.208\n",
       " Name: Tax Units with Tax Cut, dtype: float64, 'Tax Units with Tax Increase': 1     477.000\n",
       " 2     111.000\n",
       " 3     106.000\n",
       " 4     307.000\n",
       " 5     374.000\n",
       " 6       1.201\n",
       " 7       1.294\n",
       " 8       4.332\n",
       " 9       4.421\n",
       " 10    710.000\n",
       " 11    420.000\n",
       " 12     13.760\n",
       " Name: Tax Units with Tax Increase, dtype: float64, 'index': array([ 1,  2,  3,  4,  5,  6,  7,  8,  9, 10, 11, 12])}"
      ]
     },
     "execution_count": 6,
     "metadata": {},
     "output_type": "execute_result"
    }
   ],
   "source": [
    "sources_df['_2017'].data"
   ]
  },
  {
   "cell_type": "code",
   "execution_count": 7,
   "metadata": {},
   "outputs": [],
   "source": [
    "dictionary_of_sources = dict(zip([x for x in years], ['_%s' % x for x in years]))"
   ]
  },
  {
   "cell_type": "code",
   "execution_count": 8,
   "metadata": {},
   "outputs": [
    {
     "data": {
      "text/plain": [
       "'{2017: _2017, 2018: _2018, 2019: _2019, 2020: _2020, 2021: _2021, 2022: _2022, 2023: _2023, 2024: _2024, 2025: _2025, 2026: _2026}'"
      ]
     },
     "execution_count": 8,
     "metadata": {},
     "output_type": "execute_result"
    }
   ],
   "source": [
    "js_source_array = str(dictionary_of_sources).replace(\"'\", \"\")\n",
    "js_source_array"
   ]
  },
  {
   "cell_type": "code",
   "execution_count": 9,
   "metadata": {
    "collapsed": true
   },
   "outputs": [],
   "source": [
    "renderer_source = sources_df['_%s' % years[0]]"
   ]
  },
  {
   "cell_type": "code",
   "execution_count": 11,
   "metadata": {},
   "outputs": [
    {
     "data": {
      "text/plain": [
       "{'Average Tax Change': 1      -8.000\n",
       " 2     -81.000\n",
       " 3    -184.000\n",
       " 4    -297.000\n",
       " 5    -370.000\n",
       " 6    -553.000\n",
       " 7    -577.000\n",
       " 8    -512.000\n",
       " 9     245.000\n",
       " 10      2.461\n",
       " 11     14.225\n",
       " 12      0.000\n",
       " Name: Average Tax Change, dtype: float64, 'Intervals': 1     Less than 10\n",
       " 2            10-20\n",
       " 3            20-30\n",
       " 4            30-40\n",
       " 5            40-50\n",
       " 6            50-75\n",
       " 7           75-100\n",
       " 8          100-200\n",
       " 9          200-500\n",
       " 10        500-1000\n",
       " 11           1000+\n",
       " 12             All\n",
       " Name: Intervals, dtype: object, 'Tax Units with Tax Cut': 1      -1.436\n",
       " 2      -7.015\n",
       " 3      -9.483\n",
       " 4     -11.352\n",
       " 5      -9.795\n",
       " 6     -17.029\n",
       " 7      -9.208\n",
       " 8     -11.100\n",
       " 9    -691.000\n",
       " 10    -57.000\n",
       " 11    -40.000\n",
       " 12    -77.208\n",
       " Name: Tax Units with Tax Cut, dtype: float64, 'Tax Units with Tax Increase': 1     477.000\n",
       " 2     111.000\n",
       " 3     106.000\n",
       " 4     307.000\n",
       " 5     374.000\n",
       " 6       1.201\n",
       " 7       1.294\n",
       " 8       4.332\n",
       " 9       4.421\n",
       " 10    710.000\n",
       " 11    420.000\n",
       " 12     13.760\n",
       " Name: Tax Units with Tax Increase, dtype: float64, 'index': array([ 1,  2,  3,  4,  5,  6,  7,  8,  9, 10, 11, 12])}"
      ]
     },
     "execution_count": 11,
     "metadata": {},
     "output_type": "execute_result"
    }
   ],
   "source": [
    "renderer_source.data"
   ]
  },
  {
   "cell_type": "code",
   "execution_count": 12,
   "metadata": {
    "collapsed": true
   },
   "outputs": [],
   "source": [
    "text_source = ColumnDataSource({'year': ['%s' % years[0]]})\n",
    "text = Text(x=0.8, y=600, text='year', text_font_size='20pt', text_color='#0569CE', text_alpha=1)"
   ]
  },
  {
   "cell_type": "code",
   "execution_count": 13,
   "metadata": {},
   "outputs": [
    {
     "data": {
      "text/html": [
       "<div style=\"display: table;\"><div style=\"display: table-row;\"><div style=\"display: table-cell;\"><b title=\"bokeh.models.renderers.GlyphRenderer\">GlyphRenderer</b>(</div><div style=\"display: table-cell;\">id&nbsp;=&nbsp;'f9c25808-1cdc-4598-8d2f-a32d40f4aa75', <span id=\"d67bcc18-eb06-4f81-bb26-7fcd5d888527\" style=\"cursor: pointer;\">&hellip;)</span></div></div><div class=\"f297b2ac-e8b5-4438-b3d0-153e150b0281\" style=\"display: none;\"><div style=\"display: table-cell;\"></div><div style=\"display: table-cell;\">data_source&nbsp;=&nbsp;ColumnDataSource(id='db1b6c55-6811-4bab-93f6-d84fb1f7a818', ...),</div></div><div class=\"f297b2ac-e8b5-4438-b3d0-153e150b0281\" style=\"display: none;\"><div style=\"display: table-cell;\"></div><div style=\"display: table-cell;\">glyph&nbsp;=&nbsp;Text(id='6d5a882e-552d-4cb7-87dc-742475ed2f6f', ...),</div></div><div class=\"f297b2ac-e8b5-4438-b3d0-153e150b0281\" style=\"display: none;\"><div style=\"display: table-cell;\"></div><div style=\"display: table-cell;\">hover_glyph&nbsp;=&nbsp;None,</div></div><div class=\"f297b2ac-e8b5-4438-b3d0-153e150b0281\" style=\"display: none;\"><div style=\"display: table-cell;\"></div><div style=\"display: table-cell;\">js_event_callbacks&nbsp;=&nbsp;{},</div></div><div class=\"f297b2ac-e8b5-4438-b3d0-153e150b0281\" style=\"display: none;\"><div style=\"display: table-cell;\"></div><div style=\"display: table-cell;\">js_property_callbacks&nbsp;=&nbsp;{},</div></div><div class=\"f297b2ac-e8b5-4438-b3d0-153e150b0281\" style=\"display: none;\"><div style=\"display: table-cell;\"></div><div style=\"display: table-cell;\">level&nbsp;=&nbsp;'glyph',</div></div><div class=\"f297b2ac-e8b5-4438-b3d0-153e150b0281\" style=\"display: none;\"><div style=\"display: table-cell;\"></div><div style=\"display: table-cell;\">muted&nbsp;=&nbsp;False,</div></div><div class=\"f297b2ac-e8b5-4438-b3d0-153e150b0281\" style=\"display: none;\"><div style=\"display: table-cell;\"></div><div style=\"display: table-cell;\">muted_glyph&nbsp;=&nbsp;None,</div></div><div class=\"f297b2ac-e8b5-4438-b3d0-153e150b0281\" style=\"display: none;\"><div style=\"display: table-cell;\"></div><div style=\"display: table-cell;\">name&nbsp;=&nbsp;None,</div></div><div class=\"f297b2ac-e8b5-4438-b3d0-153e150b0281\" style=\"display: none;\"><div style=\"display: table-cell;\"></div><div style=\"display: table-cell;\">nonselection_glyph&nbsp;=&nbsp;'auto',</div></div><div class=\"f297b2ac-e8b5-4438-b3d0-153e150b0281\" style=\"display: none;\"><div style=\"display: table-cell;\"></div><div style=\"display: table-cell;\">selection_glyph&nbsp;=&nbsp;'auto',</div></div><div class=\"f297b2ac-e8b5-4438-b3d0-153e150b0281\" style=\"display: none;\"><div style=\"display: table-cell;\"></div><div style=\"display: table-cell;\">subscribed_events&nbsp;=&nbsp;[],</div></div><div class=\"f297b2ac-e8b5-4438-b3d0-153e150b0281\" style=\"display: none;\"><div style=\"display: table-cell;\"></div><div style=\"display: table-cell;\">tags&nbsp;=&nbsp;[],</div></div><div class=\"f297b2ac-e8b5-4438-b3d0-153e150b0281\" style=\"display: none;\"><div style=\"display: table-cell;\"></div><div style=\"display: table-cell;\">visible&nbsp;=&nbsp;True,</div></div><div class=\"f297b2ac-e8b5-4438-b3d0-153e150b0281\" style=\"display: none;\"><div style=\"display: table-cell;\"></div><div style=\"display: table-cell;\">x_range_name&nbsp;=&nbsp;'default',</div></div><div class=\"f297b2ac-e8b5-4438-b3d0-153e150b0281\" style=\"display: none;\"><div style=\"display: table-cell;\"></div><div style=\"display: table-cell;\">y_range_name&nbsp;=&nbsp;'default')</div></div></div>\n",
       "<script>\n",
       "(function() {\n",
       "  var expanded = false;\n",
       "  var ellipsis = document.getElementById(\"d67bcc18-eb06-4f81-bb26-7fcd5d888527\");\n",
       "  ellipsis.addEventListener(\"click\", function() {\n",
       "    var rows = document.getElementsByClassName(\"f297b2ac-e8b5-4438-b3d0-153e150b0281\");\n",
       "    for (var i = 0; i < rows.length; i++) {\n",
       "      var el = rows[i];\n",
       "      el.style.display = expanded ? \"none\" : \"table-row\";\n",
       "    }\n",
       "    ellipsis.innerHTML = expanded ? \"&hellip;)\" : \"&lsaquo;&lsaquo;&lsaquo;\";\n",
       "    expanded = !expanded;\n",
       "  });\n",
       "})();\n",
       "</script>\n"
      ],
      "text/plain": [
       "GlyphRenderer(id='f9c25808-1cdc-4598-8d2f-a32d40f4aa75', ...)"
      ]
     },
     "execution_count": 13,
     "metadata": {},
     "output_type": "execute_result"
    }
   ],
   "source": [
    "p = Bar(renderer_source.data, \n",
    "       label=cat(columns='Intervals', sort=False), \n",
    "       values=blend('Tax Units with Tax Increase', 'Tax Units with Tax Cut', name='values', labels_name='vars'),\n",
    "       tooltips=[('Value', '@values')], ylabel=\"Tax units with tax cut             Tax units with tax increase\", stack=cat(columns='values', sort=False), \n",
    "       color=color(columns='vars',\n",
    "                      palette=['silver', 'orange'],\n",
    "                      sort=True),\n",
    "       bar_width=0.4, tools=\"pan,box_zoom, reset, save\", plot_width=600, plot_height=500, logo=None,\n",
    "       toolbar_sticky=False, legend=False)\n",
    "p.xaxis.axis_label = 'Income [$ thousands]'\n",
    "p.add_glyph(text_source, text)"
   ]
  },
  {
   "cell_type": "code",
   "execution_count": 14,
   "metadata": {},
   "outputs": [],
   "source": [
    "s1 = figure(plot_width=600, plot_height=200, title='Average Tax Change', tools=\"box_zoom, reset, save\")\n",
    "s1.toolbar.logo = None\n",
    "s1.toolbar_sticky = False\n",
    "s1.title.text_color = '#0569CE'\n",
    "s1.xaxis.axis_label = 'Income [$ thousands]'"
   ]
  },
  {
   "cell_type": "code",
   "execution_count": 15,
   "metadata": {
    "collapsed": true
   },
   "outputs": [],
   "source": [
    "avg_tax_change=renderer_source.data['Average Tax Change']"
   ]
  },
  {
   "cell_type": "code",
   "execution_count": 16,
   "metadata": {},
   "outputs": [],
   "source": [
    "line_x=[i for i in range(len(renderer_source.data['Intervals']))]"
   ]
  },
  {
   "cell_type": "code",
   "execution_count": 17,
   "metadata": {},
   "outputs": [
    {
     "data": {
      "text/plain": [
       "[0, 1, 2, 3, 4, 5, 6, 7, 8, 9, 10, 11]"
      ]
     },
     "execution_count": 17,
     "metadata": {},
     "output_type": "execute_result"
    }
   ],
   "source": [
    "line_x"
   ]
  },
  {
   "cell_type": "code",
   "execution_count": 18,
   "metadata": {},
   "outputs": [
    {
     "data": {
      "text/html": [
       "<div style=\"display: table;\"><div style=\"display: table-row;\"><div style=\"display: table-cell;\"><b title=\"bokeh.models.renderers.GlyphRenderer\">GlyphRenderer</b>(</div><div style=\"display: table-cell;\">id&nbsp;=&nbsp;'4a7b2b72-50fb-4305-8c12-0af1ab2080d0', <span id=\"a9380a8d-dc8e-4558-987d-5fdf5f8b12a1\" style=\"cursor: pointer;\">&hellip;)</span></div></div><div class=\"2f6bd938-aaeb-4a4d-8793-820ec3359e37\" style=\"display: none;\"><div style=\"display: table-cell;\"></div><div style=\"display: table-cell;\">data_source&nbsp;=&nbsp;ColumnDataSource(id='04be7139-50c7-4c34-83e8-0b977d03ace4', ...),</div></div><div class=\"2f6bd938-aaeb-4a4d-8793-820ec3359e37\" style=\"display: none;\"><div style=\"display: table-cell;\"></div><div style=\"display: table-cell;\">glyph&nbsp;=&nbsp;Circle(id='46760743-bf66-4a95-ba7f-9e7896a12c39', ...),</div></div><div class=\"2f6bd938-aaeb-4a4d-8793-820ec3359e37\" style=\"display: none;\"><div style=\"display: table-cell;\"></div><div style=\"display: table-cell;\">hover_glyph&nbsp;=&nbsp;None,</div></div><div class=\"2f6bd938-aaeb-4a4d-8793-820ec3359e37\" style=\"display: none;\"><div style=\"display: table-cell;\"></div><div style=\"display: table-cell;\">js_event_callbacks&nbsp;=&nbsp;{},</div></div><div class=\"2f6bd938-aaeb-4a4d-8793-820ec3359e37\" style=\"display: none;\"><div style=\"display: table-cell;\"></div><div style=\"display: table-cell;\">js_property_callbacks&nbsp;=&nbsp;{},</div></div><div class=\"2f6bd938-aaeb-4a4d-8793-820ec3359e37\" style=\"display: none;\"><div style=\"display: table-cell;\"></div><div style=\"display: table-cell;\">level&nbsp;=&nbsp;'glyph',</div></div><div class=\"2f6bd938-aaeb-4a4d-8793-820ec3359e37\" style=\"display: none;\"><div style=\"display: table-cell;\"></div><div style=\"display: table-cell;\">muted&nbsp;=&nbsp;False,</div></div><div class=\"2f6bd938-aaeb-4a4d-8793-820ec3359e37\" style=\"display: none;\"><div style=\"display: table-cell;\"></div><div style=\"display: table-cell;\">muted_glyph&nbsp;=&nbsp;None,</div></div><div class=\"2f6bd938-aaeb-4a4d-8793-820ec3359e37\" style=\"display: none;\"><div style=\"display: table-cell;\"></div><div style=\"display: table-cell;\">name&nbsp;=&nbsp;None,</div></div><div class=\"2f6bd938-aaeb-4a4d-8793-820ec3359e37\" style=\"display: none;\"><div style=\"display: table-cell;\"></div><div style=\"display: table-cell;\">nonselection_glyph&nbsp;=&nbsp;Circle(id='3567a5d7-e6df-4fa0-a6c5-940eb52630c3', ...),</div></div><div class=\"2f6bd938-aaeb-4a4d-8793-820ec3359e37\" style=\"display: none;\"><div style=\"display: table-cell;\"></div><div style=\"display: table-cell;\">selection_glyph&nbsp;=&nbsp;None,</div></div><div class=\"2f6bd938-aaeb-4a4d-8793-820ec3359e37\" style=\"display: none;\"><div style=\"display: table-cell;\"></div><div style=\"display: table-cell;\">subscribed_events&nbsp;=&nbsp;[],</div></div><div class=\"2f6bd938-aaeb-4a4d-8793-820ec3359e37\" style=\"display: none;\"><div style=\"display: table-cell;\"></div><div style=\"display: table-cell;\">tags&nbsp;=&nbsp;[],</div></div><div class=\"2f6bd938-aaeb-4a4d-8793-820ec3359e37\" style=\"display: none;\"><div style=\"display: table-cell;\"></div><div style=\"display: table-cell;\">visible&nbsp;=&nbsp;True,</div></div><div class=\"2f6bd938-aaeb-4a4d-8793-820ec3359e37\" style=\"display: none;\"><div style=\"display: table-cell;\"></div><div style=\"display: table-cell;\">x_range_name&nbsp;=&nbsp;'default',</div></div><div class=\"2f6bd938-aaeb-4a4d-8793-820ec3359e37\" style=\"display: none;\"><div style=\"display: table-cell;\"></div><div style=\"display: table-cell;\">y_range_name&nbsp;=&nbsp;'default')</div></div></div>\n",
       "<script>\n",
       "(function() {\n",
       "  var expanded = false;\n",
       "  var ellipsis = document.getElementById(\"a9380a8d-dc8e-4558-987d-5fdf5f8b12a1\");\n",
       "  ellipsis.addEventListener(\"click\", function() {\n",
       "    var rows = document.getElementsByClassName(\"2f6bd938-aaeb-4a4d-8793-820ec3359e37\");\n",
       "    for (var i = 0; i < rows.length; i++) {\n",
       "      var el = rows[i];\n",
       "      el.style.display = expanded ? \"none\" : \"table-row\";\n",
       "    }\n",
       "    ellipsis.innerHTML = expanded ? \"&hellip;)\" : \"&lsaquo;&lsaquo;&lsaquo;\";\n",
       "    expanded = !expanded;\n",
       "  });\n",
       "})();\n",
       "</script>\n"
      ],
      "text/plain": [
       "GlyphRenderer(id='4a7b2b72-50fb-4305-8c12-0af1ab2080d0', ...)"
      ]
     },
     "execution_count": 18,
     "metadata": {},
     "output_type": "execute_result"
    }
   ],
   "source": [
    "s1.line(line_x, avg_tax_change, line_color='#0569CE', line_width=2)\n",
    "s1.circle(line_x, avg_tax_change, fill_color=\"white\", size=8)"
   ]
  },
  {
   "cell_type": "code",
   "execution_count": 19,
   "metadata": {},
   "outputs": [
    {
     "data": {
      "text/plain": [
       "1     Less than 10\n",
       "2            10-20\n",
       "3            20-30\n",
       "4            30-40\n",
       "5            40-50\n",
       "6            50-75\n",
       "7           75-100\n",
       "8          100-200\n",
       "9          200-500\n",
       "10        500-1000\n",
       "11           1000+\n",
       "12             All\n",
       "Name: Intervals, dtype: object"
      ]
     },
     "execution_count": 19,
     "metadata": {},
     "output_type": "execute_result"
    }
   ],
   "source": [
    "intervals"
   ]
  },
  {
   "cell_type": "code",
   "execution_count": 20,
   "metadata": {},
   "outputs": [],
   "source": [
    "# Add the slider\n",
    "code = \"\"\"\n",
    "    var year = slider.get('value'),\n",
    "        sources = %s,\n",
    "        new_source_data = sources[year].get('data');\n",
    "    renderer_source.set('data', new_source_data);\n",
    "    text_source.set('data', {'year': [String(year)]});\n",
    "\"\"\" % js_source_array\n",
    "\n",
    "callback = CustomJS(args=sources_df, code=code)\n",
    "slider = Slider(start=years[0], end=years[-1], value=1, step=1, title=\"Year\", callback=callback)\n",
    "callback.args[\"renderer_source\"] = renderer_source\n",
    "callback.args[\"slider\"] = slider\n",
    "callback.args[\"text_source\"] = text_source"
   ]
  },
  {
   "cell_type": "code",
   "execution_count": 21,
   "metadata": {},
   "outputs": [
    {
     "data": {
      "text/html": [
       "\n",
       "\n",
       "    <div class=\"bk-root\">\n",
       "        <div class=\"bk-plotdiv\" id=\"a518ec9f-187c-41b6-a6cd-b753d1bd5982\"></div>\n",
       "    </div>\n",
       "<script type=\"text/javascript\">\n",
       "  \n",
       "  (function(global) {\n",
       "    function now() {\n",
       "      return new Date();\n",
       "    }\n",
       "  \n",
       "    var force = false;\n",
       "  \n",
       "    if (typeof (window._bokeh_onload_callbacks) === \"undefined\" || force === true) {\n",
       "      window._bokeh_onload_callbacks = [];\n",
       "      window._bokeh_is_loading = undefined;\n",
       "    }\n",
       "  \n",
       "  \n",
       "    \n",
       "    if (typeof (window._bokeh_timeout) === \"undefined\" || force === true) {\n",
       "      window._bokeh_timeout = Date.now() + 0;\n",
       "      window._bokeh_failed_load = false;\n",
       "    }\n",
       "  \n",
       "    var NB_LOAD_WARNING = {'data': {'text/html':\n",
       "       \"<div style='background-color: #fdd'>\\n\"+\n",
       "       \"<p>\\n\"+\n",
       "       \"BokehJS does not appear to have successfully loaded. If loading BokehJS from CDN, this \\n\"+\n",
       "       \"may be due to a slow or bad network connection. Possible fixes:\\n\"+\n",
       "       \"</p>\\n\"+\n",
       "       \"<ul>\\n\"+\n",
       "       \"<li>re-rerun `output_notebook()` to attempt to load from CDN again, or</li>\\n\"+\n",
       "       \"<li>use INLINE resources instead, as so:</li>\\n\"+\n",
       "       \"</ul>\\n\"+\n",
       "       \"<code>\\n\"+\n",
       "       \"from bokeh.resources import INLINE\\n\"+\n",
       "       \"output_notebook(resources=INLINE)\\n\"+\n",
       "       \"</code>\\n\"+\n",
       "       \"</div>\"}};\n",
       "  \n",
       "    function display_loaded() {\n",
       "      if (window.Bokeh !== undefined) {\n",
       "        var el = document.getElementById(\"a518ec9f-187c-41b6-a6cd-b753d1bd5982\");\n",
       "        el.textContent = \"BokehJS \" + Bokeh.version + \" successfully loaded.\";\n",
       "      } else if (Date.now() < window._bokeh_timeout) {\n",
       "        setTimeout(display_loaded, 100)\n",
       "      }\n",
       "    }\n",
       "  \n",
       "    function run_callbacks() {\n",
       "      try {\n",
       "        window._bokeh_onload_callbacks.forEach(function(callback) { callback() });\n",
       "      }\n",
       "      finally {\n",
       "        delete window._bokeh_onload_callbacks\n",
       "      }\n",
       "      console.info(\"Bokeh: all callbacks have finished\");\n",
       "    }\n",
       "  \n",
       "    function load_libs(js_urls, callback) {\n",
       "      window._bokeh_onload_callbacks.push(callback);\n",
       "      if (window._bokeh_is_loading > 0) {\n",
       "        console.log(\"Bokeh: BokehJS is being loaded, scheduling callback at\", now());\n",
       "        return null;\n",
       "      }\n",
       "      if (js_urls == null || js_urls.length === 0) {\n",
       "        run_callbacks();\n",
       "        return null;\n",
       "      }\n",
       "      console.log(\"Bokeh: BokehJS not loaded, scheduling load and callback at\", now());\n",
       "      window._bokeh_is_loading = js_urls.length;\n",
       "      for (var i = 0; i < js_urls.length; i++) {\n",
       "        var url = js_urls[i];\n",
       "        var s = document.createElement('script');\n",
       "        s.src = url;\n",
       "        s.async = false;\n",
       "        s.onreadystatechange = s.onload = function() {\n",
       "          window._bokeh_is_loading--;\n",
       "          if (window._bokeh_is_loading === 0) {\n",
       "            console.log(\"Bokeh: all BokehJS libraries loaded\");\n",
       "            run_callbacks()\n",
       "          }\n",
       "        };\n",
       "        s.onerror = function() {\n",
       "          console.warn(\"failed to load library \" + url);\n",
       "        };\n",
       "        console.log(\"Bokeh: injecting script tag for BokehJS library: \", url);\n",
       "        document.getElementsByTagName(\"head\")[0].appendChild(s);\n",
       "      }\n",
       "    };var element = document.getElementById(\"a518ec9f-187c-41b6-a6cd-b753d1bd5982\");\n",
       "    if (element == null) {\n",
       "      console.log(\"Bokeh: ERROR: autoload.js configured with elementid 'a518ec9f-187c-41b6-a6cd-b753d1bd5982' but no matching script tag was found. \")\n",
       "      return false;\n",
       "    }\n",
       "  \n",
       "    var js_urls = [];\n",
       "  \n",
       "    var inline_js = [\n",
       "      function(Bokeh) {\n",
       "        (function() {\n",
       "          var fn = function() {\n",
       "            var docs_json = {\"bddb18aa-d177-450e-ac89-ad92d19a7146\":{\"roots\":{\"references\":[{\"attributes\":{\"fill_alpha\":{\"value\":0.1},\"fill_color\":{\"value\":\"#1f77b4\"},\"line_alpha\":{\"value\":0.1},\"line_color\":{\"value\":\"#1f77b4\"},\"size\":{\"units\":\"screen\",\"value\":8},\"x\":{\"field\":\"x\"},\"y\":{\"field\":\"y\"}},\"id\":\"3567a5d7-e6df-4fa0-a6c5-940eb52630c3\",\"type\":\"Circle\"},{\"attributes\":{\"callback\":null,\"column_names\":[\"Intervals\",\"Tax Units with Tax Cut\",\"Tax Units with Tax Increase\",\"Average Tax Change\",\"index\"],\"data\":{\"Average Tax Change\":{\"__ndarray__\":\"AAAAAAAAGMAAAAAAAIBTwAAAAAAAAGXAAAAAAABQcsAAAAAAAAB3wAAAAAAAEIHAAAAAAAC4g8AAAAAAALCBwAAAAAAAIGJAAiuHFtnOAEDUeOkmMYgqQAAAAAAAAAAA\",\"dtype\":\"float64\",\"shape\":[12]},\"Intervals\":[\"Less than 10\",\"10-20\",\"20-30\",\"30-40\",\"40-50\",\"50-75\",\"75-100\",\"100-200\",\"200-500\",\"500-1000\",\"1000+\",\"All\"],\"Tax Units with Tax Cut\":{\"__ndarray__\":\"g8DKoUW287/ufD81XroYwO58PzVe+iDACKwcWmQ7J8D4U+Olm8QiwBsv3SQGQTLADi2yne+nJcAX2c73U6MpwE5iEFg5tPC/AAAAAABAUMAAAAAAAABGwEw3iUFg/VPA\",\"dtype\":\"float64\",\"shape\":[12]},\"Tax Units with Tax Increase\":{\"__ndarray__\":\"AAAAAADQfkAAAAAAAIBcQAAAAAAAAFtAAAAAAACgbEAAAAAAACB2QOOlm8QgsPI/46WbxCCw9D/Jdr6fGq8RQJqZmZmZmRNAAAAAAAA4i0AAAAAAAHB8QG3n+6nx0ixA\",\"dtype\":\"float64\",\"shape\":[12]},\"index\":[1,2,3,4,5,6,7,8,9,10,11,12]}},\"id\":\"a36f5ef0-d5a4-47ba-9ca0-7b23021e4d16\",\"type\":\"ColumnDataSource\"},{\"attributes\":{\"children\":[{\"id\":\"ba71cd44-6cf6-4e1c-89b7-e3c939536ebb\",\"type\":\"Column\"}]},\"id\":\"984e34bb-7824-4ab9-8f83-c159f3d2fa70\",\"type\":\"Row\"},{\"attributes\":{\"callback\":null,\"factors\":[\"Less than 10\",\"10-20\",\"20-30\",\"30-40\",\"40-50\",\"50-75\",\"75-100\",\"100-200\",\"200-500\",\"500-1000\",\"1000+\",\"All\"]},\"id\":\"9c27643c-09d7-4011-b30b-58f5b64aede7\",\"type\":\"FactorRange\"},{\"attributes\":{\"data_source\":{\"id\":\"4b2c1532-ee75-4803-a144-f73f8dea53b1\",\"type\":\"ColumnDataSource\"},\"glyph\":{\"id\":\"a007d25d-e6af-4d1c-9ae2-1428c80b84f5\",\"type\":\"Rect\"},\"hover_glyph\":null,\"muted_glyph\":null},\"id\":\"5bd5a2ba-83f1-449e-a33b-79f13d43ce14\",\"type\":\"GlyphRenderer\"},{\"attributes\":{},\"id\":\"8319ea9a-999b-4426-b75b-fa5ff25735c6\",\"type\":\"ToolEvents\"},{\"attributes\":{\"plot\":{\"id\":\"dddc1b35-3c10-4002-86d7-a84e75cf8a4d\",\"subtype\":\"Figure\",\"type\":\"Plot\"}},\"id\":\"48d7f072-a5a4-4cc0-965f-579e4142f20a\",\"type\":\"SaveTool\"},{\"attributes\":{\"callback\":null,\"column_names\":[\"x\",\"y\",\"width\",\"height\",\"color\",\"fill_alpha\",\"line_color\",\"line_alpha\",\"label\"],\"data\":{\"Intervals\":[\"500-1000\"],\"chart_index\":[{\"Intervals\":\"500-1000\",\"values\":710.0,\"vars\":\"Tax Units with Tax Increase\"}],\"color\":[\"orange\"],\"fill_alpha\":[0.8],\"height\":[710.0],\"label\":[{\"Intervals\":\"500-1000\",\"values\":710.0,\"vars\":\"Tax Units with Tax Increase\"}],\"line_alpha\":[1.0],\"line_color\":[\"white\"],\"values\":[710.0],\"vars\":[\"Tax Units with Tax Increase\"],\"width\":[0.4],\"x\":[\"500-1000\"],\"y\":[355.0]}},\"id\":\"4b2c1532-ee75-4803-a144-f73f8dea53b1\",\"type\":\"ColumnDataSource\"},{\"attributes\":{\"fill_alpha\":{\"field\":\"fill_alpha\"},\"fill_color\":{\"field\":\"color\"},\"height\":{\"field\":\"height\",\"units\":\"data\"},\"line_color\":{\"field\":\"line_color\"},\"width\":{\"field\":\"width\",\"units\":\"data\"},\"x\":{\"field\":\"x\"},\"y\":{\"field\":\"y\"}},\"id\":\"b18ca8d6-136f-4936-90e4-7d335b911d76\",\"type\":\"Rect\"},{\"attributes\":{},\"id\":\"0741f848-a8b7-4687-b1aa-5ff87cb80735\",\"type\":\"BasicTickFormatter\"},{\"attributes\":{\"data_source\":{\"id\":\"f5d87838-5ae3-4bd0-89e6-aaaa1748ab38\",\"type\":\"ColumnDataSource\"},\"glyph\":{\"id\":\"b18ca8d6-136f-4936-90e4-7d335b911d76\",\"type\":\"Rect\"},\"hover_glyph\":null,\"muted_glyph\":null},\"id\":\"059ee57a-b6ac-4f32-8bb3-5df9265f8154\",\"type\":\"GlyphRenderer\"},{\"attributes\":{\"fill_alpha\":{\"field\":\"fill_alpha\"},\"fill_color\":{\"field\":\"color\"},\"height\":{\"field\":\"height\",\"units\":\"data\"},\"line_color\":{\"field\":\"line_color\"},\"width\":{\"field\":\"width\",\"units\":\"data\"},\"x\":{\"field\":\"x\"},\"y\":{\"field\":\"y\"}},\"id\":\"228be926-963d-4920-af77-f3e2d85105cb\",\"type\":\"Rect\"},{\"attributes\":{\"text\":{\"field\":\"year\"},\"text_color\":{\"value\":\"#0569CE\"},\"text_font_size\":{\"value\":\"20pt\"},\"x\":{\"value\":0.8},\"y\":{\"value\":600}},\"id\":\"6d5a882e-552d-4cb7-87dc-742475ed2f6f\",\"type\":\"Text\"},{\"attributes\":{\"callback\":null,\"column_names\":[\"x\",\"y\",\"width\",\"height\",\"color\",\"fill_alpha\",\"line_color\",\"line_alpha\",\"label\"],\"data\":{\"Intervals\":[\"1000+\"],\"chart_index\":[{\"Intervals\":\"1000+\",\"values\":420.0,\"vars\":\"Tax Units with Tax Increase\"}],\"color\":[\"orange\"],\"fill_alpha\":[0.8],\"height\":[420.0],\"label\":[{\"Intervals\":\"1000+\",\"values\":420.0,\"vars\":\"Tax Units with Tax Increase\"}],\"line_alpha\":[1.0],\"line_color\":[\"white\"],\"values\":[420.0],\"vars\":[\"Tax Units with Tax Increase\"],\"width\":[0.4],\"x\":[\"1000+\"],\"y\":[210.0]}},\"id\":\"f5d87838-5ae3-4bd0-89e6-aaaa1748ab38\",\"type\":\"ColumnDataSource\"},{\"attributes\":{\"callback\":null,\"column_names\":[\"year\"],\"data\":{\"year\":[\"2017\"]}},\"id\":\"db1b6c55-6811-4bab-93f6-d84fb1f7a818\",\"type\":\"ColumnDataSource\"},{\"attributes\":{\"fill_alpha\":{\"field\":\"fill_alpha\"},\"fill_color\":{\"field\":\"color\"},\"height\":{\"field\":\"height\",\"units\":\"data\"},\"line_color\":{\"field\":\"line_color\"},\"width\":{\"field\":\"width\",\"units\":\"data\"},\"x\":{\"field\":\"x\"},\"y\":{\"field\":\"y\"}},\"id\":\"b18f7ccf-789d-4a98-ae5d-074f25ee142d\",\"type\":\"Rect\"},{\"attributes\":{\"dimension\":1,\"plot\":{\"id\":\"dddc1b35-3c10-4002-86d7-a84e75cf8a4d\",\"subtype\":\"Figure\",\"type\":\"Plot\"},\"ticker\":{\"id\":\"feb90b1c-95e6-43e3-bcef-82113e7f53a7\",\"type\":\"BasicTicker\"}},\"id\":\"04c23909-3752-4077-b7ba-b94b3c845988\",\"type\":\"Grid\"},{\"attributes\":{\"children\":[{\"id\":\"dddc1b35-3c10-4002-86d7-a84e75cf8a4d\",\"subtype\":\"Figure\",\"type\":\"Plot\"},{\"id\":\"67bfe673-f67a-45b8-8d91-3d49717072e4\",\"subtype\":\"Chart\",\"type\":\"Plot\"}]},\"id\":\"ba71cd44-6cf6-4e1c-89b7-e3c939536ebb\",\"type\":\"Column\"},{\"attributes\":{\"callback\":null,\"column_names\":[\"Intervals\",\"Tax Units with Tax Cut\",\"Tax Units with Tax Increase\",\"Average Tax Change\",\"index\"],\"data\":{\"Average Tax Change\":{\"__ndarray__\":\"AAAAAAAAAMAAAAAAAEBSwAAAAAAAwGLAAAAAAACwcMAAAAAAAGB3wAAAAAAAaIDAAAAAAAAoh8AAAAAAALiFwAAAAAAAAE3AJQaBlUOL+j+amZmZmdkpQAAAAAAAAAAA\",\"dtype\":\"float64\",\"shape\":[12]},\"Intervals\":[\"Less than 10\",\"10-20\",\"20-30\",\"30-40\",\"40-50\",\"50-75\",\"75-100\",\"100-200\",\"200-500\",\"500-1000\",\"1000+\",\"All\"],\"Tax Units with Tax Cut\":{\"__ndarray__\":\"AAAAAAAIh8Dy0k1iEFgTwCuHFtnOdx/AaJHtfD/1IMB1kxgEVo4kwDVeukkMojPAsHJoke28KsBYObTIdp4xwKrx0k1iEATAAAAAAADAUMAAAAAAAABOwHe+nxovXVXA\",\"dtype\":\"float64\",\"shape\":[12]},\"Tax Units with Tax Increase\":{\"__ndarray__\":\"AAAAAABQf0AAAAAAAEBfQAAAAAAAAF9AAAAAAABAXEAAAAAAAOByQAAAAAAASI5Ag8DKoUW28z8lBoGVQ4sRQNNNYhBYORlASOF6FK5H9T8AAAAAAPiDQClcj8L1CDBA\",\"dtype\":\"float64\",\"shape\":[12]},\"index\":[1,2,3,4,5,6,7,8,9,10,11,12]}},\"id\":\"2ae1893a-d504-4517-b798-92f24f05d23e\",\"type\":\"ColumnDataSource\"},{\"attributes\":{\"active_drag\":\"auto\",\"active_inspect\":\"auto\",\"active_scroll\":\"auto\",\"active_tap\":\"auto\",\"logo\":null,\"tools\":[{\"id\":\"bc7dc852-6a5e-4953-a1f6-8f2af54f852a\",\"type\":\"BoxZoomTool\"},{\"id\":\"73592eb7-c6ba-4ab5-a003-c904204464d4\",\"type\":\"ResetTool\"},{\"id\":\"48d7f072-a5a4-4cc0-965f-579e4142f20a\",\"type\":\"SaveTool\"}]},\"id\":\"54c628df-8c1b-45b9-b1f3-27338f257fd2\",\"type\":\"Toolbar\"},{\"attributes\":{\"data_source\":{\"id\":\"00873bdd-d2e1-4582-b92c-ee90ebea1710\",\"type\":\"ColumnDataSource\"},\"glyph\":{\"id\":\"b18f7ccf-789d-4a98-ae5d-074f25ee142d\",\"type\":\"Rect\"},\"hover_glyph\":null,\"muted_glyph\":null},\"id\":\"e1540e22-3df0-425b-b225-d3f201ff0654\",\"type\":\"GlyphRenderer\"},{\"attributes\":{\"callback\":null,\"column_names\":[\"x\",\"y\",\"width\",\"height\",\"color\",\"fill_alpha\",\"line_color\",\"line_alpha\",\"label\"],\"data\":{\"Intervals\":[\"All\"],\"chart_index\":[{\"Intervals\":\"All\",\"values\":13.76,\"vars\":\"Tax Units with Tax Increase\"}],\"color\":[\"orange\"],\"fill_alpha\":[0.8],\"height\":[13.76],\"label\":[{\"Intervals\":\"All\",\"values\":13.76,\"vars\":\"Tax Units with Tax Increase\"}],\"line_alpha\":[1.0],\"line_color\":[\"white\"],\"values\":[13.76],\"vars\":[\"Tax Units with Tax Increase\"],\"width\":[0.4],\"x\":[\"All\"],\"y\":[6.88]}},\"id\":\"00873bdd-d2e1-4582-b92c-ee90ebea1710\",\"type\":\"ColumnDataSource\"},{\"attributes\":{\"plot\":null,\"text\":\"Average Tax Change\",\"text_color\":{\"value\":\"#0569CE\"}},\"id\":\"9a6c006b-1ed6-4afa-8857-0f8f1c3447ee\",\"type\":\"Title\"},{\"attributes\":{\"children\":[{\"id\":\"5c540682-9413-48ec-9894-b8a2022c83e4\",\"type\":\"Slider\"}]},\"id\":\"f0dce73e-bbfb-4d7c-a3e2-1cd1169b564e\",\"type\":\"WidgetBox\"},{\"attributes\":{\"data_source\":{\"id\":\"3d9df322-83ae-416a-8202-3637c60f4d2a\",\"type\":\"ColumnDataSource\"},\"glyph\":{\"id\":\"0d947d24-1aea-4157-bb8b-5693b51d1708\",\"type\":\"Rect\"},\"hover_glyph\":null,\"muted_glyph\":null},\"id\":\"10b92469-dd9b-4675-afc5-a707f9bced26\",\"type\":\"GlyphRenderer\"},{\"attributes\":{\"data_source\":{\"id\":\"85e23c1a-2fec-4ed3-92ce-e363224a721e\",\"type\":\"ColumnDataSource\"},\"glyph\":{\"id\":\"c95c9f84-42d2-4ace-8784-160b0d134b50\",\"type\":\"Line\"},\"hover_glyph\":null,\"muted_glyph\":null,\"nonselection_glyph\":{\"id\":\"793f3a9f-530f-43cf-90e8-7bc3c2b02405\",\"type\":\"Line\"},\"selection_glyph\":null},\"id\":\"be753281-9657-4df0-8fd3-79a45a108a0c\",\"type\":\"GlyphRenderer\"},{\"attributes\":{\"callback\":null},\"id\":\"c8a5f0cf-751b-47fb-ae0b-fd433f275557\",\"type\":\"DataRange1d\"},{\"attributes\":{\"callback\":null,\"column_names\":[\"Intervals\",\"Tax Units with Tax Cut\",\"Tax Units with Tax Increase\",\"Average Tax Change\",\"index\"],\"data\":{\"Average Tax Change\":{\"__ndarray__\":\"AAAAAAAACMAAAAAAAIBSwAAAAAAAQGPAAAAAAAAgccAAAAAAADB3wAAAAAAAgIDAAAAAAAC4hsAAAAAAAPCEwAAAAAAAADfAw/UoXI/C+z+DwMqhRbYpQAAAAAAAAAAA\",\"dtype\":\"float64\",\"shape\":[12]},\"Intervals\":[\"Less than 10\",\"10-20\",\"20-30\",\"30-40\",\"40-50\",\"50-75\",\"75-100\",\"100-200\",\"200-500\",\"500-1000\",\"1000+\",\"All\"],\"Tax Units with Tax Cut\":{\"__ndarray__\":\"AAAAAACAicDn+6nx0k0UwFyPwvUoHCDAzczMzMwMIsC28/3UeOkjwAwCK4cWmTPAI9v5fmr8KcAtsp3vp6YwwPT91HjpJgHAAAAAAACAUcAAAAAAAABMwD81XrpJHFXA\",\"dtype\":\"float64\",\"shape\":[12]},\"Tax Units with Tax Increase\":{\"__ndarray__\":\"AAAAAACAf0AAAAAAAEBdQAAAAAAAQGBAAAAAAABAXkAAAAAAAGB0QAAAAAAAuI5AAAAAAAAA9D/6fmq8dJMRQFg5tMh2PhhAgZVDi2zn8z8AAAAAANCCQAisHFpkey9A\",\"dtype\":\"float64\",\"shape\":[12]},\"index\":[1,2,3,4,5,6,7,8,9,10,11,12]}},\"id\":\"4abc6e58-b267-455d-8463-69b74b33de9d\",\"type\":\"ColumnDataSource\"},{\"attributes\":{\"callback\":null,\"column_names\":[\"x\",\"y\"],\"data\":{\"x\":[0,1,2,3,4,5,6,7,8,9,10,11],\"y\":{\"__ndarray__\":\"AAAAAAAAIMAAAAAAAEBUwAAAAAAAAGfAAAAAAACQcsAAAAAAACB3wAAAAAAASIHAAAAAAAAIgsAAAAAAAACAwAAAAAAAoG5A46WbxCCwA0AzMzMzM3MsQAAAAAAAAAAA\",\"dtype\":\"float64\",\"shape\":[12]}}},\"id\":\"04be7139-50c7-4c34-83e8-0b977d03ace4\",\"type\":\"ColumnDataSource\"},{\"attributes\":{\"fill_alpha\":{\"field\":\"fill_alpha\"},\"fill_color\":{\"field\":\"color\"},\"height\":{\"field\":\"height\",\"units\":\"data\"},\"line_color\":{\"field\":\"line_color\"},\"width\":{\"field\":\"width\",\"units\":\"data\"},\"x\":{\"field\":\"x\"},\"y\":{\"field\":\"y\"}},\"id\":\"754e9c22-f149-4760-b0bb-168aab2783e5\",\"type\":\"Rect\"},{\"attributes\":{\"data_source\":{\"id\":\"3b645d85-ce56-43f4-abcf-339eb0cac77c\",\"type\":\"ColumnDataSource\"},\"glyph\":{\"id\":\"228be926-963d-4920-af77-f3e2d85105cb\",\"type\":\"Rect\"},\"hover_glyph\":null,\"muted_glyph\":null},\"id\":\"b9e3e7a0-b633-41a4-8bf1-cc01d7e7a384\",\"type\":\"GlyphRenderer\"},{\"attributes\":{\"children\":[{\"id\":\"f0dce73e-bbfb-4d7c-a3e2-1cd1169b564e\",\"type\":\"WidgetBox\"}]},\"id\":\"f2eaa808-eba9-47a3-9799-7a8eae891b18\",\"type\":\"Row\"},{\"attributes\":{\"fill_alpha\":{\"field\":\"fill_alpha\"},\"fill_color\":{\"field\":\"color\"},\"height\":{\"field\":\"height\",\"units\":\"data\"},\"line_color\":{\"field\":\"line_color\"},\"width\":{\"field\":\"width\",\"units\":\"data\"},\"x\":{\"field\":\"x\"},\"y\":{\"field\":\"y\"}},\"id\":\"0d947d24-1aea-4157-bb8b-5693b51d1708\",\"type\":\"Rect\"},{\"attributes\":{\"callback\":null,\"column_names\":[\"x\",\"y\",\"width\",\"height\",\"color\",\"fill_alpha\",\"line_color\",\"line_alpha\",\"label\"],\"data\":{\"Intervals\":[\"10-20\"],\"chart_index\":[{\"Intervals\":\"10-20\",\"values\":-7.015,\"vars\":\"Tax Units with Tax Cut\"}],\"color\":[\"silver\"],\"fill_alpha\":[0.8],\"height\":[-7.015],\"label\":[{\"Intervals\":\"10-20\",\"values\":-7.015,\"vars\":\"Tax Units with Tax Cut\"}],\"line_alpha\":[1.0],\"line_color\":[\"white\"],\"values\":[-7.015],\"vars\":[\"Tax Units with Tax Cut\"],\"width\":[0.4],\"x\":[\"10-20\"],\"y\":[-3.5075]}},\"id\":\"3b645d85-ce56-43f4-abcf-339eb0cac77c\",\"type\":\"ColumnDataSource\"},{\"attributes\":{},\"id\":\"ae856179-a8a5-458d-ad69-00a5304dfdfd\",\"type\":\"LinearScale\"},{\"attributes\":{\"fill_alpha\":{\"field\":\"fill_alpha\"},\"fill_color\":{\"field\":\"color\"},\"height\":{\"field\":\"height\",\"units\":\"data\"},\"line_color\":{\"field\":\"line_color\"},\"width\":{\"field\":\"width\",\"units\":\"data\"},\"x\":{\"field\":\"x\"},\"y\":{\"field\":\"y\"}},\"id\":\"a007d25d-e6af-4d1c-9ae2-1428c80b84f5\",\"type\":\"Rect\"},{\"attributes\":{\"fill_alpha\":{\"field\":\"fill_alpha\"},\"fill_color\":{\"field\":\"color\"},\"height\":{\"field\":\"height\",\"units\":\"data\"},\"line_color\":{\"field\":\"line_color\"},\"width\":{\"field\":\"width\",\"units\":\"data\"},\"x\":{\"field\":\"x\"},\"y\":{\"field\":\"y\"}},\"id\":\"51f478b1-0627-4ce5-b03a-86772f7c568f\",\"type\":\"Rect\"},{\"attributes\":{\"fill_alpha\":{\"field\":\"fill_alpha\"},\"fill_color\":{\"field\":\"color\"},\"height\":{\"field\":\"height\",\"units\":\"data\"},\"line_color\":{\"field\":\"line_color\"},\"width\":{\"field\":\"width\",\"units\":\"data\"},\"x\":{\"field\":\"x\"},\"y\":{\"field\":\"y\"}},\"id\":\"cfba4647-d207-4f64-a176-9587f9ba3769\",\"type\":\"Rect\"},{\"attributes\":{\"callback\":null,\"column_names\":[\"Intervals\",\"Tax Units with Tax Cut\",\"Tax Units with Tax Increase\",\"Average Tax Change\",\"index\"],\"data\":{\"Average Tax Change\":{\"__ndarray__\":\"AAAAAAAAEMAAAAAAAABTwAAAAAAA4GPAAAAAAADQccAAAAAAAMB2wAAAAAAA0IDAAAAAAACIhcAAAAAAAIiDwAAAAAAAgEZA1HjpJjEI/j+WQ4ts53spQAAAAAAAAAAA\",\"dtype\":\"float64\",\"shape\":[12]},\"Intervals\":[\"Less than 10\",\"10-20\",\"20-30\",\"30-40\",\"40-50\",\"50-75\",\"75-100\",\"100-200\",\"200-500\",\"500-1000\",\"1000+\",\"All\"],\"Tax Units with Tax Cut\":{\"__ndarray__\":\"KVyPwvUo8L9GtvP91PgVwNNNYhBYeSDAdZMYBFaOJMDJdr6fGm8iwO58PzVeujPAMzMzMzPzJ8CkcD0K1+MtwC2yne+nxvm/AAAAAADAUMAAAAAAAIBJwKwcWmQ7p1TA\",\"dtype\":\"float64\",\"shape\":[12]},\"Tax Units with Tax Increase\":{\"__ndarray__\":\"AAAAAACgf0AAAAAAAABbQAAAAAAAAF5AAAAAAAAAYkAAAAAAAKB1QPT91HjpJvE/vHSTGARW9D9YObTIdr4RQP7UeOkmMRZAXrpJDAIr8T8AAAAAALiAQKJFtvP9VC5A\",\"dtype\":\"float64\",\"shape\":[12]},\"index\":[1,2,3,4,5,6,7,8,9,10,11,12]}},\"id\":\"a71e161c-dffa-4ee8-b751-dc1b129ecb40\",\"type\":\"ColumnDataSource\"},{\"attributes\":{},\"id\":\"03742330-5c2a-4d44-bd00-4e9c1cf5d887\",\"type\":\"CategoricalTickFormatter\"},{\"attributes\":{\"callback\":null,\"column_names\":[\"Intervals\",\"Tax Units with Tax Cut\",\"Tax Units with Tax Increase\",\"Average Tax Change\",\"index\"],\"data\":{\"Average Tax Change\":{\"__ndarray__\":\"AAAAAAAAFMAAAAAAAABTwAAAAAAAQGTAAAAAAAAAcsAAAAAAAAB3wAAAAAAA6IDAAAAAAADwhMAAAAAAALCCwAAAAAAAAFJARbbz/dR4/z9BYOXQIpspQAAAAAAAAAAA\",\"dtype\":\"float64\",\"shape\":[12]},\"Intervals\":[\"Less than 10\",\"10-20\",\"20-30\",\"30-40\",\"40-50\",\"50-75\",\"75-100\",\"100-200\",\"200-500\",\"500-1000\",\"1000+\",\"All\"],\"Tax Units with Tax Cut\":{\"__ndarray__\":\"nMQgsHJo8b+wcmiR7fwWwMP1KFyPgiDA0SLb+X7qJcBt5/up8VIiwJHtfD81XjPA8KfGSzcJJ8CuR+F6FC4swKRwPQrXo/a/AAAAAADAUMAAAAAAAABIwMuhRbbzbVTA\",\"dtype\":\"float64\",\"shape\":[12]},\"Tax Units with Tax Increase\":{\"__ndarray__\":\"AAAAAAAAf0AAAAAAAIBcQAAAAAAAAFlAAAAAAACAZkAAAAAAAEB1QCuHFtnO9/E/5dAi2/l+9D+8dJMYBNYRQDMzMzMzMxVAAAAAAADojkAAAAAAAIB/QNV46SYxyC1A\",\"dtype\":\"float64\",\"shape\":[12]},\"index\":[1,2,3,4,5,6,7,8,9,10,11,12]}},\"id\":\"af6df5a0-5274-48af-aef4-2e562fa75137\",\"type\":\"ColumnDataSource\"},{\"attributes\":{\"data_source\":{\"id\":\"3cdd06f1-c484-40d1-8937-191ad8817b8e\",\"type\":\"ColumnDataSource\"},\"glyph\":{\"id\":\"51f478b1-0627-4ce5-b03a-86772f7c568f\",\"type\":\"Rect\"},\"hover_glyph\":null,\"muted_glyph\":null},\"id\":\"5de3c992-474d-44e5-afaa-2f2692aa0362\",\"type\":\"GlyphRenderer\"},{\"attributes\":{\"callback\":null,\"column_names\":[\"x\",\"y\",\"width\",\"height\",\"color\",\"fill_alpha\",\"line_color\",\"line_alpha\",\"label\"],\"data\":{\"Intervals\":[\"75-100\"],\"chart_index\":[{\"Intervals\":\"75-100\",\"values\":-9.208,\"vars\":\"Tax Units with Tax Cut\"}],\"color\":[\"silver\"],\"fill_alpha\":[0.8],\"height\":[-9.208],\"label\":[{\"Intervals\":\"75-100\",\"values\":-9.208,\"vars\":\"Tax Units with Tax Cut\"}],\"line_alpha\":[1.0],\"line_color\":[\"white\"],\"values\":[-9.208],\"vars\":[\"Tax Units with Tax Cut\"],\"width\":[0.4],\"x\":[\"75-100\"],\"y\":[-4.604]}},\"id\":\"3d9df322-83ae-416a-8202-3637c60f4d2a\",\"type\":\"ColumnDataSource\"},{\"attributes\":{},\"id\":\"23f33536-30de-42b4-a5f0-8b9149485aeb\",\"type\":\"CategoricalTicker\"},{\"attributes\":{\"plot\":{\"id\":\"dddc1b35-3c10-4002-86d7-a84e75cf8a4d\",\"subtype\":\"Figure\",\"type\":\"Plot\"}},\"id\":\"73592eb7-c6ba-4ab5-a003-c904204464d4\",\"type\":\"ResetTool\"},{\"attributes\":{\"callback\":null,\"column_names\":[\"x\",\"y\",\"width\",\"height\",\"color\",\"fill_alpha\",\"line_color\",\"line_alpha\",\"label\"],\"data\":{\"Intervals\":[\"75-100\"],\"chart_index\":[{\"Intervals\":\"75-100\",\"values\":1.294,\"vars\":\"Tax Units with Tax Increase\"}],\"color\":[\"orange\"],\"fill_alpha\":[0.8],\"height\":[1.294],\"label\":[{\"Intervals\":\"75-100\",\"values\":1.294,\"vars\":\"Tax Units with Tax Increase\"}],\"line_alpha\":[1.0],\"line_color\":[\"white\"],\"values\":[1.294],\"vars\":[\"Tax Units with Tax Increase\"],\"width\":[0.4],\"x\":[\"75-100\"],\"y\":[0.647]}},\"id\":\"d5ce652e-5951-4a10-bf67-9fb63fe41a89\",\"type\":\"ColumnDataSource\"},{\"attributes\":{\"callback\":null,\"column_names\":[\"x\",\"y\",\"width\",\"height\",\"color\",\"fill_alpha\",\"line_color\",\"line_alpha\",\"label\"],\"data\":{\"Intervals\":[\"10-20\"],\"chart_index\":[{\"Intervals\":\"10-20\",\"values\":111.0,\"vars\":\"Tax Units with Tax Increase\"}],\"color\":[\"orange\"],\"fill_alpha\":[0.8],\"height\":[111.0],\"label\":[{\"Intervals\":\"10-20\",\"values\":111.0,\"vars\":\"Tax Units with Tax Increase\"}],\"line_alpha\":[1.0],\"line_color\":[\"white\"],\"values\":[111.0],\"vars\":[\"Tax Units with Tax Increase\"],\"width\":[0.4],\"x\":[\"10-20\"],\"y\":[55.5]}},\"id\":\"3cdd06f1-c484-40d1-8937-191ad8817b8e\",\"type\":\"ColumnDataSource\"},{\"attributes\":{\"callback\":null,\"column_names\":[\"Intervals\",\"Tax Units with Tax Cut\",\"Tax Units with Tax Increase\",\"Average Tax Change\",\"index\"],\"data\":{\"Average Tax Change\":{\"__ndarray__\":\"AAAAAAAACMAAAAAAAEBTwAAAAAAAQGPAAAAAAACAccAAAAAAADB3wAAAAAAAqIDAAAAAAAA4hsAAAAAAACiEwAAAAAAAAChAYxBYObTI/D+WQ4ts53spQAAAAAAAAAAA\",\"dtype\":\"float64\",\"shape\":[12]},\"Intervals\":[\"Less than 10\",\"10-20\",\"20-30\",\"30-40\",\"40-50\",\"50-75\",\"75-100\",\"100-200\",\"200-500\",\"500-1000\",\"1000+\",\"All\"],\"Tax Units with Tax Cut\":{\"__ndarray__\":\"AAAAAABwjMBmZmZmZmYVwIts5/upMSDAUI2XbhKDI8B7FK5H4foiwDVeukkMwjPA2c73U+PlKMD0/dR46WYvwOkmMQisHP6/AAAAAABAUcAAAAAAAABLwPCnxks34VTA\",\"dtype\":\"float64\",\"shape\":[12]},\"Tax Units with Tax Increase\":{\"__ndarray__\":\"AAAAAAAQgEAAAAAAAEBaQAAAAAAAQF5AAAAAAADAYUAAAAAAANByQCGwcmiR7fA/xSCwcmiR8z9YObTIdr4RQPhT46WbRBdA5/up8dJN8j8AAAAAALiBQDm0yHa+3y5A\",\"dtype\":\"float64\",\"shape\":[12]},\"index\":[1,2,3,4,5,6,7,8,9,10,11,12]}},\"id\":\"cc0850cb-debf-4cc8-801a-5345138765bf\",\"type\":\"ColumnDataSource\"},{\"attributes\":{\"axis_label\":\"Income [$ thousands]\",\"formatter\":{\"id\":\"1045963d-2684-422f-b318-86d02ad83aae\",\"type\":\"BasicTickFormatter\"},\"plot\":{\"id\":\"dddc1b35-3c10-4002-86d7-a84e75cf8a4d\",\"subtype\":\"Figure\",\"type\":\"Plot\"},\"ticker\":{\"id\":\"c028f61a-cb29-4e51-b1af-ecca302c0d97\",\"type\":\"BasicTicker\"}},\"id\":\"57ea441b-4e5b-4865-8541-afb9a95dda16\",\"type\":\"LinearAxis\"},{\"attributes\":{\"data_source\":{\"id\":\"c40d26e7-015e-4d00-b411-f405a7f83b4b\",\"type\":\"ColumnDataSource\"},\"glyph\":{\"id\":\"bb9b508a-21ae-41f4-9999-dd1a36729605\",\"type\":\"Rect\"},\"hover_glyph\":null,\"muted_glyph\":null},\"id\":\"4eff1fcc-6e34-4ba8-95c3-20cf3c6f94f1\",\"type\":\"GlyphRenderer\"},{\"attributes\":{\"bottom_units\":\"screen\",\"fill_alpha\":{\"value\":0.5},\"fill_color\":{\"value\":\"lightgrey\"},\"left_units\":\"screen\",\"level\":\"overlay\",\"line_alpha\":{\"value\":1.0},\"line_color\":{\"value\":\"black\"},\"line_dash\":[4,4],\"line_width\":{\"value\":2},\"plot\":null,\"render_mode\":\"css\",\"right_units\":\"screen\",\"top_units\":\"screen\"},\"id\":\"384aad4f-fb1f-4a57-9d2d-44533e29e778\",\"type\":\"BoxAnnotation\"},{\"attributes\":{\"data_source\":{\"id\":\"c5d2d142-04f9-4bd8-858a-0ff0777ca576\",\"type\":\"ColumnDataSource\"},\"glyph\":{\"id\":\"cfba4647-d207-4f64-a176-9587f9ba3769\",\"type\":\"Rect\"},\"hover_glyph\":null,\"muted_glyph\":null},\"id\":\"998b79d1-9795-4955-87af-84d34cbe20fc\",\"type\":\"GlyphRenderer\"},{\"attributes\":{\"callback\":null,\"end\":710.95,\"start\":-691.95},\"id\":\"56959573-baee-4fe5-bf9a-505e9281d3da\",\"type\":\"Range1d\"},{\"attributes\":{\"overlay\":{\"id\":\"384aad4f-fb1f-4a57-9d2d-44533e29e778\",\"type\":\"BoxAnnotation\"},\"plot\":{\"id\":\"dddc1b35-3c10-4002-86d7-a84e75cf8a4d\",\"subtype\":\"Figure\",\"type\":\"Plot\"}},\"id\":\"bc7dc852-6a5e-4953-a1f6-8f2af54f852a\",\"type\":\"BoxZoomTool\"},{\"attributes\":{},\"id\":\"c028f61a-cb29-4e51-b1af-ecca302c0d97\",\"type\":\"BasicTicker\"},{\"attributes\":{\"fill_alpha\":{\"field\":\"fill_alpha\"},\"fill_color\":{\"field\":\"color\"},\"height\":{\"field\":\"height\",\"units\":\"data\"},\"line_color\":{\"field\":\"line_color\"},\"width\":{\"field\":\"width\",\"units\":\"data\"},\"x\":{\"field\":\"x\"},\"y\":{\"field\":\"y\"}},\"id\":\"bb9b508a-21ae-41f4-9999-dd1a36729605\",\"type\":\"Rect\"},{\"attributes\":{\"callback\":null,\"column_names\":[\"x\",\"y\",\"width\",\"height\",\"color\",\"fill_alpha\",\"line_color\",\"line_alpha\",\"label\"],\"data\":{\"Intervals\":[\"20-30\"],\"chart_index\":[{\"Intervals\":\"20-30\",\"values\":-9.483,\"vars\":\"Tax Units with Tax Cut\"}],\"color\":[\"silver\"],\"fill_alpha\":[0.8],\"height\":[-9.483],\"label\":[{\"Intervals\":\"20-30\",\"values\":-9.483,\"vars\":\"Tax Units with Tax Cut\"}],\"line_alpha\":[1.0],\"line_color\":[\"white\"],\"values\":[-9.483],\"vars\":[\"Tax Units with Tax Cut\"],\"width\":[0.4],\"x\":[\"20-30\"],\"y\":[-4.7415]}},\"id\":\"c5d2d142-04f9-4bd8-858a-0ff0777ca576\",\"type\":\"ColumnDataSource\"},{\"attributes\":{},\"id\":\"feb90b1c-95e6-43e3-bcef-82113e7f53a7\",\"type\":\"BasicTicker\"},{\"attributes\":{\"fill_alpha\":{\"field\":\"fill_alpha\"},\"fill_color\":{\"field\":\"color\"},\"height\":{\"field\":\"height\",\"units\":\"data\"},\"line_color\":{\"field\":\"line_color\"},\"width\":{\"field\":\"width\",\"units\":\"data\"},\"x\":{\"field\":\"x\"},\"y\":{\"field\":\"y\"}},\"id\":\"2d2c607c-5e62-48a7-b39c-5bc560711e3e\",\"type\":\"Rect\"},{\"attributes\":{\"fill_alpha\":{\"field\":\"fill_alpha\"},\"fill_color\":{\"field\":\"color\"},\"height\":{\"field\":\"height\",\"units\":\"data\"},\"line_color\":{\"field\":\"line_color\"},\"width\":{\"field\":\"width\",\"units\":\"data\"},\"x\":{\"field\":\"x\"},\"y\":{\"field\":\"y\"}},\"id\":\"a5e3c807-df0a-438a-869f-f3da3f888515\",\"type\":\"Rect\"},{\"attributes\":{},\"id\":\"7176f655-5797-468c-aea2-08c1944c1d6e\",\"type\":\"ToolEvents\"},{\"attributes\":{\"plot\":null,\"text\":null},\"id\":\"b9462428-8dfc-4456-b142-3df242a8d62f\",\"type\":\"Title\"},{\"attributes\":{\"callback\":null,\"column_names\":[\"x\",\"y\",\"width\",\"height\",\"color\",\"fill_alpha\",\"line_color\",\"line_alpha\",\"label\"],\"data\":{\"Intervals\":[\"20-30\"],\"chart_index\":[{\"Intervals\":\"20-30\",\"values\":106.0,\"vars\":\"Tax Units with Tax Increase\"}],\"color\":[\"orange\"],\"fill_alpha\":[0.8],\"height\":[106.0],\"label\":[{\"Intervals\":\"20-30\",\"values\":106.0,\"vars\":\"Tax Units with Tax Increase\"}],\"line_alpha\":[1.0],\"line_color\":[\"white\"],\"values\":[106.0],\"vars\":[\"Tax Units with Tax Increase\"],\"width\":[0.4],\"x\":[\"20-30\"],\"y\":[53.0]}},\"id\":\"c40d26e7-015e-4d00-b411-f405a7f83b4b\",\"type\":\"ColumnDataSource\"},{\"attributes\":{},\"id\":\"410d2c1e-7977-4d98-8b80-de1badd5eba6\",\"type\":\"LinearScale\"},{\"attributes\":{\"callback\":null,\"column_names\":[\"x\",\"y\",\"width\",\"height\",\"color\",\"fill_alpha\",\"line_color\",\"line_alpha\",\"label\"],\"data\":{\"Intervals\":[\"Less than 10\"],\"chart_index\":[{\"Intervals\":\"Less than 10\",\"values\":477.0,\"vars\":\"Tax Units with Tax Increase\"}],\"color\":[\"orange\"],\"fill_alpha\":[0.8],\"height\":[477.0],\"label\":[{\"Intervals\":\"Less than 10\",\"values\":477.0,\"vars\":\"Tax Units with Tax Increase\"}],\"line_alpha\":[1.0],\"line_color\":[\"white\"],\"values\":[477.0],\"vars\":[\"Tax Units with Tax Increase\"],\"width\":[0.4],\"x\":[\"Less than 10\"],\"y\":[238.5]}},\"id\":\"3d1cbe08-755c-4ae4-bd24-45f66e5ad7e9\",\"type\":\"ColumnDataSource\"},{\"attributes\":{\"formatter\":{\"id\":\"0741f848-a8b7-4687-b1aa-5ff87cb80735\",\"type\":\"BasicTickFormatter\"},\"plot\":{\"id\":\"dddc1b35-3c10-4002-86d7-a84e75cf8a4d\",\"subtype\":\"Figure\",\"type\":\"Plot\"},\"ticker\":{\"id\":\"feb90b1c-95e6-43e3-bcef-82113e7f53a7\",\"type\":\"BasicTicker\"}},\"id\":\"acec2aa4-ebab-48ad-9837-2be3a41db689\",\"type\":\"LinearAxis\"},{\"attributes\":{\"callback\":null,\"column_names\":[\"x\",\"y\"],\"data\":{\"x\":[0,1,2,3,4,5,6,7,8,9,10,11],\"y\":{\"__ndarray__\":\"AAAAAAAAIMAAAAAAAEBUwAAAAAAAAGfAAAAAAACQcsAAAAAAACB3wAAAAAAASIHAAAAAAAAIgsAAAAAAAACAwAAAAAAAoG5A46WbxCCwA0AzMzMzM3MsQAAAAAAAAAAA\",\"dtype\":\"float64\",\"shape\":[12]}}},\"id\":\"85e23c1a-2fec-4ed3-92ce-e363224a721e\",\"type\":\"ColumnDataSource\"},{\"attributes\":{\"callback\":null,\"column_names\":[\"x\",\"y\",\"width\",\"height\",\"color\",\"fill_alpha\",\"line_color\",\"line_alpha\",\"label\"],\"data\":{\"Intervals\":[\"30-40\"],\"chart_index\":[{\"Intervals\":\"30-40\",\"values\":-11.352,\"vars\":\"Tax Units with Tax Cut\"}],\"color\":[\"silver\"],\"fill_alpha\":[0.8],\"height\":[-11.352],\"label\":[{\"Intervals\":\"30-40\",\"values\":-11.352,\"vars\":\"Tax Units with Tax Cut\"}],\"line_alpha\":[1.0],\"line_color\":[\"white\"],\"values\":[-11.352],\"vars\":[\"Tax Units with Tax Cut\"],\"width\":[0.4],\"x\":[\"30-40\"],\"y\":[-5.676]}},\"id\":\"35706bd2-4a7e-4cb9-bffa-25bc7dbfd184\",\"type\":\"ColumnDataSource\"},{\"attributes\":{\"below\":[{\"id\":\"57ea441b-4e5b-4865-8541-afb9a95dda16\",\"type\":\"LinearAxis\"}],\"left\":[{\"id\":\"acec2aa4-ebab-48ad-9837-2be3a41db689\",\"type\":\"LinearAxis\"}],\"plot_height\":200,\"renderers\":[{\"id\":\"57ea441b-4e5b-4865-8541-afb9a95dda16\",\"type\":\"LinearAxis\"},{\"id\":\"9ecbb8d5-16ed-4b80-8fe2-852b5297027e\",\"type\":\"Grid\"},{\"id\":\"acec2aa4-ebab-48ad-9837-2be3a41db689\",\"type\":\"LinearAxis\"},{\"id\":\"04c23909-3752-4077-b7ba-b94b3c845988\",\"type\":\"Grid\"},{\"id\":\"384aad4f-fb1f-4a57-9d2d-44533e29e778\",\"type\":\"BoxAnnotation\"},{\"id\":\"be753281-9657-4df0-8fd3-79a45a108a0c\",\"type\":\"GlyphRenderer\"},{\"id\":\"4a7b2b72-50fb-4305-8c12-0af1ab2080d0\",\"type\":\"GlyphRenderer\"}],\"title\":{\"id\":\"9a6c006b-1ed6-4afa-8857-0f8f1c3447ee\",\"type\":\"Title\"},\"tool_events\":{\"id\":\"7176f655-5797-468c-aea2-08c1944c1d6e\",\"type\":\"ToolEvents\"},\"toolbar\":{\"id\":\"54c628df-8c1b-45b9-b1f3-27338f257fd2\",\"type\":\"Toolbar\"},\"toolbar_sticky\":false,\"x_range\":{\"id\":\"c8a5f0cf-751b-47fb-ae0b-fd433f275557\",\"type\":\"DataRange1d\"},\"x_scale\":{\"id\":\"410d2c1e-7977-4d98-8b80-de1badd5eba6\",\"type\":\"LinearScale\"},\"y_range\":{\"id\":\"92ef5b87-eaa2-447b-80f9-4d920e98cd13\",\"type\":\"DataRange1d\"},\"y_scale\":{\"id\":\"ae856179-a8a5-458d-ad69-00a5304dfdfd\",\"type\":\"LinearScale\"}},\"id\":\"dddc1b35-3c10-4002-86d7-a84e75cf8a4d\",\"subtype\":\"Figure\",\"type\":\"Plot\"},{\"attributes\":{\"below\":[{\"id\":\"d3da5d2a-dcef-45e8-a61e-89ee5b423494\",\"type\":\"CategoricalAxis\"}],\"css_classes\":null,\"left\":[{\"id\":\"32d9ec2a-f7c4-42b3-92b4-0c543217b492\",\"type\":\"LinearAxis\"}],\"plot_height\":500,\"renderers\":[{\"id\":\"2fac7ccb-df1a-4bd7-9603-8542c3011ed6\",\"type\":\"BoxAnnotation\"},{\"id\":\"82066392-8fcb-4ae6-a060-9acc8a8befac\",\"type\":\"GlyphRenderer\"},{\"id\":\"5de3c992-474d-44e5-afaa-2f2692aa0362\",\"type\":\"GlyphRenderer\"},{\"id\":\"4eff1fcc-6e34-4ba8-95c3-20cf3c6f94f1\",\"type\":\"GlyphRenderer\"},{\"id\":\"64c879d5-5e01-4e1d-9799-24c6415b40a3\",\"type\":\"GlyphRenderer\"},{\"id\":\"c1ada937-0a11-4e81-8b93-c3c8a58e2075\",\"type\":\"GlyphRenderer\"},{\"id\":\"f5555b3d-d769-4afd-b7bc-db1ca9e707d3\",\"type\":\"GlyphRenderer\"},{\"id\":\"4788dd74-5722-456d-94cd-637b6a116822\",\"type\":\"GlyphRenderer\"},{\"id\":\"a1693183-06cd-4f17-9317-e4e48d0b7828\",\"type\":\"GlyphRenderer\"},{\"id\":\"ec822fa7-70da-4593-91f9-69e9803ecb73\",\"type\":\"GlyphRenderer\"},{\"id\":\"5bd5a2ba-83f1-449e-a33b-79f13d43ce14\",\"type\":\"GlyphRenderer\"},{\"id\":\"059ee57a-b6ac-4f32-8bb3-5df9265f8154\",\"type\":\"GlyphRenderer\"},{\"id\":\"e1540e22-3df0-425b-b225-d3f201ff0654\",\"type\":\"GlyphRenderer\"},{\"id\":\"20c7fe5d-3510-4501-8788-80e8c27ada40\",\"type\":\"GlyphRenderer\"},{\"id\":\"b9e3e7a0-b633-41a4-8bf1-cc01d7e7a384\",\"type\":\"GlyphRenderer\"},{\"id\":\"998b79d1-9795-4955-87af-84d34cbe20fc\",\"type\":\"GlyphRenderer\"},{\"id\":\"a7693b0f-5a81-49a9-8098-e4f3afea7c37\",\"type\":\"GlyphRenderer\"},{\"id\":\"4182d05b-7765-4656-ba88-bc8ae37cf5e7\",\"type\":\"GlyphRenderer\"},{\"id\":\"dcb46136-f990-42b0-af23-9394ecb06194\",\"type\":\"GlyphRenderer\"},{\"id\":\"10b92469-dd9b-4675-afc5-a707f9bced26\",\"type\":\"GlyphRenderer\"},{\"id\":\"aeb1f0e0-3d51-4f18-88d5-28e28765e0bd\",\"type\":\"GlyphRenderer\"},{\"id\":\"4c53b925-a805-4315-9505-34a899f2146c\",\"type\":\"GlyphRenderer\"},{\"id\":\"43c14b0b-3a5b-43c3-8a93-0cf0050a2d25\",\"type\":\"GlyphRenderer\"},{\"id\":\"a646c1df-cfe0-4535-9256-ad5b6c1b998f\",\"type\":\"GlyphRenderer\"},{\"id\":\"c5a7e02a-61a2-4880-a346-5273c550c9d8\",\"type\":\"GlyphRenderer\"},{\"id\":\"d3da5d2a-dcef-45e8-a61e-89ee5b423494\",\"type\":\"CategoricalAxis\"},{\"id\":\"32d9ec2a-f7c4-42b3-92b4-0c543217b492\",\"type\":\"LinearAxis\"},{\"id\":\"4b216cd7-6035-4210-81bf-4ab68a593b00\",\"type\":\"Grid\"},{\"id\":\"f9c25808-1cdc-4598-8d2f-a32d40f4aa75\",\"type\":\"GlyphRenderer\"}],\"title\":{\"id\":\"b9462428-8dfc-4456-b142-3df242a8d62f\",\"type\":\"Title\"},\"tool_events\":{\"id\":\"8319ea9a-999b-4426-b75b-fa5ff25735c6\",\"type\":\"ToolEvents\"},\"toolbar\":{\"id\":\"75c85155-660f-4f55-b3f3-d95fd084377c\",\"type\":\"Toolbar\"},\"toolbar_sticky\":false,\"x_range\":{\"id\":\"9c27643c-09d7-4011-b30b-58f5b64aede7\",\"type\":\"FactorRange\"},\"x_scale\":{\"id\":\"4e0344a5-20eb-4d0a-b378-cb867df03abd\",\"type\":\"CategoricalScale\"},\"y_range\":{\"id\":\"56959573-baee-4fe5-bf9a-505e9281d3da\",\"type\":\"Range1d\"},\"y_scale\":{\"id\":\"e52dd714-1bcf-4e34-8f58-bce3eacfd132\",\"type\":\"LinearScale\"}},\"id\":\"67bfe673-f67a-45b8-8d91-3d49717072e4\",\"subtype\":\"Chart\",\"type\":\"Plot\"},{\"attributes\":{\"data_source\":{\"id\":\"35706bd2-4a7e-4cb9-bffa-25bc7dbfd184\",\"type\":\"ColumnDataSource\"},\"glyph\":{\"id\":\"a5e3c807-df0a-438a-869f-f3da3f888515\",\"type\":\"Rect\"},\"hover_glyph\":null,\"muted_glyph\":null},\"id\":\"a7693b0f-5a81-49a9-8098-e4f3afea7c37\",\"type\":\"GlyphRenderer\"},{\"attributes\":{\"fill_alpha\":{\"field\":\"fill_alpha\"},\"fill_color\":{\"field\":\"color\"},\"height\":{\"field\":\"height\",\"units\":\"data\"},\"line_color\":{\"field\":\"line_color\"},\"width\":{\"field\":\"width\",\"units\":\"data\"},\"x\":{\"field\":\"x\"},\"y\":{\"field\":\"y\"}},\"id\":\"12d376cf-2cc2-48f7-b00c-55fe63407c8e\",\"type\":\"Rect\"},{\"attributes\":{\"fill_alpha\":{\"field\":\"fill_alpha\"},\"fill_color\":{\"field\":\"color\"},\"height\":{\"field\":\"height\",\"units\":\"data\"},\"line_color\":{\"field\":\"line_color\"},\"width\":{\"field\":\"width\",\"units\":\"data\"},\"x\":{\"field\":\"x\"},\"y\":{\"field\":\"y\"}},\"id\":\"913337d1-42d5-4c9b-9734-e14fcaa13437\",\"type\":\"Rect\"},{\"attributes\":{},\"id\":\"1045963d-2684-422f-b318-86d02ad83aae\",\"type\":\"BasicTickFormatter\"},{\"attributes\":{\"fill_alpha\":{\"field\":\"fill_alpha\"},\"fill_color\":{\"field\":\"color\"},\"height\":{\"field\":\"height\",\"units\":\"data\"},\"line_color\":{\"field\":\"line_color\"},\"width\":{\"field\":\"width\",\"units\":\"data\"},\"x\":{\"field\":\"x\"},\"y\":{\"field\":\"y\"}},\"id\":\"7c73cc50-9214-4520-b9c8-774e668ddf61\",\"type\":\"Rect\"},{\"attributes\":{\"callback\":null,\"column_names\":[\"Intervals\",\"Tax Units with Tax Cut\",\"Tax Units with Tax Increase\",\"Average Tax Change\",\"index\"],\"data\":{\"Average Tax Change\":{\"__ndarray__\":\"AAAAAAAAHMAAAAAAAABUwAAAAAAAgGbAAAAAAACAcsAAAAAAACB3wAAAAAAASIHAAAAAAACQgsAAAAAAAJCAwAAAAAAAYGpAI9v5fmq8AkCgGi/dJMYrQAAAAAAAAAAA\",\"dtype\":\"float64\",\"shape\":[12]},\"Intervals\":[\"Less than 10\",\"10-20\",\"20-30\",\"30-40\",\"40-50\",\"50-75\",\"75-100\",\"100-200\",\"200-500\",\"500-1000\",\"1000+\",\"All\"],\"Tax Units with Tax Cut\":{\"__ndarray__\":\"16NwPQrX9b8fhetRuB4bwHe+nxovXSLA0SLb+X7qJsDsUbgehWsjwARWDi2yXTHAZmZmZmamI8AIrBxaZDsnwAAAAAAAqInAAAAAAACATsAAAAAAAIBEwDvfT42XjlPA\",\"dtype\":\"float64\",\"shape\":[12]},\"Tax Units with Tax Increase\":{\"__ndarray__\":\"AAAAAAAwfkAAAAAAAEBcQAAAAAAAQFxAAAAAAACwcEAAAAAAAHB3QArXo3A9CvM/ObTIdr6f9D/2KFyPwnURQLbz/dR4aRJAAAAAAACYh0AAAAAAAOB6QAisHFpk+ytA\",\"dtype\":\"float64\",\"shape\":[12]},\"index\":[1,2,3,4,5,6,7,8,9,10,11,12]}},\"id\":\"e9eed724-9320-4458-a5dd-251c8fea5497\",\"type\":\"ColumnDataSource\"},{\"attributes\":{\"plot\":{\"id\":\"dddc1b35-3c10-4002-86d7-a84e75cf8a4d\",\"subtype\":\"Figure\",\"type\":\"Plot\"},\"ticker\":{\"id\":\"c028f61a-cb29-4e51-b1af-ecca302c0d97\",\"type\":\"BasicTicker\"}},\"id\":\"9ecbb8d5-16ed-4b80-8fe2-852b5297027e\",\"type\":\"Grid\"},{\"attributes\":{\"data_source\":{\"id\":\"c7a33af4-a9b2-491f-a476-1b40716d0a51\",\"type\":\"ColumnDataSource\"},\"glyph\":{\"id\":\"12d376cf-2cc2-48f7-b00c-55fe63407c8e\",\"type\":\"Rect\"},\"hover_glyph\":null,\"muted_glyph\":null},\"id\":\"a646c1df-cfe0-4535-9256-ad5b6c1b998f\",\"type\":\"GlyphRenderer\"},{\"attributes\":{\"data_source\":{\"id\":\"1e36f0cd-007a-4ea0-a6d5-7de8a89ee3a4\",\"type\":\"ColumnDataSource\"},\"glyph\":{\"id\":\"913337d1-42d5-4c9b-9734-e14fcaa13437\",\"type\":\"Rect\"},\"hover_glyph\":null,\"muted_glyph\":null},\"id\":\"64c879d5-5e01-4e1d-9799-24c6415b40a3\",\"type\":\"GlyphRenderer\"},{\"attributes\":{\"active_drag\":\"auto\",\"active_inspect\":\"auto\",\"active_scroll\":\"auto\",\"active_tap\":\"auto\",\"logo\":null,\"tools\":[{\"id\":\"182e6b76-6347-4e3d-a80f-0a84ab3cc38b\",\"type\":\"PanTool\"},{\"id\":\"dcb00f77-b538-4ade-84e1-64c3ac770d14\",\"type\":\"BoxZoomTool\"},{\"id\":\"49b65250-ad23-4b9b-9725-94d2beccda4f\",\"type\":\"ResetTool\"},{\"id\":\"f9c25eb3-19e4-4302-b4d4-ac673c8293ac\",\"type\":\"SaveTool\"},{\"id\":\"4fe1d784-7300-468a-9472-ab47949383b6\",\"type\":\"HoverTool\"}]},\"id\":\"75c85155-660f-4f55-b3f3-d95fd084377c\",\"type\":\"Toolbar\"},{\"attributes\":{\"fill_alpha\":{\"field\":\"fill_alpha\"},\"fill_color\":{\"field\":\"color\"},\"height\":{\"field\":\"height\",\"units\":\"data\"},\"line_color\":{\"field\":\"line_color\"},\"width\":{\"field\":\"width\",\"units\":\"data\"},\"x\":{\"field\":\"x\"},\"y\":{\"field\":\"y\"}},\"id\":\"f5219a99-4313-4ea7-9588-8f44d99eaadf\",\"type\":\"Rect\"},{\"attributes\":{\"callback\":null,\"column_names\":[\"x\",\"y\",\"width\",\"height\",\"color\",\"fill_alpha\",\"line_color\",\"line_alpha\",\"label\"],\"data\":{\"Intervals\":[\"1000+\"],\"chart_index\":[{\"Intervals\":\"1000+\",\"values\":-40.0,\"vars\":\"Tax Units with Tax Cut\"}],\"color\":[\"silver\"],\"fill_alpha\":[0.8],\"height\":[-40.0],\"label\":[{\"Intervals\":\"1000+\",\"values\":-40.0,\"vars\":\"Tax Units with Tax Cut\"}],\"line_alpha\":[1.0],\"line_color\":[\"white\"],\"values\":[-40.0],\"vars\":[\"Tax Units with Tax Cut\"],\"width\":[0.4],\"x\":[\"1000+\"],\"y\":[-20.0]}},\"id\":\"c7a33af4-a9b2-491f-a476-1b40716d0a51\",\"type\":\"ColumnDataSource\"},{\"attributes\":{\"callback\":null},\"id\":\"92ef5b87-eaa2-447b-80f9-4d920e98cd13\",\"type\":\"DataRange1d\"},{\"attributes\":{\"callback\":null,\"column_names\":[\"x\",\"y\",\"width\",\"height\",\"color\",\"fill_alpha\",\"line_color\",\"line_alpha\",\"label\"],\"data\":{\"Intervals\":[\"30-40\"],\"chart_index\":[{\"Intervals\":\"30-40\",\"values\":307.0,\"vars\":\"Tax Units with Tax Increase\"}],\"color\":[\"orange\"],\"fill_alpha\":[0.8],\"height\":[307.0],\"label\":[{\"Intervals\":\"30-40\",\"values\":307.0,\"vars\":\"Tax Units with Tax Increase\"}],\"line_alpha\":[1.0],\"line_color\":[\"white\"],\"values\":[307.0],\"vars\":[\"Tax Units with Tax Increase\"],\"width\":[0.4],\"x\":[\"30-40\"],\"y\":[153.5]}},\"id\":\"1e36f0cd-007a-4ea0-a6d5-7de8a89ee3a4\",\"type\":\"ColumnDataSource\"},{\"attributes\":{\"callback\":null,\"column_names\":[\"Intervals\",\"Tax Units with Tax Cut\",\"Tax Units with Tax Increase\",\"Average Tax Change\",\"index\"],\"data\":{\"Average Tax Change\":{\"__ndarray__\":\"AAAAAAAAIMAAAAAAAEBUwAAAAAAAAGfAAAAAAACQcsAAAAAAACB3wAAAAAAASIHAAAAAAAAIgsAAAAAAAACAwAAAAAAAoG5A46WbxCCwA0AzMzMzM3MsQAAAAAAAAAAA\",\"dtype\":\"float64\",\"shape\":[12]},\"Intervals\":[\"Less than 10\",\"10-20\",\"20-30\",\"30-40\",\"40-50\",\"50-75\",\"75-100\",\"100-200\",\"200-500\",\"500-1000\",\"1000+\",\"All\"],\"Tax Units with Tax Cut\":{\"__ndarray__\":\"YOXQItv59r+PwvUoXA8cwJ7vp8ZL9yLATmIQWDm0JsDXo3A9CpcjwIGVQ4tsBzHA0SLb+X5qIsAzMzMzMzMmwAAAAAAAmIXAAAAAAACATMAAAAAAAABEwFpkO99PTVPA\",\"dtype\":\"float64\",\"shape\":[12]},\"Tax Units with Tax Increase\":{\"__ndarray__\":\"AAAAAADQfUAAAAAAAMBbQAAAAAAAgFpAAAAAAAAwc0AAAAAAAGB3QJ7vp8ZLN/M/TmIQWDm09D+HFtnO91MRQMl2vp8arxFAAAAAAAAwhkAAAAAAAEB6QIXrUbgehStA\",\"dtype\":\"float64\",\"shape\":[12]},\"index\":[1,2,3,4,5,6,7,8,9,10,11,12]}},\"id\":\"89ef8346-c809-4545-ba3c-63e623819db4\",\"type\":\"ColumnDataSource\"},{\"attributes\":{\"data_source\":{\"id\":\"6ab0afff-5064-45f7-a79a-0ff3fd070cb4\",\"type\":\"ColumnDataSource\"},\"glyph\":{\"id\":\"7c73cc50-9214-4520-b9c8-774e668ddf61\",\"type\":\"Rect\"},\"hover_glyph\":null,\"muted_glyph\":null},\"id\":\"4182d05b-7765-4656-ba88-bc8ae37cf5e7\",\"type\":\"GlyphRenderer\"},{\"attributes\":{\"fill_alpha\":{\"field\":\"fill_alpha\"},\"fill_color\":{\"field\":\"color\"},\"height\":{\"field\":\"height\",\"units\":\"data\"},\"line_color\":{\"field\":\"line_color\"},\"width\":{\"field\":\"width\",\"units\":\"data\"},\"x\":{\"field\":\"x\"},\"y\":{\"field\":\"y\"}},\"id\":\"a70dbeba-48be-46ea-abe9-e7dda407f58c\",\"type\":\"Rect\"},{\"attributes\":{\"fill_alpha\":{\"field\":\"fill_alpha\"},\"fill_color\":{\"field\":\"color\"},\"height\":{\"field\":\"height\",\"units\":\"data\"},\"line_color\":{\"field\":\"line_color\"},\"width\":{\"field\":\"width\",\"units\":\"data\"},\"x\":{\"field\":\"x\"},\"y\":{\"field\":\"y\"}},\"id\":\"937c10fe-843c-4461-ae3c-683e008637ce\",\"type\":\"Rect\"},{\"attributes\":{\"callback\":null,\"column_names\":[\"x\",\"y\",\"width\",\"height\",\"color\",\"fill_alpha\",\"line_color\",\"line_alpha\",\"label\"],\"data\":{\"Intervals\":[\"40-50\"],\"chart_index\":[{\"Intervals\":\"40-50\",\"values\":-9.795,\"vars\":\"Tax Units with Tax Cut\"}],\"color\":[\"silver\"],\"fill_alpha\":[0.8],\"height\":[-9.795],\"label\":[{\"Intervals\":\"40-50\",\"values\":-9.795,\"vars\":\"Tax Units with Tax Cut\"}],\"line_alpha\":[1.0],\"line_color\":[\"white\"],\"values\":[-9.795],\"vars\":[\"Tax Units with Tax Cut\"],\"width\":[0.4],\"x\":[\"40-50\"],\"y\":[-4.8975]}},\"id\":\"6ab0afff-5064-45f7-a79a-0ff3fd070cb4\",\"type\":\"ColumnDataSource\"},{\"attributes\":{\"line_color\":{\"value\":\"#0569CE\"},\"line_width\":{\"value\":2},\"x\":{\"field\":\"x\"},\"y\":{\"field\":\"y\"}},\"id\":\"c95c9f84-42d2-4ace-8784-160b0d134b50\",\"type\":\"Line\"},{\"attributes\":{\"fill_color\":{\"value\":\"white\"},\"line_color\":{\"value\":\"#1f77b4\"},\"size\":{\"units\":\"screen\",\"value\":8},\"x\":{\"field\":\"x\"},\"y\":{\"field\":\"y\"}},\"id\":\"46760743-bf66-4a95-ba7f-9e7896a12c39\",\"type\":\"Circle\"},{\"attributes\":{\"axis_label\":\"Tax units with tax cut             Tax units with tax increase\",\"formatter\":{\"id\":\"99913ee4-6fa6-4705-9339-68cf3151293e\",\"type\":\"BasicTickFormatter\"},\"plot\":{\"id\":\"67bfe673-f67a-45b8-8d91-3d49717072e4\",\"subtype\":\"Chart\",\"type\":\"Plot\"},\"ticker\":{\"id\":\"3244b096-f334-407b-b8b8-fd5fff384a27\",\"type\":\"BasicTicker\"}},\"id\":\"32d9ec2a-f7c4-42b3-92b4-0c543217b492\",\"type\":\"LinearAxis\"},{\"attributes\":{\"fill_alpha\":{\"field\":\"fill_alpha\"},\"fill_color\":{\"field\":\"color\"},\"height\":{\"field\":\"height\",\"units\":\"data\"},\"line_color\":{\"field\":\"line_color\"},\"width\":{\"field\":\"width\",\"units\":\"data\"},\"x\":{\"field\":\"x\"},\"y\":{\"field\":\"y\"}},\"id\":\"c1836a42-70ae-4bce-b07d-671d77eea5bd\",\"type\":\"Rect\"},{\"attributes\":{\"data_source\":{\"id\":\"24de7ec6-36a6-4190-8d2c-350474154c64\",\"type\":\"ColumnDataSource\"},\"glyph\":{\"id\":\"a70dbeba-48be-46ea-abe9-e7dda407f58c\",\"type\":\"Rect\"},\"hover_glyph\":null,\"muted_glyph\":null},\"id\":\"c5a7e02a-61a2-4880-a346-5273c550c9d8\",\"type\":\"GlyphRenderer\"},{\"attributes\":{\"data_source\":{\"id\":\"095fc99c-e66d-46af-8a63-bfc92052be31\",\"type\":\"ColumnDataSource\"},\"glyph\":{\"id\":\"937c10fe-843c-4461-ae3c-683e008637ce\",\"type\":\"Rect\"},\"hover_glyph\":null,\"muted_glyph\":null},\"id\":\"c1ada937-0a11-4e81-8b93-c3c8a58e2075\",\"type\":\"GlyphRenderer\"},{\"attributes\":{\"dimension\":1,\"plot\":{\"id\":\"67bfe673-f67a-45b8-8d91-3d49717072e4\",\"subtype\":\"Chart\",\"type\":\"Plot\"},\"ticker\":{\"id\":\"3244b096-f334-407b-b8b8-fd5fff384a27\",\"type\":\"BasicTicker\"}},\"id\":\"4b216cd7-6035-4210-81bf-4ab68a593b00\",\"type\":\"Grid\"},{\"attributes\":{\"fill_alpha\":{\"field\":\"fill_alpha\"},\"fill_color\":{\"field\":\"color\"},\"height\":{\"field\":\"height\",\"units\":\"data\"},\"line_color\":{\"field\":\"line_color\"},\"width\":{\"field\":\"width\",\"units\":\"data\"},\"x\":{\"field\":\"x\"},\"y\":{\"field\":\"y\"}},\"id\":\"78d1f1c0-0a1b-42b8-9e0d-932da6b99e50\",\"type\":\"Rect\"},{\"attributes\":{\"data_source\":{\"id\":\"db1b6c55-6811-4bab-93f6-d84fb1f7a818\",\"type\":\"ColumnDataSource\"},\"glyph\":{\"id\":\"6d5a882e-552d-4cb7-87dc-742475ed2f6f\",\"type\":\"Text\"},\"hover_glyph\":null,\"muted_glyph\":null},\"id\":\"f9c25808-1cdc-4598-8d2f-a32d40f4aa75\",\"type\":\"GlyphRenderer\"},{\"attributes\":{\"callback\":null,\"column_names\":[\"x\",\"y\",\"width\",\"height\",\"color\",\"fill_alpha\",\"line_color\",\"line_alpha\",\"label\"],\"data\":{\"Intervals\":[\"All\"],\"chart_index\":[{\"Intervals\":\"All\",\"values\":-77.208,\"vars\":\"Tax Units with Tax Cut\"}],\"color\":[\"silver\"],\"fill_alpha\":[0.8],\"height\":[-77.208],\"label\":[{\"Intervals\":\"All\",\"values\":-77.208,\"vars\":\"Tax Units with Tax Cut\"}],\"line_alpha\":[1.0],\"line_color\":[\"white\"],\"values\":[-77.208],\"vars\":[\"Tax Units with Tax Cut\"],\"width\":[0.4],\"x\":[\"All\"],\"y\":[-38.604]}},\"id\":\"24de7ec6-36a6-4190-8d2c-350474154c64\",\"type\":\"ColumnDataSource\"},{\"attributes\":{\"callback\":null,\"column_names\":[\"x\",\"y\",\"width\",\"height\",\"color\",\"fill_alpha\",\"line_color\",\"line_alpha\",\"label\"],\"data\":{\"Intervals\":[\"40-50\"],\"chart_index\":[{\"Intervals\":\"40-50\",\"values\":374.0,\"vars\":\"Tax Units with Tax Increase\"}],\"color\":[\"orange\"],\"fill_alpha\":[0.8],\"height\":[374.0],\"label\":[{\"Intervals\":\"40-50\",\"values\":374.0,\"vars\":\"Tax Units with Tax Increase\"}],\"line_alpha\":[1.0],\"line_color\":[\"white\"],\"values\":[374.0],\"vars\":[\"Tax Units with Tax Increase\"],\"width\":[0.4],\"x\":[\"40-50\"],\"y\":[187.0]}},\"id\":\"095fc99c-e66d-46af-8a63-bfc92052be31\",\"type\":\"ColumnDataSource\"},{\"attributes\":{\"callback\":null,\"column_names\":[\"Intervals\",\"Tax Units with Tax Cut\",\"Tax Units with Tax Increase\",\"Average Tax Change\",\"index\"],\"data\":{\"Average Tax Change\":{\"__ndarray__\":\"AAAAAAAAFMAAAAAAAABTwAAAAAAAoGTAAAAAAABgcsAAAAAAAPB2wAAAAAAA+IDAAAAAAABghMAAAAAAACCCwAAAAAAAAFtAne+nxks3AEBEi2zn++kpQAAAAAAAAAAA\",\"dtype\":\"float64\",\"shape\":[12]},\"Intervals\":[\"Less than 10\",\"10-20\",\"20-30\",\"30-40\",\"40-50\",\"50-75\",\"75-100\",\"100-200\",\"200-500\",\"500-1000\",\"1000+\",\"All\"],\"Tax Units with Tax Cut\":{\"__ndarray__\":\"ukkMAiuH8r9zaJHtfL8XwD0K16NwvSDAz/dT46XbJsBt5/up8VIiwCPb+X5q3DLADAIrhxZZJsBt5/up8dIqwG8Sg8DKofO/AAAAAABAUMAAAAAAAABHwOf7qfHSNVTA\",\"dtype\":\"float64\",\"shape\":[12]},\"Tax Units with Tax Increase\":{\"__ndarray__\":\"AAAAAADwfkAAAAAAAIBbQAAAAAAAgFpAAAAAAADAaUAAAAAAACB2QClcj8L1KPI/N4lBYOXQ9D+HFtnO99MRQAIrhxbZThRAAAAAAADgjEAAAAAAANB9QLKd76fGSy1A\",\"dtype\":\"float64\",\"shape\":[12]},\"index\":[1,2,3,4,5,6,7,8,9,10,11,12]}},\"id\":\"5ed888e5-1b25-45ac-948d-a285834c762a\",\"type\":\"ColumnDataSource\"},{\"attributes\":{\"data_source\":{\"id\":\"55f4cf0a-6487-4e8e-a678-850142e026cd\",\"type\":\"ColumnDataSource\"},\"glyph\":{\"id\":\"c1836a42-70ae-4bce-b07d-671d77eea5bd\",\"type\":\"Rect\"},\"hover_glyph\":null,\"muted_glyph\":null},\"id\":\"dcb46136-f990-42b0-af23-9394ecb06194\",\"type\":\"GlyphRenderer\"},{\"attributes\":{},\"id\":\"e52dd714-1bcf-4e34-8f58-bce3eacfd132\",\"type\":\"LinearScale\"},{\"attributes\":{\"line_alpha\":{\"value\":0.1},\"line_color\":{\"value\":\"#1f77b4\"},\"line_width\":{\"value\":2},\"x\":{\"field\":\"x\"},\"y\":{\"field\":\"y\"}},\"id\":\"793f3a9f-530f-43cf-90e8-7bc3c2b02405\",\"type\":\"Line\"},{\"attributes\":{},\"id\":\"3244b096-f334-407b-b8b8-fd5fff384a27\",\"type\":\"BasicTicker\"},{\"attributes\":{\"fill_alpha\":{\"field\":\"fill_alpha\"},\"fill_color\":{\"field\":\"color\"},\"height\":{\"field\":\"height\",\"units\":\"data\"},\"line_color\":{\"field\":\"line_color\"},\"width\":{\"field\":\"width\",\"units\":\"data\"},\"x\":{\"field\":\"x\"},\"y\":{\"field\":\"y\"}},\"id\":\"398abd7e-9986-4b98-ad41-cc021819f945\",\"type\":\"Rect\"},{\"attributes\":{\"callback\":null,\"column_names\":[\"x\",\"y\",\"width\",\"height\",\"color\",\"fill_alpha\",\"line_color\",\"line_alpha\",\"label\"],\"data\":{\"Intervals\":[\"50-75\"],\"chart_index\":[{\"Intervals\":\"50-75\",\"values\":-17.029,\"vars\":\"Tax Units with Tax Cut\"}],\"color\":[\"silver\"],\"fill_alpha\":[0.8],\"height\":[-17.029],\"label\":[{\"Intervals\":\"50-75\",\"values\":-17.029,\"vars\":\"Tax Units with Tax Cut\"}],\"line_alpha\":[1.0],\"line_color\":[\"white\"],\"values\":[-17.029],\"vars\":[\"Tax Units with Tax Cut\"],\"width\":[0.4],\"x\":[\"50-75\"],\"y\":[-8.5145]}},\"id\":\"55f4cf0a-6487-4e8e-a678-850142e026cd\",\"type\":\"ColumnDataSource\"},{\"attributes\":{\"callback\":null,\"plot\":{\"id\":\"67bfe673-f67a-45b8-8d91-3d49717072e4\",\"subtype\":\"Chart\",\"type\":\"Plot\"},\"tooltips\":[[\"Value\",\"@values\"]]},\"id\":\"4fe1d784-7300-468a-9472-ab47949383b6\",\"type\":\"HoverTool\"},{\"attributes\":{},\"id\":\"4e0344a5-20eb-4d0a-b378-cb867df03abd\",\"type\":\"CategoricalScale\"},{\"attributes\":{\"callback\":null,\"column_names\":[\"Intervals\",\"Tax Units with Tax Cut\",\"Tax Units with Tax Increase\",\"Average Tax Change\",\"index\"],\"data\":{\"Average Tax Change\":{\"__ndarray__\":\"AAAAAAAAGMAAAAAAAMBTwAAAAAAAoGXAAAAAAABwcsAAAAAAADB3wAAAAAAAKIHAAAAAAAAYg8AAAAAAACCBwAAAAAAAQGZAw/UoXI/CAUA730+Nly4rQAAAAAAAAAAA\",\"dtype\":\"float64\",\"shape\":[12]},\"Intervals\":[\"Less than 10\",\"10-20\",\"20-30\",\"30-40\",\"40-50\",\"50-75\",\"75-100\",\"100-200\",\"200-500\",\"500-1000\",\"1000+\",\"All\"],\"Tax Units with Tax Cut\":{\"__ndarray__\":\"uB6F61G49L9qvHSTGAQawJHtfD81niHAYhBYObRIJ8Dwp8ZLNwkjwFTjpZvE4DHAGQRWDi2yJMCkcD0K12MowAAAAAAA+IzAAAAAAAAAT8AAAAAAAABGwIPAyqFFzlPA\",\"dtype\":\"float64\",\"shape\":[12]},\"Tax Units with Tax Increase\":{\"__ndarray__\":\"AAAAAADgfkAAAAAAAIBcQAAAAAAAQFhAAAAAAABAb0AAAAAAAEB2QHnpJjEIrPI/ObTIdr6f9D/wp8ZLN4kRQFpkO99PDRNAAAAAAAAAiUAAAAAAAKB7QG3n+6nxUixA\",\"dtype\":\"float64\",\"shape\":[12]},\"index\":[1,2,3,4,5,6,7,8,9,10,11,12]}},\"id\":\"ed083d16-015e-495e-b6ca-fb0d4e0bda68\",\"type\":\"ColumnDataSource\"},{\"attributes\":{\"data_source\":{\"id\":\"794ab2b4-c87d-4bce-a52f-068e55d3cdb3\",\"type\":\"ColumnDataSource\"},\"glyph\":{\"id\":\"398abd7e-9986-4b98-ad41-cc021819f945\",\"type\":\"Rect\"},\"hover_glyph\":null,\"muted_glyph\":null},\"id\":\"f5555b3d-d769-4afd-b7bc-db1ca9e707d3\",\"type\":\"GlyphRenderer\"},{\"attributes\":{\"callback\":null,\"column_names\":[\"x\",\"y\",\"width\",\"height\",\"color\",\"fill_alpha\",\"line_color\",\"line_alpha\",\"label\"],\"data\":{\"Intervals\":[\"50-75\"],\"chart_index\":[{\"Intervals\":\"50-75\",\"values\":1.201,\"vars\":\"Tax Units with Tax Increase\"}],\"color\":[\"orange\"],\"fill_alpha\":[0.8],\"height\":[1.201],\"label\":[{\"Intervals\":\"50-75\",\"values\":1.201,\"vars\":\"Tax Units with Tax Increase\"}],\"line_alpha\":[1.0],\"line_color\":[\"white\"],\"values\":[1.201],\"vars\":[\"Tax Units with Tax Increase\"],\"width\":[0.4],\"x\":[\"50-75\"],\"y\":[0.6005]}},\"id\":\"794ab2b4-c87d-4bce-a52f-068e55d3cdb3\",\"type\":\"ColumnDataSource\"},{\"attributes\":{\"data_source\":{\"id\":\"d5ce652e-5951-4a10-bf67-9fb63fe41a89\",\"type\":\"ColumnDataSource\"},\"glyph\":{\"id\":\"2d2c607c-5e62-48a7-b39c-5bc560711e3e\",\"type\":\"Rect\"},\"hover_glyph\":null,\"muted_glyph\":null},\"id\":\"4788dd74-5722-456d-94cd-637b6a116822\",\"type\":\"GlyphRenderer\"},{\"attributes\":{\"data_source\":{\"id\":\"5cfab917-b3eb-45c2-a46d-b55d873fbcb1\",\"type\":\"ColumnDataSource\"},\"glyph\":{\"id\":\"78d1f1c0-0a1b-42b8-9e0d-932da6b99e50\",\"type\":\"Rect\"},\"hover_glyph\":null,\"muted_glyph\":null},\"id\":\"aeb1f0e0-3d51-4f18-88d5-28e28765e0bd\",\"type\":\"GlyphRenderer\"},{\"attributes\":{\"data_source\":{\"id\":\"04be7139-50c7-4c34-83e8-0b977d03ace4\",\"type\":\"ColumnDataSource\"},\"glyph\":{\"id\":\"46760743-bf66-4a95-ba7f-9e7896a12c39\",\"type\":\"Circle\"},\"hover_glyph\":null,\"muted_glyph\":null,\"nonselection_glyph\":{\"id\":\"3567a5d7-e6df-4fa0-a6c5-940eb52630c3\",\"type\":\"Circle\"},\"selection_glyph\":null},\"id\":\"4a7b2b72-50fb-4305-8c12-0af1ab2080d0\",\"type\":\"GlyphRenderer\"},{\"attributes\":{\"callback\":null,\"column_names\":[\"x\",\"y\",\"width\",\"height\",\"color\",\"fill_alpha\",\"line_color\",\"line_alpha\",\"label\"],\"data\":{\"Intervals\":[\"100-200\"],\"chart_index\":[{\"Intervals\":\"100-200\",\"values\":-11.1,\"vars\":\"Tax Units with Tax Cut\"}],\"color\":[\"silver\"],\"fill_alpha\":[0.8],\"height\":[-11.1],\"label\":[{\"Intervals\":\"100-200\",\"values\":-11.1,\"vars\":\"Tax Units with Tax Cut\"}],\"line_alpha\":[1.0],\"line_color\":[\"white\"],\"values\":[-11.1],\"vars\":[\"Tax Units with Tax Cut\"],\"width\":[0.4],\"x\":[\"100-200\"],\"y\":[-5.55]}},\"id\":\"5cfab917-b3eb-45c2-a46d-b55d873fbcb1\",\"type\":\"ColumnDataSource\"},{\"attributes\":{\"fill_alpha\":{\"field\":\"fill_alpha\"},\"fill_color\":{\"field\":\"color\"},\"height\":{\"field\":\"height\",\"units\":\"data\"},\"line_color\":{\"field\":\"line_color\"},\"width\":{\"field\":\"width\",\"units\":\"data\"},\"x\":{\"field\":\"x\"},\"y\":{\"field\":\"y\"}},\"id\":\"3aa55772-6a1b-4253-b58c-656eb2ecf1d7\",\"type\":\"Rect\"},{\"attributes\":{\"fill_alpha\":{\"field\":\"fill_alpha\"},\"fill_color\":{\"field\":\"color\"},\"height\":{\"field\":\"height\",\"units\":\"data\"},\"line_color\":{\"field\":\"line_color\"},\"width\":{\"field\":\"width\",\"units\":\"data\"},\"x\":{\"field\":\"x\"},\"y\":{\"field\":\"y\"}},\"id\":\"65b33fb7-cdc4-40e8-a59f-c46b6047899c\",\"type\":\"Rect\"},{\"attributes\":{\"data_source\":{\"id\":\"ddddbf95-d2b0-4cf7-8550-2f6932ed3bc5\",\"type\":\"ColumnDataSource\"},\"glyph\":{\"id\":\"f5219a99-4313-4ea7-9588-8f44d99eaadf\",\"type\":\"Rect\"},\"hover_glyph\":null,\"muted_glyph\":null},\"id\":\"a1693183-06cd-4f17-9317-e4e48d0b7828\",\"type\":\"GlyphRenderer\"},{\"attributes\":{\"data_source\":{\"id\":\"4c62a84e-b83a-4112-9627-64175d57ee2c\",\"type\":\"ColumnDataSource\"},\"glyph\":{\"id\":\"3aa55772-6a1b-4253-b58c-656eb2ecf1d7\",\"type\":\"Rect\"},\"hover_glyph\":null,\"muted_glyph\":null},\"id\":\"20c7fe5d-3510-4501-8788-80e8c27ada40\",\"type\":\"GlyphRenderer\"},{\"attributes\":{\"plot\":{\"id\":\"67bfe673-f67a-45b8-8d91-3d49717072e4\",\"subtype\":\"Chart\",\"type\":\"Plot\"}},\"id\":\"182e6b76-6347-4e3d-a80f-0a84ab3cc38b\",\"type\":\"PanTool\"},{\"attributes\":{\"callback\":null,\"column_names\":[\"x\",\"y\",\"width\",\"height\",\"color\",\"fill_alpha\",\"line_color\",\"line_alpha\",\"label\"],\"data\":{\"Intervals\":[\"100-200\"],\"chart_index\":[{\"Intervals\":\"100-200\",\"values\":4.332,\"vars\":\"Tax Units with Tax Increase\"}],\"color\":[\"orange\"],\"fill_alpha\":[0.8],\"height\":[4.332],\"label\":[{\"Intervals\":\"100-200\",\"values\":4.332,\"vars\":\"Tax Units with Tax Increase\"}],\"line_alpha\":[1.0],\"line_color\":[\"white\"],\"values\":[4.332],\"vars\":[\"Tax Units with Tax Increase\"],\"width\":[0.4],\"x\":[\"100-200\"],\"y\":[2.166]}},\"id\":\"ddddbf95-d2b0-4cf7-8550-2f6932ed3bc5\",\"type\":\"ColumnDataSource\"},{\"attributes\":{\"data_source\":{\"id\":\"e0ae08d0-375b-47c3-b234-3e71e12cc386\",\"type\":\"ColumnDataSource\"},\"glyph\":{\"id\":\"65b33fb7-cdc4-40e8-a59f-c46b6047899c\",\"type\":\"Rect\"},\"hover_glyph\":null,\"muted_glyph\":null},\"id\":\"4c53b925-a805-4315-9505-34a899f2146c\",\"type\":\"GlyphRenderer\"},{\"attributes\":{\"overlay\":{\"id\":\"2fac7ccb-df1a-4bd7-9603-8542c3011ed6\",\"type\":\"BoxAnnotation\"},\"plot\":{\"id\":\"67bfe673-f67a-45b8-8d91-3d49717072e4\",\"subtype\":\"Chart\",\"type\":\"Plot\"}},\"id\":\"dcb00f77-b538-4ade-84e1-64c3ac770d14\",\"type\":\"BoxZoomTool\"},{\"attributes\":{\"plot\":{\"id\":\"67bfe673-f67a-45b8-8d91-3d49717072e4\",\"subtype\":\"Chart\",\"type\":\"Plot\"}},\"id\":\"49b65250-ad23-4b9b-9725-94d2beccda4f\",\"type\":\"ResetTool\"},{\"attributes\":{\"callback\":null,\"column_names\":[\"x\",\"y\",\"width\",\"height\",\"color\",\"fill_alpha\",\"line_color\",\"line_alpha\",\"label\"],\"data\":{\"Intervals\":[\"200-500\"],\"chart_index\":[{\"Intervals\":\"200-500\",\"values\":-691.0,\"vars\":\"Tax Units with Tax Cut\"}],\"color\":[\"silver\"],\"fill_alpha\":[0.8],\"height\":[-691.0],\"label\":[{\"Intervals\":\"200-500\",\"values\":-691.0,\"vars\":\"Tax Units with Tax Cut\"}],\"line_alpha\":[1.0],\"line_color\":[\"white\"],\"values\":[-691.0],\"vars\":[\"Tax Units with Tax Cut\"],\"width\":[0.4],\"x\":[\"200-500\"],\"y\":[-345.5]}},\"id\":\"e0ae08d0-375b-47c3-b234-3e71e12cc386\",\"type\":\"ColumnDataSource\"},{\"attributes\":{\"plot\":{\"id\":\"67bfe673-f67a-45b8-8d91-3d49717072e4\",\"subtype\":\"Chart\",\"type\":\"Plot\"}},\"id\":\"f9c25eb3-19e4-4302-b4d4-ac673c8293ac\",\"type\":\"SaveTool\"},{\"attributes\":{\"bottom_units\":\"screen\",\"fill_alpha\":{\"value\":0.5},\"fill_color\":{\"value\":\"lightgrey\"},\"left_units\":\"screen\",\"level\":\"overlay\",\"line_alpha\":{\"value\":1.0},\"line_color\":{\"value\":\"black\"},\"line_dash\":[4,4],\"line_width\":{\"value\":2},\"plot\":null,\"render_mode\":\"css\",\"right_units\":\"screen\",\"top_units\":\"screen\"},\"id\":\"2fac7ccb-df1a-4bd7-9603-8542c3011ed6\",\"type\":\"BoxAnnotation\"},{\"attributes\":{\"args\":{\"_2017\":{\"id\":\"89ef8346-c809-4545-ba3c-63e623819db4\",\"type\":\"ColumnDataSource\"},\"_2018\":{\"id\":\"e9eed724-9320-4458-a5dd-251c8fea5497\",\"type\":\"ColumnDataSource\"},\"_2019\":{\"id\":\"ed083d16-015e-495e-b6ca-fb0d4e0bda68\",\"type\":\"ColumnDataSource\"},\"_2020\":{\"id\":\"a36f5ef0-d5a4-47ba-9ca0-7b23021e4d16\",\"type\":\"ColumnDataSource\"},\"_2021\":{\"id\":\"5ed888e5-1b25-45ac-948d-a285834c762a\",\"type\":\"ColumnDataSource\"},\"_2022\":{\"id\":\"af6df5a0-5274-48af-aef4-2e562fa75137\",\"type\":\"ColumnDataSource\"},\"_2023\":{\"id\":\"a71e161c-dffa-4ee8-b751-dc1b129ecb40\",\"type\":\"ColumnDataSource\"},\"_2024\":{\"id\":\"cc0850cb-debf-4cc8-801a-5345138765bf\",\"type\":\"ColumnDataSource\"},\"_2025\":{\"id\":\"4abc6e58-b267-455d-8463-69b74b33de9d\",\"type\":\"ColumnDataSource\"},\"_2026\":{\"id\":\"2ae1893a-d504-4517-b798-92f24f05d23e\",\"type\":\"ColumnDataSource\"},\"renderer_source\":{\"id\":\"89ef8346-c809-4545-ba3c-63e623819db4\",\"type\":\"ColumnDataSource\"},\"slider\":{\"id\":\"5c540682-9413-48ec-9894-b8a2022c83e4\",\"type\":\"Slider\"},\"text_source\":{\"id\":\"db1b6c55-6811-4bab-93f6-d84fb1f7a818\",\"type\":\"ColumnDataSource\"}},\"code\":\"\\n    var year = slider.get('value'),\\n        sources = {2017: _2017, 2018: _2018, 2019: _2019, 2020: _2020, 2021: _2021, 2022: _2022, 2023: _2023, 2024: _2024, 2025: _2025, 2026: _2026},\\n        new_source_data = sources[year].get('data');\\n    renderer_source.set('data', new_source_data);\\n    text_source.set('data', {'year': [String(year)]});\\n\"},\"id\":\"1c6924fc-8fc7-4da4-b798-647df62189ad\",\"type\":\"CustomJS\"},{\"attributes\":{\"fill_alpha\":{\"field\":\"fill_alpha\"},\"fill_color\":{\"field\":\"color\"},\"height\":{\"field\":\"height\",\"units\":\"data\"},\"line_color\":{\"field\":\"line_color\"},\"width\":{\"field\":\"width\",\"units\":\"data\"},\"x\":{\"field\":\"x\"},\"y\":{\"field\":\"y\"}},\"id\":\"41e7a8bd-c3ad-486c-a11f-4e8229d971e3\",\"type\":\"Rect\"},{\"attributes\":{\"callback\":null,\"column_names\":[\"x\",\"y\",\"width\",\"height\",\"color\",\"fill_alpha\",\"line_color\",\"line_alpha\",\"label\"],\"data\":{\"Intervals\":[\"500-1000\"],\"chart_index\":[{\"Intervals\":\"500-1000\",\"values\":-57.0,\"vars\":\"Tax Units with Tax Cut\"}],\"color\":[\"silver\"],\"fill_alpha\":[0.8],\"height\":[-57.0],\"label\":[{\"Intervals\":\"500-1000\",\"values\":-57.0,\"vars\":\"Tax Units with Tax Cut\"}],\"line_alpha\":[1.0],\"line_color\":[\"white\"],\"values\":[-57.0],\"vars\":[\"Tax Units with Tax Cut\"],\"width\":[0.4],\"x\":[\"500-1000\"],\"y\":[-28.5]}},\"id\":\"d5d1786b-55e0-4037-8c3a-1bf342de5ed4\",\"type\":\"ColumnDataSource\"},{\"attributes\":{\"callback\":{\"id\":\"1c6924fc-8fc7-4da4-b798-647df62189ad\",\"type\":\"CustomJS\"},\"end\":2026,\"start\":2017,\"step\":1,\"title\":\"Year\",\"value\":1},\"id\":\"5c540682-9413-48ec-9894-b8a2022c83e4\",\"type\":\"Slider\"},{\"attributes\":{\"axis_label\":\"Income [$ thousands]\",\"formatter\":{\"id\":\"03742330-5c2a-4d44-bd00-4e9c1cf5d887\",\"type\":\"CategoricalTickFormatter\"},\"major_label_orientation\":0.7853981633974483,\"plot\":{\"id\":\"67bfe673-f67a-45b8-8d91-3d49717072e4\",\"subtype\":\"Chart\",\"type\":\"Plot\"},\"ticker\":{\"id\":\"23f33536-30de-42b4-a5f0-8b9149485aeb\",\"type\":\"CategoricalTicker\"}},\"id\":\"d3da5d2a-dcef-45e8-a61e-89ee5b423494\",\"type\":\"CategoricalAxis\"},{\"attributes\":{\"fill_alpha\":{\"field\":\"fill_alpha\"},\"fill_color\":{\"field\":\"color\"},\"height\":{\"field\":\"height\",\"units\":\"data\"},\"line_color\":{\"field\":\"line_color\"},\"width\":{\"field\":\"width\",\"units\":\"data\"},\"x\":{\"field\":\"x\"},\"y\":{\"field\":\"y\"}},\"id\":\"b8d3fcd2-da11-45d1-b417-98a82a54719e\",\"type\":\"Rect\"},{\"attributes\":{\"data_source\":{\"id\":\"3d1cbe08-755c-4ae4-bd24-45f66e5ad7e9\",\"type\":\"ColumnDataSource\"},\"glyph\":{\"id\":\"754e9c22-f149-4760-b0bb-168aab2783e5\",\"type\":\"Rect\"},\"hover_glyph\":null,\"muted_glyph\":null},\"id\":\"82066392-8fcb-4ae6-a060-9acc8a8befac\",\"type\":\"GlyphRenderer\"},{\"attributes\":{\"children\":[{\"id\":\"984e34bb-7824-4ab9-8f83-c159f3d2fa70\",\"type\":\"Row\"},{\"id\":\"f2eaa808-eba9-47a3-9799-7a8eae891b18\",\"type\":\"Row\"}]},\"id\":\"60c0eddd-127e-464e-8997-d0da0a2b4b37\",\"type\":\"Column\"},{\"attributes\":{\"data_source\":{\"id\":\"f2648339-610d-4142-8236-c4a661430c0a\",\"type\":\"ColumnDataSource\"},\"glyph\":{\"id\":\"41e7a8bd-c3ad-486c-a11f-4e8229d971e3\",\"type\":\"Rect\"},\"hover_glyph\":null,\"muted_glyph\":null},\"id\":\"ec822fa7-70da-4593-91f9-69e9803ecb73\",\"type\":\"GlyphRenderer\"},{\"attributes\":{\"callback\":null,\"column_names\":[\"x\",\"y\",\"width\",\"height\",\"color\",\"fill_alpha\",\"line_color\",\"line_alpha\",\"label\"],\"data\":{\"Intervals\":[\"Less than 10\"],\"chart_index\":[{\"Intervals\":\"Less than 10\",\"values\":-1.436,\"vars\":\"Tax Units with Tax Cut\"}],\"color\":[\"silver\"],\"fill_alpha\":[0.8],\"height\":[-1.436],\"label\":[{\"Intervals\":\"Less than 10\",\"values\":-1.436,\"vars\":\"Tax Units with Tax Cut\"}],\"line_alpha\":[1.0],\"line_color\":[\"white\"],\"values\":[-1.436],\"vars\":[\"Tax Units with Tax Cut\"],\"width\":[0.4],\"x\":[\"Less than 10\"],\"y\":[-0.718]}},\"id\":\"4c62a84e-b83a-4112-9627-64175d57ee2c\",\"type\":\"ColumnDataSource\"},{\"attributes\":{\"data_source\":{\"id\":\"d5d1786b-55e0-4037-8c3a-1bf342de5ed4\",\"type\":\"ColumnDataSource\"},\"glyph\":{\"id\":\"b8d3fcd2-da11-45d1-b417-98a82a54719e\",\"type\":\"Rect\"},\"hover_glyph\":null,\"muted_glyph\":null},\"id\":\"43c14b0b-3a5b-43c3-8a93-0cf0050a2d25\",\"type\":\"GlyphRenderer\"},{\"attributes\":{\"callback\":null,\"column_names\":[\"x\",\"y\",\"width\",\"height\",\"color\",\"fill_alpha\",\"line_color\",\"line_alpha\",\"label\"],\"data\":{\"Intervals\":[\"200-500\"],\"chart_index\":[{\"Intervals\":\"200-500\",\"values\":4.421,\"vars\":\"Tax Units with Tax Increase\"}],\"color\":[\"orange\"],\"fill_alpha\":[0.8],\"height\":[4.421],\"label\":[{\"Intervals\":\"200-500\",\"values\":4.421,\"vars\":\"Tax Units with Tax Increase\"}],\"line_alpha\":[1.0],\"line_color\":[\"white\"],\"values\":[4.421],\"vars\":[\"Tax Units with Tax Increase\"],\"width\":[0.4],\"x\":[\"200-500\"],\"y\":[2.2105]}},\"id\":\"f2648339-610d-4142-8236-c4a661430c0a\",\"type\":\"ColumnDataSource\"},{\"attributes\":{},\"id\":\"99913ee4-6fa6-4705-9339-68cf3151293e\",\"type\":\"BasicTickFormatter\"}],\"root_ids\":[\"60c0eddd-127e-464e-8997-d0da0a2b4b37\"]},\"title\":\"Bokeh Application\",\"version\":\"0.12.6\"}};\n",
       "            var render_items = [{\"docid\":\"bddb18aa-d177-450e-ac89-ad92d19a7146\",\"elementid\":\"a518ec9f-187c-41b6-a6cd-b753d1bd5982\",\"modelid\":\"60c0eddd-127e-464e-8997-d0da0a2b4b37\"}];\n",
       "            \n",
       "            Bokeh.embed.embed_items(docs_json, render_items);\n",
       "          };\n",
       "          if (document.readyState != \"loading\") fn();\n",
       "          else document.addEventListener(\"DOMContentLoaded\", fn);\n",
       "        })();\n",
       "      },\n",
       "      function(Bokeh) {\n",
       "      }\n",
       "    ];\n",
       "  \n",
       "    function run_inline_js() {\n",
       "      \n",
       "      if ((window.Bokeh !== undefined) || (force === true)) {\n",
       "        for (var i = 0; i < inline_js.length; i++) {\n",
       "          inline_js[i](window.Bokeh);\n",
       "        }if (force === true) {\n",
       "          display_loaded();\n",
       "        }} else if (Date.now() < window._bokeh_timeout) {\n",
       "        setTimeout(run_inline_js, 100);\n",
       "      } else if (!window._bokeh_failed_load) {\n",
       "        console.log(\"Bokeh: BokehJS failed to load within specified timeout.\");\n",
       "        window._bokeh_failed_load = true;\n",
       "      } else if (force !== true) {\n",
       "        var cell = $(document.getElementById(\"a518ec9f-187c-41b6-a6cd-b753d1bd5982\")).parents('.cell').data().cell;\n",
       "        cell.output_area.append_execute_result(NB_LOAD_WARNING)\n",
       "      }\n",
       "  \n",
       "    }\n",
       "  \n",
       "    if (window._bokeh_is_loading === 0) {\n",
       "      console.log(\"Bokeh: BokehJS loaded, going straight to plotting\");\n",
       "      run_inline_js();\n",
       "    } else {\n",
       "      load_libs(js_urls, function() {\n",
       "        console.log(\"Bokeh: BokehJS plotting callback run at\", now());\n",
       "        run_inline_js();\n",
       "      });\n",
       "    }\n",
       "  }(this));\n",
       "</script>"
      ]
     },
     "metadata": {},
     "output_type": "display_data"
    }
   ],
   "source": [
    "#output_file(\"bar.html\")\n",
    "p_l = column(s1,p)\n",
    "#show(p_l)\n",
    "show(layout([[p_l],[slider]]))"
   ]
  },
  {
   "cell_type": "code",
   "execution_count": null,
   "metadata": {
    "collapsed": true
   },
   "outputs": [],
   "source": []
  },
  {
   "cell_type": "code",
   "execution_count": null,
   "metadata": {
    "collapsed": true
   },
   "outputs": [],
   "source": []
  }
 ],
 "metadata": {
  "kernelspec": {
   "display_name": "Python [conda env:django_env]",
   "language": "python",
   "name": "conda-env-django_env-py"
  },
  "language_info": {
   "codemirror_mode": {
    "name": "ipython",
    "version": 3
   },
   "file_extension": ".py",
   "mimetype": "text/x-python",
   "name": "python",
   "nbconvert_exporter": "python",
   "pygments_lexer": "ipython3",
   "version": "3.6.2"
  }
 },
 "nbformat": 4,
 "nbformat_minor": 2
}
