{
 "cells": [
  {
   "cell_type": "markdown",
   "metadata": {},
   "source": [
    "# Introduction to matplotlib and the pyplot API\n",
    "\n",
    "## matplotlib \n",
    "\n",
    "matplotlib is a 2D Python plotting library that is meant to create _publication quality figures_ in both hardcopy and interactive environments. It is the cornerstone of data visualization in Python and as a result is a fiscally sponsored project of the [NumFocus](http://www.numfocus.org/) organization. matplotlib is: \n",
    "\n",
    "- Open Source and Free \n",
    "- Platform Agnostic\n",
    "- A General Visual Framework \n",
    "- Optimized for Scientific Visualization \n",
    "\n",
    "The primary way to interact with matplotlib is through the `pyplot` API - a _simple_ interface to the drawing components provided by matplotlib, as shown in the component architecture below:\n",
    "\n",
    "![The matplotlib Component Model](figures/matplotlib_components.png)\n",
    "\n",
    "<p><center><small>The above figure is from McGreggor, Duncan M. _Mastering matplotlib_. Packt Publishing Ltd, 2015.</small></center></p>\n",
    "\n",
    "In this notebook we'll explore using matplotlib to create and customize our own plots. \n",
    "\n",
    "First things first:"
   ]
  },
  {
   "cell_type": "code",
   "execution_count": null,
   "metadata": {
    "collapsed": true
   },
   "outputs": [],
   "source": [
    "%matplotlib inline "
   ]
  },
  {
   "cell_type": "markdown",
   "metadata": {},
   "source": [
    "### What is `%matplotlib inline`? \n",
    "\n",
    "`%matplotlib inline` is a Jupyter notebook [magic function](http://ipython.readthedocs.io/en/stable/interactive/tutorial.html#magics-explained). It simply renders the figure created by the cell as a static image. This is useful for notebooks who you expect to \"run all\" cells routinely. Note also that this affects both Pandas and Seaborn rendering as well. \n",
    "\n",
    "An alternative is `%matplotlib notebook` which allows interactive figures (if your environment allows it).\n",
    "\n",
    "The best thing for the magic function to work is to have it be the first thing in your Jupyter notebook.\n",
    "\n",
    "We'll also import our packages into the namespace using the standard short names:"
   ]
  },
  {
   "cell_type": "code",
   "execution_count": null,
   "metadata": {
    "collapsed": true
   },
   "outputs": [],
   "source": [
    "import numpy as np\n",
    "import matplotlib.pyplot as plt "
   ]
  },
  {
   "cell_type": "markdown",
   "metadata": {},
   "source": [
    "The basic interaction of matplotlib is to pass data to functions in the `plt` module:"
   ]
  },
  {
   "cell_type": "code",
   "execution_count": null,
   "metadata": {
    "collapsed": false
   },
   "outputs": [],
   "source": [
    "# Create the X data points as a numpy array \n",
    "x = np.linspace(0, 10, 100)\n",
    "\n",
    "# Compose a plot\n",
    "plt.plot(x, x, label='linear')\n",
    "\n",
    "# Add a legend\n",
    "plt.legend()\n",
    "\n",
    "# Display the plot\n",
    "plt.show()"
   ]
  },
  {
   "cell_type": "markdown",
   "metadata": {},
   "source": [
    "Now it's your turn! \n",
    "\n",
    "Try out some of these commands to manipulate the plot:\n",
    "\n",
    "    figtext() \t\tAdd text to figure\n",
    "    title()           Add title to figure  \n",
    "    xlim()\t\t    Get or set x limits of current axes.\n",
    "    ylim()\t\t    Get or set y limits of current axes\n",
    "    subplot() \t    Return subplot axes (specify position)    \n",
    "    savefig() \t\tSave the current figure"
   ]
  },
  {
   "cell_type": "code",
   "execution_count": null,
   "metadata": {
    "collapsed": true
   },
   "outputs": [],
   "source": [
    "# # Create the X data points as a numpy array \n",
    "# x = np.linspace(0, 10, 100)\n",
    "\n",
    "# # Compose a plot\n",
    "# plt.plot(x, x, label='linear')\n",
    "\n",
    "# # Change the x-axis range\n",
    "# plt.xlim()\n",
    "\n",
    "# # Change the y-axis range\n",
    "# plt.ylim()\n",
    "\n",
    "# # Add a title\n",
    "# plt.title()\n",
    "\n",
    "# # Add text\n",
    "# plt.figtext()\n",
    "\n",
    "# # Add a legend\n",
    "# plt.legend()\n",
    "\n",
    "# # Add a subplot\n",
    "# plt.subplot()\n",
    "\n",
    "# # Save the figure\n",
    "# plt.savefig()\n",
    "\n",
    "# # Display the plot\n",
    "# plt.show()"
   ]
  },
  {
   "cell_type": "markdown",
   "metadata": {},
   "source": [
    "`matplotlib` comes with default functions that allow customizing nearly every part of the figure. This is both a benefit and a barrier: you have fine grained control at the cost of complexity. Generally speaking the matplotlib defaults are good, considering visibility for colorblind folks, printing in black and white, etc. In the [2.0 release](https://matplotlib.org/users/whats_new.html), the styles look better than ever.\n",
    "\n",
    "\n",
    "### A plot is like a canvas\n",
    "\n",
    "It's useful to think of a `matplotlib` plot as a canvas; as we add elements to the plot, it's as if we are painting additional layers onto the plot. In the below example, we create a set of points and then compute two different quadratic functions with our data. Then we \"paint\" the first function onto the plot, followed by the second function."
   ]
  },
  {
   "cell_type": "code",
   "execution_count": null,
   "metadata": {
    "collapsed": false
   },
   "outputs": [],
   "source": [
    "# Create the X data points as a numpy array \n",
    "X = np.linspace(-10, 10, 255)\n",
    "\n",
    "# Compute two quadratic functions \n",
    "Y1 = 2*X ** 2 + 10\n",
    "Y2 = 3*X ** 2 + 50 \n",
    "\n",
    "plt.plot(X, Y1)\n",
    "plt.plot(X, Y2)\n",
    "\n",
    "plt.show()"
   ]
  },
  {
   "cell_type": "markdown",
   "metadata": {},
   "source": [
    "The `plt.plot` function does a lot of work on our behalf: it initializes the figure, creates a subplot with axes, then computes and draws two `Line2D` objects. \n",
    "\n",
    "Let's now look at all the steps it would take to draw this from scratch, which also demonstrate the configuration control you have over the figure."
   ]
  },
  {
   "cell_type": "code",
   "execution_count": null,
   "metadata": {
    "collapsed": false
   },
   "outputs": [],
   "source": [
    "# Create a new figure of size 8x6 points, using 72 dots per inch \n",
    "plt.figure(figsize=(8,6), dpi=72)\n",
    "\n",
    "# Create a new subplot from a 1x1 grid \n",
    "plt.subplot(111)\n",
    "\n",
    "# Create the data to plot \n",
    "X = np.linspace(-10, 10, 255)\n",
    "Y1 = 2*X ** 2 + 10\n",
    "Y2 = 3*X ** 2 + 50 \n",
    "\n",
    "# Plot the first quadratic using a blue color with a continuous line of 1px\n",
    "plt.plot(X, Y1, color='blue', linewidth=1.0, linestyle='-')\n",
    "\n",
    "# Plot the second quadratic using a green color with a continuous line of 1px\n",
    "plt.plot(X, Y2, color='green', linewidth=1.0, linestyle='-')\n",
    "\n",
    "# Set the X limits \n",
    "plt.xlim(-10, 10)\n",
    "\n",
    "# Set the X ticks \n",
    "plt.xticks(np.linspace(-10, 10, 9, endpoint=True))\n",
    "\n",
    "# Set the Y limits \n",
    "plt.ylim(0, 350)\n",
    "\n",
    "# Set the Y ticks \n",
    "plt.yticks(np.linspace(0, 350, 5, endpoint=True))\n",
    "\n",
    "# Show the figure\n",
    "plt.show()"
   ]
  },
  {
   "cell_type": "markdown",
   "metadata": {},
   "source": [
    "Yikes! But this is why the pyplot API is so convenient - the goal of `pyplot` has always been to give as simple plotting functions as possible, so that figures can be drawn without much effort. In practice, it is easy to get simple graphs plotted, but much tougher to configure them as needed. \n",
    "\n",
    "Key points:\n",
    "\n",
    "- There is a global figure that is drawn on \n",
    "- The objects that are returned from these functions can be directly manipulated \n",
    "- Outside of a notebook nothing will be rendered until `plt.show` \n",
    "\n",
    "_Note: to get the same functionality in a Python script you'll have to tell `pyplot` to render the figure, either to an interactive backend like Tk or to an image, either raster or SVG:_\n",
    "\n",
    "    plt.show() \n",
    "    plt.savefig('myfig.pdf') "
   ]
  },
  {
   "cell_type": "markdown",
   "metadata": {},
   "source": [
    "### Colors and style "
   ]
  },
  {
   "cell_type": "code",
   "execution_count": null,
   "metadata": {
    "collapsed": false
   },
   "outputs": [],
   "source": [
    "# Create the data to plot \n",
    "# This data will be referenced for the next plots below\n",
    "# For Jupyter notebooks, pay attention to variables! \n",
    "\n",
    "X = np.linspace(-10, 10, 255)\n",
    "Y1 = 2*X ** 2 + 10\n",
    "Y2 = 3*X ** 2 + 50 "
   ]
  },
  {
   "cell_type": "markdown",
   "metadata": {},
   "source": [
    "We can directly pass colors and style to each of the drawing functions in the `pyplot` API. The arguments for color and linestyle can either be full words, e.g. \"blue\" or \"dashed\" or they can be shortcodes, for example 'b' or '--'. \n",
    "\n",
    "The color cycle in matplotlib determines which colors will be used for each new element drawn to the graph. The cycle is keyed to the short codes: 'bgrmyck' which stands for:\n",
    "\n",
    "    blue green red maroon yellow cyan key \n",
    "    \n",
    "A quick visualization of these colors is as follows:"
   ]
  },
  {
   "cell_type": "code",
   "execution_count": null,
   "metadata": {
    "collapsed": false
   },
   "outputs": [],
   "source": [
    "from matplotlib.colors import ListedColormap\n",
    "\n",
    "colors = 'brmyckg'\n",
    "fig, ax = plt.subplots(1, 1, figsize=(7, 1))\n",
    "ax.imshow(np.arange(7).reshape(1,7), cmap=ListedColormap(list(colors)), interpolation=\"nearest\", aspect=\"auto\")\n",
    "ax.set_xticks(np.arange(7) - .5)\n",
    "ax.set_yticks([-0.5,0.5])\n",
    "ax.set_xticklabels([])\n",
    "ax.set_yticklabels([])"
   ]
  },
  {
   "cell_type": "markdown",
   "metadata": {},
   "source": [
    "The default style is currently 'ggplot' -- though this is going to be updated soon. You can set the style of the graphs, or even provide your own CSS style sheet with the `plt.style.use` function: "
   ]
  },
  {
   "cell_type": "code",
   "execution_count": null,
   "metadata": {
    "collapsed": false
   },
   "outputs": [],
   "source": [
    "# Note that I'm going to use temporary styling so I don't mess up the notebook! \n",
    "with plt.style.context(('seaborn')):\n",
    "    plt.plot(X, Y1)\n",
    "    plt.plot(X, Y2)"
   ]
  },
  {
   "cell_type": "code",
   "execution_count": null,
   "metadata": {
    "collapsed": false
   },
   "outputs": [],
   "source": [
    "# To see the available styles:\n",
    "for style in plt.style.available: print(\"- {}\".format(style))"
   ]
  },
  {
   "cell_type": "markdown",
   "metadata": {},
   "source": [
    "Note also that styles can be composed together by passing a list. Styles farther to the right will override styles to the left. \n",
    "\n",
    "Line styles can be set using the following shortcodes (note that marker styles for scatter plots can also be set using filled and point shortcodes):\n",
    "\n",
    "![Line Styles](figures/linestyles.png)\n",
    "\n",
    "So back to our original graphs we can convert the figure to have different colors and styles:"
   ]
  },
  {
   "cell_type": "code",
   "execution_count": null,
   "metadata": {
    "collapsed": false
   },
   "outputs": [],
   "source": [
    "plt.figure(figsize=(9,6))\n",
    "plt.plot(X, Y1, color=\"b\", linewidth=2.5, linestyle=\"-\")\n",
    "plt.plot(X, Y2, color=\"r\", linewidth=2.5, linestyle=\"-\")"
   ]
  },
  {
   "cell_type": "markdown",
   "metadata": {},
   "source": [
    "We can also change the x and y limits to put some space into out graph:"
   ]
  },
  {
   "cell_type": "code",
   "execution_count": null,
   "metadata": {
    "collapsed": false
   },
   "outputs": [],
   "source": [
    "plt.figure(figsize=(9,6))\n",
    "plt.plot(X, Y1, color=\"b\", linewidth=2.5, linestyle=\"-\")\n",
    "plt.plot(X, Y2, color=\"r\", linewidth=2.5, linestyle=\"-\")\n",
    "\n",
    "plt.xlim(X.min()*1.1, X.max()*1.1)\n",
    "plt.ylim(Y1.min()*-1.1, Y2.max()*1.1)"
   ]
  },
  {
   "cell_type": "markdown",
   "metadata": {},
   "source": [
    "We can add a legend and a title:"
   ]
  },
  {
   "cell_type": "code",
   "execution_count": null,
   "metadata": {
    "collapsed": false
   },
   "outputs": [],
   "source": [
    "plt.figure(figsize=(9,6))\n",
    "plt.plot(X, Y1, color=\"b\", linewidth=2.5, linestyle=\"-\", label=\"Y1\")\n",
    "plt.plot(X, Y2, color=\"r\", linewidth=2.5, linestyle=\"-\", label=\"Y2\")\n",
    "\n",
    "plt.xlim(X.min()*1.1, X.max()*1.1)\n",
    "plt.ylim(Y1.min()*-1.1, Y2.max()*1.1)\n",
    "\n",
    "plt.title(\"Two Quadratic Curves\")\n",
    "plt.legend(loc='best')"
   ]
  },
  {
   "cell_type": "markdown",
   "metadata": {},
   "source": [
    "And annotate some points on our graph:"
   ]
  },
  {
   "cell_type": "code",
   "execution_count": null,
   "metadata": {
    "collapsed": false
   },
   "outputs": [],
   "source": [
    "plt.figure(figsize=(9,6))\n",
    "plt.plot(X, Y1, color=\"b\", linewidth=2.5, linestyle=\"-\", label=\"Y1\")\n",
    "plt.plot(X, Y2, color=\"r\", linewidth=2.5, linestyle=\"-\", label=\"Y2\")\n",
    "\n",
    "plt.xlim(X.min()*1.1, X.max()*1.1)\n",
    "plt.ylim(0, Y2.max()*1.1)\n",
    "\n",
    "plt.title(\"Two Quadratic Curves\")\n",
    "plt.legend(loc='best')\n",
    "\n",
    "# Annotate the blue line \n",
    "x = 6 \n",
    "y = 2*x ** 2 + 10\n",
    "plt.plot([x,x], [0, y], color='blue', linewidth=1.5, linestyle='--')\n",
    "plt.scatter([x,], [y,], color='blue', s=50, marker='D')\n",
    "\n",
    "plt.annotate(\n",
    "    r'$2x^2+10={}$'.format(y), xy=(x,y), xycoords='data', xytext=(10,-50), \n",
    "    fontsize=16, textcoords='offset points',\n",
    "    arrowprops=dict(arrowstyle=\"->\", connectionstyle=\"arc3,rad=.2\")\n",
    ")\n",
    "\n",
    "# Annotate the red line\n",
    "x = -3\n",
    "y = 3*x ** 2 + 50\n",
    "plt.plot([x,x], [0, y], color='red', linewidth=1.5, linestyle='--')\n",
    "plt.scatter([x,], [y,], color='red', s=50, marker='s')\n",
    "\n",
    "plt.annotate(\n",
    "    r'$3x^2+50={}$'.format(y), xy=(x,y), xycoords='data', xytext=(10,50), \n",
    "    fontsize=16, textcoords='offset points',\n",
    "    arrowprops=dict(arrowstyle=\"->\", connectionstyle=\"arc3,rad=.2\")\n",
    ")"
   ]
  },
  {
   "cell_type": "markdown",
   "metadata": {},
   "source": [
    "### Figures, Subplots, and Axes \n",
    "\n",
    "The figure is the GUI window that displays the entirety of the drawing. Figures are numbered starting from 1, and each new plot has its own figure. Generally speaking though, you're only working on one global figure at a time. Figures have several properties that can be configured:\n",
    "\n",
    "- **num**: the number of the figure. \n",
    "- **figsize**: the size of the figure in inches (width, height)\n",
    "- **dpi**: resolution in dots per inch\n",
    "- **facecolor**: the color of the drawing background \n",
    "- **edgecolor**: the color of the edge around the drawing background\n",
    "- **frameon**: draw the figure frame or not \n",
    "\n",
    "Subplots allow you to arrange plots in a rectangular grid. They are specified by the rows and columns as well as the number of the plot (e.g. it's id). \n",
    "\n",
    "Here's how to add a subplot:\n",
    "\n",
    "    fig = plt.figure()\n",
    "    ax = fig.add_subplot(111)\n",
    "\n",
    "The 111 above actually means 1,1,1 - in the above example we're passing three different arguments to add_subplot(). The three arguments designate the number of rows (1), the number of columns (1) and the plot number (1) of a single subplot. You can also add multiple subplots.\n",
    "\n",
    "The [gridspec](http://matplotlib.sourceforge.net/users/gridspec.html) command gives a much more controlled alternative. \n",
    "\n",
    "![horizontal](figures/subplot-horizontal.png)\n",
    "\n",
    "![vertical](figures/subplot-vertical.png)\n",
    "\n",
    "![grid](figures/subplot-grid.png)\n",
    "\n",
    "Axes are very similar to subplots but allow placement of plots at any location in the figure. This allows more fine grained plot within a plot control, but also the addition of complex images, for example colorbars for heatmaps. Because axes are the primary drawing space, they can also be worked on directly, usually with the `set_[]` style command. \n",
    "\n",
    "![axes](figures/axes.png)\n",
    "\n",
    "![axes](figures/axes-2.png)\n",
    "\n",
    "\n",
    "\n",
    "### Colormaps\n",
    "\n",
    "See also: [Matplotlib colormaps](http://matplotlib.org/users/colormaps.html)"
   ]
  },
  {
   "cell_type": "code",
   "execution_count": null,
   "metadata": {
    "collapsed": false
   },
   "outputs": [],
   "source": [
    "# Make up some fake data\n",
    "x = np.linspace(-np.pi, np.pi, 50) \n",
    "y = np.linspace(-np.pi, np.pi, 50)\n",
    "X,Y = np.meshgrid(x,y)\n",
    "Z = np.sin(X + Y/4)\n",
    "\n",
    "fig = plt.figure(figsize = (12,2.5))\n",
    "fig.subplots_adjust(wspace=0.3)\n",
    "\n",
    "# Blues\n",
    "plt.subplot(1,3,1)\n",
    "plt.pcolormesh(X, Y, Z, cmap=plt.cm.get_cmap('Blues'))\n",
    "plt.colorbar()\n",
    "plt.axis([-3, 3, -3, 3])\n",
    "plt.title('Sequential')\n",
    "\n",
    "# Red-Blue\n",
    "plt.subplot(1,3,2)\n",
    "plt.pcolormesh(X, Y, Z, cmap=plt.cm.get_cmap('RdBu'))\n",
    "plt.colorbar()\n",
    "plt.axis([-3, 3, -3, 3])\n",
    "plt.title('Diverging')\n",
    "\n",
    "# Red-Blue\n",
    "plt.subplot(1,3,3)\n",
    "plt.pcolormesh(X, Y, Z, cmap=plt.cm.get_cmap('plasma'))\n",
    "plt.colorbar()\n",
    "plt.axis([-3, 3, -3, 3])\n",
    "plt.title('Fancy!')"
   ]
  },
  {
   "cell_type": "markdown",
   "metadata": {},
   "source": [
    "### Anatomy of a `matplotlib` plot"
   ]
  },
  {
   "cell_type": "code",
   "execution_count": null,
   "metadata": {
    "collapsed": false
   },
   "outputs": [],
   "source": [
    "from matplotlib.ticker import AutoMinorLocator, MultipleLocator, FuncFormatter\n",
    "\n",
    "\n",
    "np.random.seed(19680801)\n",
    "\n",
    "X = np.linspace(0.5, 3.5, 100)\n",
    "Y1 = 3+np.cos(X)\n",
    "Y2 = 1+np.cos(1+X/0.75)/2\n",
    "Y3 = np.random.uniform(Y1, Y2, len(X))\n",
    "\n",
    "fig = plt.figure(figsize=(8, 8))\n",
    "ax = fig.add_subplot(1, 1, 1, aspect=1)\n",
    "\n",
    "\n",
    "def minor_tick(x, pos):\n",
    "    if not x % 1.0:\n",
    "        return \"\"\n",
    "    return \"%.2f\" % x\n",
    "\n",
    "ax.xaxis.set_major_locator(MultipleLocator(1.000))\n",
    "ax.xaxis.set_minor_locator(AutoMinorLocator(4))\n",
    "ax.yaxis.set_major_locator(MultipleLocator(1.000))\n",
    "ax.yaxis.set_minor_locator(AutoMinorLocator(4))\n",
    "ax.xaxis.set_minor_formatter(FuncFormatter(minor_tick))\n",
    "\n",
    "ax.set_xlim(0, 4)\n",
    "ax.set_ylim(0, 4)\n",
    "\n",
    "ax.tick_params(which='major', width=1.0)\n",
    "ax.tick_params(which='major', length=10)\n",
    "ax.tick_params(which='minor', width=1.0, labelsize=10)\n",
    "ax.tick_params(which='minor', length=5, labelsize=10, labelcolor='0.25')\n",
    "\n",
    "ax.grid(linestyle=\"--\", linewidth=0.5, color='.25', zorder=-10)\n",
    "\n",
    "ax.plot(X, Y1, c=(0.25, 0.25, 1.00), lw=2, label=\"Blue signal\", zorder=10)\n",
    "ax.plot(X, Y2, c=(1.00, 0.25, 0.25), lw=2, label=\"Red signal\")\n",
    "ax.plot(X, Y3, linewidth=0,\n",
    "        marker='o', markerfacecolor='w', markeredgecolor='k')\n",
    "\n",
    "ax.set_title(\"Anatomy of a figure\", fontsize=20, verticalalignment='bottom')\n",
    "ax.set_xlabel(\"X axis label\")\n",
    "ax.set_ylabel(\"Y axis label\")\n",
    "\n",
    "ax.legend()\n",
    "\n",
    "\n",
    "def circle(x, y, radius=0.15):\n",
    "    from matplotlib.patches import Circle\n",
    "    from matplotlib.patheffects import withStroke\n",
    "    circle = Circle((x, y), radius, clip_on=False, zorder=10, linewidth=1,\n",
    "                    edgecolor='black', facecolor=(0, 0, 0, .0125),\n",
    "                    path_effects=[withStroke(linewidth=5, foreground='w')])\n",
    "    ax.add_artist(circle)\n",
    "\n",
    "\n",
    "def text(x, y, text):\n",
    "    ax.text(x, y, text, backgroundcolor=\"white\",\n",
    "            ha='center', va='top', weight='bold', color='blue')\n",
    "\n",
    "\n",
    "# Minor tick\n",
    "circle(0.50, -0.10)\n",
    "text(0.50, -0.32, \"Minor tick label\")\n",
    "\n",
    "# Major tick\n",
    "circle(-0.03, 4.00)\n",
    "text(0.03, 3.80, \"Major tick\")\n",
    "\n",
    "# Minor tick\n",
    "circle(0.00, 3.50)\n",
    "text(0.00, 3.30, \"Minor tick\")\n",
    "\n",
    "# Major tick label\n",
    "circle(-0.15, 3.00)\n",
    "text(-0.15, 2.80, \"Major tick label\")\n",
    "\n",
    "# X Label\n",
    "circle(1.80, -0.27)\n",
    "text(1.80, -0.45, \"X axis label\")\n",
    "\n",
    "# Y Label\n",
    "circle(-0.27, 1.80)\n",
    "text(-0.27, 1.6, \"Y axis label\")\n",
    "\n",
    "# Title\n",
    "circle(1.60, 4.13)\n",
    "text(1.60, 3.93, \"Title\")\n",
    "\n",
    "# Blue plot\n",
    "circle(1.75, 2.80)\n",
    "text(1.75, 2.60, \"Line\\n(line plot)\")\n",
    "\n",
    "# Red plot\n",
    "circle(1.20, 0.60)\n",
    "text(1.20, 0.40, \"Line\\n(line plot)\")\n",
    "\n",
    "# Scatter plot\n",
    "circle(3.20, 1.75)\n",
    "text(3.20, 1.55, \"Markers\\n(scatter plot)\")\n",
    "\n",
    "# Grid\n",
    "circle(3.00, 3.00)\n",
    "text(3.00, 2.80, \"Grid\")\n",
    "\n",
    "# Legend\n",
    "circle(3.70, 3.80)\n",
    "text(3.70, 3.60, \"Legend\")\n",
    "\n",
    "# Axes\n",
    "circle(0.5, 0.5)\n",
    "text(0.5, 0.3, \"Axes\")\n",
    "\n",
    "# Figure\n",
    "circle(-0.3, 0.65)\n",
    "text(-0.3, 0.45, \"Figure\")\n",
    "\n",
    "color = 'blue'\n",
    "ax.annotate('Spines', xy=(4.0, 0.35), xycoords='data',\n",
    "            xytext=(3.3, 0.5), textcoords='data',\n",
    "            weight='bold', color=color,\n",
    "            arrowprops=dict(arrowstyle='->',\n",
    "                            connectionstyle=\"arc3\",\n",
    "                            color=color))\n",
    "\n",
    "ax.annotate('', xy=(3.15, 0.0), xycoords='data',\n",
    "            xytext=(3.45, 0.45), textcoords='data',\n",
    "            weight='bold', color=color,\n",
    "            arrowprops=dict(arrowstyle='->',\n",
    "                            connectionstyle=\"arc3\",\n",
    "                            color=color))\n",
    "\n",
    "ax.text(4.0, -0.4, \"Made with http://matplotlib.org\",\n",
    "        fontsize=10, ha=\"right\", color='.5')\n",
    "\n",
    "plt.show()"
   ]
  },
  {
   "cell_type": "markdown",
   "metadata": {},
   "source": [
    "Now it's your turn to experiment! \n",
    "\n",
    "For more about matplotlib, check out the [full documentation](http://matplotlib.org)."
   ]
  }
 ],
 "metadata": {
  "kernelspec": {
   "display_name": "Python 3",
   "language": "python",
   "name": "python3"
  },
  "language_info": {
   "codemirror_mode": {
    "name": "ipython",
    "version": 3
   },
   "file_extension": ".py",
   "mimetype": "text/x-python",
   "name": "python",
   "nbconvert_exporter": "python",
   "pygments_lexer": "ipython3",
   "version": "3.5.2"
  }
 },
 "nbformat": 4,
 "nbformat_minor": 0
}
