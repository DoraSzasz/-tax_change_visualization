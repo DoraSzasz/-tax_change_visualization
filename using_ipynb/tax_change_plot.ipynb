{
 "cells": [
  {
   "cell_type": "code",
   "execution_count": 1,
   "metadata": {},
   "outputs": [],
   "source": [
    "#importing some libraries\n",
    "import pandas as pd\n",
    "from os import path\n",
    "\n",
    "#importing Bokeh libraries\n",
    "from bokeh.plotting import figure\n",
    "from bokeh.models import ColumnDataSource\n",
    "from bokeh.models.widgets import Select\n",
    "from bkcharts import Line, Bar\n",
    "from bkcharts.attributes import cat, ColorAttr, color\n",
    "from bkcharts.operations import blend\n",
    "from bokeh.layouts import column\n",
    "from bokeh.io import output_file, show\n",
    "from bokeh.models import BoxZoomTool, ResetTool, ResetTool, SaveTool\n",
    "from bokeh.models import FuncTickFormatter\n",
    "from bokeh.models import CustomJS, Slider"
   ]
  },
  {
   "cell_type": "code",
   "execution_count": 2,
   "metadata": {
    "collapsed": true
   },
   "outputs": [],
   "source": [
    "#load data as DataFrame\n",
    "df = pd.read_csv(\"resources/dataset_tax_change.csv\", decimal=\",\", encoding='utf-8-sig')"
   ]
  },
  {
   "cell_type": "code",
   "execution_count": 3,
   "metadata": {},
   "outputs": [
    {
     "data": {
      "text/html": [
       "<div>\n",
       "<style>\n",
       "    .dataframe thead tr:only-child th {\n",
       "        text-align: right;\n",
       "    }\n",
       "\n",
       "    .dataframe thead th {\n",
       "        text-align: left;\n",
       "    }\n",
       "\n",
       "    .dataframe tbody tr th {\n",
       "        vertical-align: top;\n",
       "    }\n",
       "</style>\n",
       "<table border=\"1\" class=\"dataframe\">\n",
       "  <thead>\n",
       "    <tr style=\"text-align: right;\">\n",
       "      <th></th>\n",
       "      <th>Unnamed: 0</th>\n",
       "      <th>Tax Units with Tax Cut</th>\n",
       "      <th>Tax Units with Tax Increase</th>\n",
       "      <th>Count</th>\n",
       "      <th>Average Tax Change</th>\n",
       "      <th>Total Tax Difference</th>\n",
       "      <th>Percent with Tax Increase</th>\n",
       "      <th>Percent with Tax Decrease</th>\n",
       "      <th>Share of Overall Change</th>\n",
       "    </tr>\n",
       "  </thead>\n",
       "  <tbody>\n",
       "    <tr>\n",
       "      <th>0</th>\n",
       "      <td>NaN</td>\n",
       "      <td>Thousands</td>\n",
       "      <td>Thousands</td>\n",
       "      <td>Thousands</td>\n",
       "      <td>NaN</td>\n",
       "      <td>Billions</td>\n",
       "      <td>NaN</td>\n",
       "      <td>NaN</td>\n",
       "      <td>NaN</td>\n",
       "    </tr>\n",
       "    <tr>\n",
       "      <th>1</th>\n",
       "      <td>Less than 10</td>\n",
       "      <td>1,436</td>\n",
       "      <td>477</td>\n",
       "      <td>23,157</td>\n",
       "      <td>-8.000</td>\n",
       "      <td>-0.2</td>\n",
       "      <td>2.1</td>\n",
       "      <td>6.2</td>\n",
       "      <td>0.5</td>\n",
       "    </tr>\n",
       "    <tr>\n",
       "      <th>2</th>\n",
       "      <td>10-20</td>\n",
       "      <td>7,015</td>\n",
       "      <td>111</td>\n",
       "      <td>24,467</td>\n",
       "      <td>-81.000</td>\n",
       "      <td>-2.0</td>\n",
       "      <td>0.5</td>\n",
       "      <td>28.7</td>\n",
       "      <td>5.9</td>\n",
       "    </tr>\n",
       "    <tr>\n",
       "      <th>3</th>\n",
       "      <td>20-30</td>\n",
       "      <td>9,483</td>\n",
       "      <td>106</td>\n",
       "      <td>18,943</td>\n",
       "      <td>-184.000</td>\n",
       "      <td>-3.5</td>\n",
       "      <td>0.6</td>\n",
       "      <td>50.1</td>\n",
       "      <td>10.4</td>\n",
       "    </tr>\n",
       "    <tr>\n",
       "      <th>4</th>\n",
       "      <td>30-40</td>\n",
       "      <td>11,352</td>\n",
       "      <td>307</td>\n",
       "      <td>16,372</td>\n",
       "      <td>-297.000</td>\n",
       "      <td>-4.9</td>\n",
       "      <td>1.9</td>\n",
       "      <td>69.3</td>\n",
       "      <td>14.4</td>\n",
       "    </tr>\n",
       "    <tr>\n",
       "      <th>5</th>\n",
       "      <td>40-50</td>\n",
       "      <td>9,795</td>\n",
       "      <td>374</td>\n",
       "      <td>13,283</td>\n",
       "      <td>-370.000</td>\n",
       "      <td>-4.9</td>\n",
       "      <td>2.8</td>\n",
       "      <td>73.7</td>\n",
       "      <td>14.6</td>\n",
       "    </tr>\n",
       "    <tr>\n",
       "      <th>6</th>\n",
       "      <td>50-75</td>\n",
       "      <td>17,029</td>\n",
       "      <td>1,201</td>\n",
       "      <td>22,758</td>\n",
       "      <td>-553.000</td>\n",
       "      <td>-12.6</td>\n",
       "      <td>5.3</td>\n",
       "      <td>74.8</td>\n",
       "      <td>37.3</td>\n",
       "    </tr>\n",
       "    <tr>\n",
       "      <th>7</th>\n",
       "      <td>75-100</td>\n",
       "      <td>9,208</td>\n",
       "      <td>1,294</td>\n",
       "      <td>13,548</td>\n",
       "      <td>-577.000</td>\n",
       "      <td>-7.8</td>\n",
       "      <td>9.6</td>\n",
       "      <td>68.0</td>\n",
       "      <td>23.2</td>\n",
       "    </tr>\n",
       "    <tr>\n",
       "      <th>8</th>\n",
       "      <td>100-200</td>\n",
       "      <td>11,100</td>\n",
       "      <td>4,332</td>\n",
       "      <td>23,024</td>\n",
       "      <td>-512.000</td>\n",
       "      <td>-11.8</td>\n",
       "      <td>18.8</td>\n",
       "      <td>48.2</td>\n",
       "      <td>35.0</td>\n",
       "    </tr>\n",
       "    <tr>\n",
       "      <th>9</th>\n",
       "      <td>200-500</td>\n",
       "      <td>691</td>\n",
       "      <td>4,421</td>\n",
       "      <td>7,922</td>\n",
       "      <td>245.000</td>\n",
       "      <td>1.9</td>\n",
       "      <td>55.8</td>\n",
       "      <td>8.7</td>\n",
       "      <td>-5.8</td>\n",
       "    </tr>\n",
       "    <tr>\n",
       "      <th>10</th>\n",
       "      <td>500-1000</td>\n",
       "      <td>57</td>\n",
       "      <td>710</td>\n",
       "      <td>1,179</td>\n",
       "      <td>2.461</td>\n",
       "      <td>2.9</td>\n",
       "      <td>60.2</td>\n",
       "      <td>4.8</td>\n",
       "      <td>-8.6</td>\n",
       "    </tr>\n",
       "    <tr>\n",
       "      <th>11</th>\n",
       "      <td>1000+</td>\n",
       "      <td>40</td>\n",
       "      <td>420</td>\n",
       "      <td>636</td>\n",
       "      <td>14.225</td>\n",
       "      <td>9.0</td>\n",
       "      <td>66.0</td>\n",
       "      <td>6.3</td>\n",
       "      <td>-26.8</td>\n",
       "    </tr>\n",
       "    <tr>\n",
       "      <th>12</th>\n",
       "      <td>All</td>\n",
       "      <td>77,208</td>\n",
       "      <td>13,760</td>\n",
       "      <td>170,055</td>\n",
       "      <td>0.000</td>\n",
       "      <td>-33.7</td>\n",
       "      <td>0</td>\n",
       "      <td>0</td>\n",
       "      <td>100.0</td>\n",
       "    </tr>\n",
       "    <tr>\n",
       "      <th>13</th>\n",
       "      <td>Source: https://www.ospc.org/taxbrain/14814/</td>\n",
       "      <td>NaN</td>\n",
       "      <td>NaN</td>\n",
       "      <td>NaN</td>\n",
       "      <td>NaN</td>\n",
       "      <td>NaN</td>\n",
       "      <td>NaN</td>\n",
       "      <td>NaN</td>\n",
       "      <td>NaN</td>\n",
       "    </tr>\n",
       "  </tbody>\n",
       "</table>\n",
       "</div>"
      ],
      "text/plain": [
       "                                      Unnamed: 0 Tax Units with Tax Cut  \\\n",
       "0                                            NaN              Thousands   \n",
       "1                                   Less than 10                  1,436   \n",
       "2                                          10-20                  7,015   \n",
       "3                                          20-30                  9,483   \n",
       "4                                          30-40                 11,352   \n",
       "5                                          40-50                  9,795   \n",
       "6                                          50-75                 17,029   \n",
       "7                                         75-100                  9,208   \n",
       "8                                        100-200                 11,100   \n",
       "9                                        200-500                    691   \n",
       "10                                      500-1000                     57   \n",
       "11                                         1000+                     40   \n",
       "12                                           All                 77,208   \n",
       "13  Source: https://www.ospc.org/taxbrain/14814/                    NaN   \n",
       "\n",
       "   Tax Units with Tax Increase      Count  Average Tax Change  \\\n",
       "0                    Thousands  Thousands                 NaN   \n",
       "1                          477     23,157              -8.000   \n",
       "2                          111     24,467             -81.000   \n",
       "3                          106     18,943            -184.000   \n",
       "4                          307     16,372            -297.000   \n",
       "5                          374     13,283            -370.000   \n",
       "6                        1,201     22,758            -553.000   \n",
       "7                        1,294     13,548            -577.000   \n",
       "8                        4,332     23,024            -512.000   \n",
       "9                        4,421      7,922             245.000   \n",
       "10                         710      1,179               2.461   \n",
       "11                         420        636              14.225   \n",
       "12                      13,760    170,055               0.000   \n",
       "13                         NaN        NaN                 NaN   \n",
       "\n",
       "   Total Tax Difference Percent with Tax Increase Percent with Tax Decrease  \\\n",
       "0              Billions                       NaN                       NaN   \n",
       "1                  -0.2                       2.1                       6.2   \n",
       "2                  -2.0                       0.5                      28.7   \n",
       "3                  -3.5                       0.6                      50.1   \n",
       "4                  -4.9                       1.9                      69.3   \n",
       "5                  -4.9                       2.8                      73.7   \n",
       "6                 -12.6                       5.3                      74.8   \n",
       "7                  -7.8                       9.6                      68.0   \n",
       "8                 -11.8                      18.8                      48.2   \n",
       "9                   1.9                      55.8                       8.7   \n",
       "10                  2.9                      60.2                       4.8   \n",
       "11                  9.0                      66.0                       6.3   \n",
       "12                -33.7                         0                         0   \n",
       "13                  NaN                       NaN                       NaN   \n",
       "\n",
       "   Share of Overall Change  \n",
       "0                      NaN  \n",
       "1                      0.5  \n",
       "2                      5.9  \n",
       "3                     10.4  \n",
       "4                     14.4  \n",
       "5                     14.6  \n",
       "6                     37.3  \n",
       "7                     23.2  \n",
       "8                     35.0  \n",
       "9                     -5.8  \n",
       "10                    -8.6  \n",
       "11                   -26.8  \n",
       "12                   100.0  \n",
       "13                     NaN  "
      ]
     },
     "execution_count": 3,
     "metadata": {},
     "output_type": "execute_result"
    }
   ],
   "source": [
    "df"
   ]
  },
  {
   "cell_type": "code",
   "execution_count": 4,
   "metadata": {},
   "outputs": [
    {
     "data": {
      "text/plain": [
       "['Unnamed: 0',\n",
       " 'Tax Units with Tax Cut',\n",
       " 'Tax Units with Tax Increase',\n",
       " 'Count',\n",
       " 'Average Tax Change',\n",
       " 'Total Tax Difference',\n",
       " 'Percent with Tax Increase',\n",
       " 'Percent with Tax Decrease',\n",
       " 'Share of Overall Change']"
      ]
     },
     "execution_count": 4,
     "metadata": {},
     "output_type": "execute_result"
    }
   ],
   "source": [
    "list(df)"
   ]
  },
  {
   "cell_type": "code",
   "execution_count": 5,
   "metadata": {},
   "outputs": [],
   "source": [
    "df_data = df[['Unnamed: 0','Tax Units with Tax Cut', 'Tax Units with Tax Increase', 'Average Tax Change']]"
   ]
  },
  {
   "cell_type": "code",
   "execution_count": 6,
   "metadata": {},
   "outputs": [
    {
     "data": {
      "text/html": [
       "<div>\n",
       "<style>\n",
       "    .dataframe thead tr:only-child th {\n",
       "        text-align: right;\n",
       "    }\n",
       "\n",
       "    .dataframe thead th {\n",
       "        text-align: left;\n",
       "    }\n",
       "\n",
       "    .dataframe tbody tr th {\n",
       "        vertical-align: top;\n",
       "    }\n",
       "</style>\n",
       "<table border=\"1\" class=\"dataframe\">\n",
       "  <thead>\n",
       "    <tr style=\"text-align: right;\">\n",
       "      <th></th>\n",
       "      <th>Unnamed: 0</th>\n",
       "      <th>Tax Units with Tax Cut</th>\n",
       "      <th>Tax Units with Tax Increase</th>\n",
       "      <th>Average Tax Change</th>\n",
       "    </tr>\n",
       "  </thead>\n",
       "  <tbody>\n",
       "    <tr>\n",
       "      <th>0</th>\n",
       "      <td>NaN</td>\n",
       "      <td>Thousands</td>\n",
       "      <td>Thousands</td>\n",
       "      <td>NaN</td>\n",
       "    </tr>\n",
       "    <tr>\n",
       "      <th>1</th>\n",
       "      <td>Less than 10</td>\n",
       "      <td>1,436</td>\n",
       "      <td>477</td>\n",
       "      <td>-8.000</td>\n",
       "    </tr>\n",
       "    <tr>\n",
       "      <th>2</th>\n",
       "      <td>10-20</td>\n",
       "      <td>7,015</td>\n",
       "      <td>111</td>\n",
       "      <td>-81.000</td>\n",
       "    </tr>\n",
       "    <tr>\n",
       "      <th>3</th>\n",
       "      <td>20-30</td>\n",
       "      <td>9,483</td>\n",
       "      <td>106</td>\n",
       "      <td>-184.000</td>\n",
       "    </tr>\n",
       "    <tr>\n",
       "      <th>4</th>\n",
       "      <td>30-40</td>\n",
       "      <td>11,352</td>\n",
       "      <td>307</td>\n",
       "      <td>-297.000</td>\n",
       "    </tr>\n",
       "    <tr>\n",
       "      <th>5</th>\n",
       "      <td>40-50</td>\n",
       "      <td>9,795</td>\n",
       "      <td>374</td>\n",
       "      <td>-370.000</td>\n",
       "    </tr>\n",
       "    <tr>\n",
       "      <th>6</th>\n",
       "      <td>50-75</td>\n",
       "      <td>17,029</td>\n",
       "      <td>1,201</td>\n",
       "      <td>-553.000</td>\n",
       "    </tr>\n",
       "    <tr>\n",
       "      <th>7</th>\n",
       "      <td>75-100</td>\n",
       "      <td>9,208</td>\n",
       "      <td>1,294</td>\n",
       "      <td>-577.000</td>\n",
       "    </tr>\n",
       "    <tr>\n",
       "      <th>8</th>\n",
       "      <td>100-200</td>\n",
       "      <td>11,100</td>\n",
       "      <td>4,332</td>\n",
       "      <td>-512.000</td>\n",
       "    </tr>\n",
       "    <tr>\n",
       "      <th>9</th>\n",
       "      <td>200-500</td>\n",
       "      <td>691</td>\n",
       "      <td>4,421</td>\n",
       "      <td>245.000</td>\n",
       "    </tr>\n",
       "    <tr>\n",
       "      <th>10</th>\n",
       "      <td>500-1000</td>\n",
       "      <td>57</td>\n",
       "      <td>710</td>\n",
       "      <td>2.461</td>\n",
       "    </tr>\n",
       "    <tr>\n",
       "      <th>11</th>\n",
       "      <td>1000+</td>\n",
       "      <td>40</td>\n",
       "      <td>420</td>\n",
       "      <td>14.225</td>\n",
       "    </tr>\n",
       "    <tr>\n",
       "      <th>12</th>\n",
       "      <td>All</td>\n",
       "      <td>77,208</td>\n",
       "      <td>13,760</td>\n",
       "      <td>0.000</td>\n",
       "    </tr>\n",
       "    <tr>\n",
       "      <th>13</th>\n",
       "      <td>Source: https://www.ospc.org/taxbrain/14814/</td>\n",
       "      <td>NaN</td>\n",
       "      <td>NaN</td>\n",
       "      <td>NaN</td>\n",
       "    </tr>\n",
       "  </tbody>\n",
       "</table>\n",
       "</div>"
      ],
      "text/plain": [
       "                                      Unnamed: 0 Tax Units with Tax Cut  \\\n",
       "0                                            NaN              Thousands   \n",
       "1                                   Less than 10                  1,436   \n",
       "2                                          10-20                  7,015   \n",
       "3                                          20-30                  9,483   \n",
       "4                                          30-40                 11,352   \n",
       "5                                          40-50                  9,795   \n",
       "6                                          50-75                 17,029   \n",
       "7                                         75-100                  9,208   \n",
       "8                                        100-200                 11,100   \n",
       "9                                        200-500                    691   \n",
       "10                                      500-1000                     57   \n",
       "11                                         1000+                     40   \n",
       "12                                           All                 77,208   \n",
       "13  Source: https://www.ospc.org/taxbrain/14814/                    NaN   \n",
       "\n",
       "   Tax Units with Tax Increase  Average Tax Change  \n",
       "0                    Thousands                 NaN  \n",
       "1                          477              -8.000  \n",
       "2                          111             -81.000  \n",
       "3                          106            -184.000  \n",
       "4                          307            -297.000  \n",
       "5                          374            -370.000  \n",
       "6                        1,201            -553.000  \n",
       "7                        1,294            -577.000  \n",
       "8                        4,332            -512.000  \n",
       "9                        4,421             245.000  \n",
       "10                         710               2.461  \n",
       "11                         420              14.225  \n",
       "12                      13,760               0.000  \n",
       "13                         NaN                 NaN  "
      ]
     },
     "execution_count": 6,
     "metadata": {},
     "output_type": "execute_result"
    }
   ],
   "source": [
    "df_data"
   ]
  },
  {
   "cell_type": "code",
   "execution_count": 7,
   "metadata": {
    "collapsed": true
   },
   "outputs": [],
   "source": [
    "df_dropped=df_data.drop(df.index[[0,len(df_data['Tax Units with Tax Cut'])-1]])"
   ]
  },
  {
   "cell_type": "code",
   "execution_count": 8,
   "metadata": {},
   "outputs": [
    {
     "data": {
      "text/plain": [
       "13"
      ]
     },
     "execution_count": 8,
     "metadata": {},
     "output_type": "execute_result"
    }
   ],
   "source": [
    "len(df_data['Tax Units with Tax Cut'])-1"
   ]
  },
  {
   "cell_type": "code",
   "execution_count": 9,
   "metadata": {},
   "outputs": [
    {
     "data": {
      "text/html": [
       "<div>\n",
       "<style>\n",
       "    .dataframe thead tr:only-child th {\n",
       "        text-align: right;\n",
       "    }\n",
       "\n",
       "    .dataframe thead th {\n",
       "        text-align: left;\n",
       "    }\n",
       "\n",
       "    .dataframe tbody tr th {\n",
       "        vertical-align: top;\n",
       "    }\n",
       "</style>\n",
       "<table border=\"1\" class=\"dataframe\">\n",
       "  <thead>\n",
       "    <tr style=\"text-align: right;\">\n",
       "      <th></th>\n",
       "      <th>Unnamed: 0</th>\n",
       "      <th>Tax Units with Tax Cut</th>\n",
       "      <th>Tax Units with Tax Increase</th>\n",
       "      <th>Average Tax Change</th>\n",
       "    </tr>\n",
       "  </thead>\n",
       "  <tbody>\n",
       "    <tr>\n",
       "      <th>1</th>\n",
       "      <td>Less than 10</td>\n",
       "      <td>1,436</td>\n",
       "      <td>477</td>\n",
       "      <td>-8.000</td>\n",
       "    </tr>\n",
       "    <tr>\n",
       "      <th>2</th>\n",
       "      <td>10-20</td>\n",
       "      <td>7,015</td>\n",
       "      <td>111</td>\n",
       "      <td>-81.000</td>\n",
       "    </tr>\n",
       "    <tr>\n",
       "      <th>3</th>\n",
       "      <td>20-30</td>\n",
       "      <td>9,483</td>\n",
       "      <td>106</td>\n",
       "      <td>-184.000</td>\n",
       "    </tr>\n",
       "    <tr>\n",
       "      <th>4</th>\n",
       "      <td>30-40</td>\n",
       "      <td>11,352</td>\n",
       "      <td>307</td>\n",
       "      <td>-297.000</td>\n",
       "    </tr>\n",
       "    <tr>\n",
       "      <th>5</th>\n",
       "      <td>40-50</td>\n",
       "      <td>9,795</td>\n",
       "      <td>374</td>\n",
       "      <td>-370.000</td>\n",
       "    </tr>\n",
       "    <tr>\n",
       "      <th>6</th>\n",
       "      <td>50-75</td>\n",
       "      <td>17,029</td>\n",
       "      <td>1,201</td>\n",
       "      <td>-553.000</td>\n",
       "    </tr>\n",
       "    <tr>\n",
       "      <th>7</th>\n",
       "      <td>75-100</td>\n",
       "      <td>9,208</td>\n",
       "      <td>1,294</td>\n",
       "      <td>-577.000</td>\n",
       "    </tr>\n",
       "    <tr>\n",
       "      <th>8</th>\n",
       "      <td>100-200</td>\n",
       "      <td>11,100</td>\n",
       "      <td>4,332</td>\n",
       "      <td>-512.000</td>\n",
       "    </tr>\n",
       "    <tr>\n",
       "      <th>9</th>\n",
       "      <td>200-500</td>\n",
       "      <td>691</td>\n",
       "      <td>4,421</td>\n",
       "      <td>245.000</td>\n",
       "    </tr>\n",
       "    <tr>\n",
       "      <th>10</th>\n",
       "      <td>500-1000</td>\n",
       "      <td>57</td>\n",
       "      <td>710</td>\n",
       "      <td>2.461</td>\n",
       "    </tr>\n",
       "    <tr>\n",
       "      <th>11</th>\n",
       "      <td>1000+</td>\n",
       "      <td>40</td>\n",
       "      <td>420</td>\n",
       "      <td>14.225</td>\n",
       "    </tr>\n",
       "    <tr>\n",
       "      <th>12</th>\n",
       "      <td>All</td>\n",
       "      <td>77,208</td>\n",
       "      <td>13,760</td>\n",
       "      <td>0.000</td>\n",
       "    </tr>\n",
       "  </tbody>\n",
       "</table>\n",
       "</div>"
      ],
      "text/plain": [
       "      Unnamed: 0 Tax Units with Tax Cut Tax Units with Tax Increase  \\\n",
       "1   Less than 10                  1,436                         477   \n",
       "2          10-20                  7,015                         111   \n",
       "3          20-30                  9,483                         106   \n",
       "4          30-40                 11,352                         307   \n",
       "5          40-50                  9,795                         374   \n",
       "6          50-75                 17,029                       1,201   \n",
       "7         75-100                  9,208                       1,294   \n",
       "8        100-200                 11,100                       4,332   \n",
       "9        200-500                    691                       4,421   \n",
       "10      500-1000                     57                         710   \n",
       "11         1000+                     40                         420   \n",
       "12           All                 77,208                      13,760   \n",
       "\n",
       "    Average Tax Change  \n",
       "1               -8.000  \n",
       "2              -81.000  \n",
       "3             -184.000  \n",
       "4             -297.000  \n",
       "5             -370.000  \n",
       "6             -553.000  \n",
       "7             -577.000  \n",
       "8             -512.000  \n",
       "9              245.000  \n",
       "10               2.461  \n",
       "11              14.225  \n",
       "12               0.000  "
      ]
     },
     "execution_count": 9,
     "metadata": {},
     "output_type": "execute_result"
    }
   ],
   "source": [
    "df_dropped"
   ]
  },
  {
   "cell_type": "code",
   "execution_count": 10,
   "metadata": {
    "collapsed": true
   },
   "outputs": [],
   "source": [
    "df_dropped['Tax Units with Tax Cut']= [x.replace(',', '.') for x in df_dropped['Tax Units with Tax Cut']]"
   ]
  },
  {
   "cell_type": "code",
   "execution_count": 11,
   "metadata": {
    "collapsed": true
   },
   "outputs": [],
   "source": [
    "df_dropped['Tax Units with Tax Cut']=(-1)*df_dropped['Tax Units with Tax Cut'].astype(float)"
   ]
  },
  {
   "cell_type": "code",
   "execution_count": 12,
   "metadata": {
    "collapsed": true
   },
   "outputs": [],
   "source": [
    "df_dropped['Tax Units with Tax Increase']= [x.replace(',', '.') for x in df_dropped['Tax Units with Tax Increase']]"
   ]
  },
  {
   "cell_type": "code",
   "execution_count": 13,
   "metadata": {
    "collapsed": true
   },
   "outputs": [],
   "source": [
    "df_dropped['Tax Units with Tax Increase']=df_dropped['Tax Units with Tax Increase'].astype(float)"
   ]
  },
  {
   "cell_type": "code",
   "execution_count": 14,
   "metadata": {
    "scrolled": true
   },
   "outputs": [
    {
     "data": {
      "text/html": [
       "<div>\n",
       "<style>\n",
       "    .dataframe thead tr:only-child th {\n",
       "        text-align: right;\n",
       "    }\n",
       "\n",
       "    .dataframe thead th {\n",
       "        text-align: left;\n",
       "    }\n",
       "\n",
       "    .dataframe tbody tr th {\n",
       "        vertical-align: top;\n",
       "    }\n",
       "</style>\n",
       "<table border=\"1\" class=\"dataframe\">\n",
       "  <thead>\n",
       "    <tr style=\"text-align: right;\">\n",
       "      <th></th>\n",
       "      <th>Unnamed: 0</th>\n",
       "      <th>Tax Units with Tax Cut</th>\n",
       "      <th>Tax Units with Tax Increase</th>\n",
       "      <th>Average Tax Change</th>\n",
       "    </tr>\n",
       "  </thead>\n",
       "  <tbody>\n",
       "    <tr>\n",
       "      <th>1</th>\n",
       "      <td>Less than 10</td>\n",
       "      <td>-1.436</td>\n",
       "      <td>477.000</td>\n",
       "      <td>-8.000</td>\n",
       "    </tr>\n",
       "    <tr>\n",
       "      <th>2</th>\n",
       "      <td>10-20</td>\n",
       "      <td>-7.015</td>\n",
       "      <td>111.000</td>\n",
       "      <td>-81.000</td>\n",
       "    </tr>\n",
       "    <tr>\n",
       "      <th>3</th>\n",
       "      <td>20-30</td>\n",
       "      <td>-9.483</td>\n",
       "      <td>106.000</td>\n",
       "      <td>-184.000</td>\n",
       "    </tr>\n",
       "    <tr>\n",
       "      <th>4</th>\n",
       "      <td>30-40</td>\n",
       "      <td>-11.352</td>\n",
       "      <td>307.000</td>\n",
       "      <td>-297.000</td>\n",
       "    </tr>\n",
       "    <tr>\n",
       "      <th>5</th>\n",
       "      <td>40-50</td>\n",
       "      <td>-9.795</td>\n",
       "      <td>374.000</td>\n",
       "      <td>-370.000</td>\n",
       "    </tr>\n",
       "    <tr>\n",
       "      <th>6</th>\n",
       "      <td>50-75</td>\n",
       "      <td>-17.029</td>\n",
       "      <td>1.201</td>\n",
       "      <td>-553.000</td>\n",
       "    </tr>\n",
       "    <tr>\n",
       "      <th>7</th>\n",
       "      <td>75-100</td>\n",
       "      <td>-9.208</td>\n",
       "      <td>1.294</td>\n",
       "      <td>-577.000</td>\n",
       "    </tr>\n",
       "    <tr>\n",
       "      <th>8</th>\n",
       "      <td>100-200</td>\n",
       "      <td>-11.100</td>\n",
       "      <td>4.332</td>\n",
       "      <td>-512.000</td>\n",
       "    </tr>\n",
       "    <tr>\n",
       "      <th>9</th>\n",
       "      <td>200-500</td>\n",
       "      <td>-691.000</td>\n",
       "      <td>4.421</td>\n",
       "      <td>245.000</td>\n",
       "    </tr>\n",
       "    <tr>\n",
       "      <th>10</th>\n",
       "      <td>500-1000</td>\n",
       "      <td>-57.000</td>\n",
       "      <td>710.000</td>\n",
       "      <td>2.461</td>\n",
       "    </tr>\n",
       "    <tr>\n",
       "      <th>11</th>\n",
       "      <td>1000+</td>\n",
       "      <td>-40.000</td>\n",
       "      <td>420.000</td>\n",
       "      <td>14.225</td>\n",
       "    </tr>\n",
       "    <tr>\n",
       "      <th>12</th>\n",
       "      <td>All</td>\n",
       "      <td>-77.208</td>\n",
       "      <td>13.760</td>\n",
       "      <td>0.000</td>\n",
       "    </tr>\n",
       "  </tbody>\n",
       "</table>\n",
       "</div>"
      ],
      "text/plain": [
       "      Unnamed: 0  Tax Units with Tax Cut  Tax Units with Tax Increase  \\\n",
       "1   Less than 10                  -1.436                      477.000   \n",
       "2          10-20                  -7.015                      111.000   \n",
       "3          20-30                  -9.483                      106.000   \n",
       "4          30-40                 -11.352                      307.000   \n",
       "5          40-50                  -9.795                      374.000   \n",
       "6          50-75                 -17.029                        1.201   \n",
       "7         75-100                  -9.208                        1.294   \n",
       "8        100-200                 -11.100                        4.332   \n",
       "9        200-500                -691.000                        4.421   \n",
       "10      500-1000                 -57.000                      710.000   \n",
       "11         1000+                 -40.000                      420.000   \n",
       "12           All                 -77.208                       13.760   \n",
       "\n",
       "    Average Tax Change  \n",
       "1               -8.000  \n",
       "2              -81.000  \n",
       "3             -184.000  \n",
       "4             -297.000  \n",
       "5             -370.000  \n",
       "6             -553.000  \n",
       "7             -577.000  \n",
       "8             -512.000  \n",
       "9              245.000  \n",
       "10               2.461  \n",
       "11              14.225  \n",
       "12               0.000  "
      ]
     },
     "execution_count": 14,
     "metadata": {},
     "output_type": "execute_result"
    }
   ],
   "source": [
    "df_dropped"
   ]
  },
  {
   "cell_type": "code",
   "execution_count": 15,
   "metadata": {
    "collapsed": true
   },
   "outputs": [],
   "source": [
    "names = df_dropped.columns.tolist()\n",
    "names[names.index('Unnamed: 0')] = 'Intervals'\n",
    "df_dropped.columns = names"
   ]
  },
  {
   "cell_type": "code",
   "execution_count": 16,
   "metadata": {
    "collapsed": true
   },
   "outputs": [],
   "source": [
    "#Transform ColumnDataFrame to ColumnDataSource\n",
    "tax_increase=ColumnDataSource(pd.DataFrame(df_dropped[\"Tax Units with Tax Increase\"]))\n",
    "tax_cut=ColumnDataSource(pd.DataFrame(df_dropped[\"Tax Units with Tax Cut\"]))\n",
    "cds_df_dropped = ColumnDataSource(df_dropped)\n"
   ]
  },
  {
   "cell_type": "code",
   "execution_count": 17,
   "metadata": {},
   "outputs": [
    {
     "data": {
      "text/html": [
       "<div>\n",
       "<style>\n",
       "    .dataframe thead tr:only-child th {\n",
       "        text-align: right;\n",
       "    }\n",
       "\n",
       "    .dataframe thead th {\n",
       "        text-align: left;\n",
       "    }\n",
       "\n",
       "    .dataframe tbody tr th {\n",
       "        vertical-align: top;\n",
       "    }\n",
       "</style>\n",
       "<table border=\"1\" class=\"dataframe\">\n",
       "  <thead>\n",
       "    <tr style=\"text-align: right;\">\n",
       "      <th></th>\n",
       "      <th>Intervals</th>\n",
       "      <th>Tax Units with Tax Cut</th>\n",
       "      <th>Tax Units with Tax Increase</th>\n",
       "      <th>Average Tax Change</th>\n",
       "    </tr>\n",
       "  </thead>\n",
       "  <tbody>\n",
       "    <tr>\n",
       "      <th>1</th>\n",
       "      <td>Less than 10</td>\n",
       "      <td>-1.436</td>\n",
       "      <td>477.000</td>\n",
       "      <td>-8.000</td>\n",
       "    </tr>\n",
       "    <tr>\n",
       "      <th>2</th>\n",
       "      <td>10-20</td>\n",
       "      <td>-7.015</td>\n",
       "      <td>111.000</td>\n",
       "      <td>-81.000</td>\n",
       "    </tr>\n",
       "    <tr>\n",
       "      <th>3</th>\n",
       "      <td>20-30</td>\n",
       "      <td>-9.483</td>\n",
       "      <td>106.000</td>\n",
       "      <td>-184.000</td>\n",
       "    </tr>\n",
       "    <tr>\n",
       "      <th>4</th>\n",
       "      <td>30-40</td>\n",
       "      <td>-11.352</td>\n",
       "      <td>307.000</td>\n",
       "      <td>-297.000</td>\n",
       "    </tr>\n",
       "    <tr>\n",
       "      <th>5</th>\n",
       "      <td>40-50</td>\n",
       "      <td>-9.795</td>\n",
       "      <td>374.000</td>\n",
       "      <td>-370.000</td>\n",
       "    </tr>\n",
       "    <tr>\n",
       "      <th>6</th>\n",
       "      <td>50-75</td>\n",
       "      <td>-17.029</td>\n",
       "      <td>1.201</td>\n",
       "      <td>-553.000</td>\n",
       "    </tr>\n",
       "    <tr>\n",
       "      <th>7</th>\n",
       "      <td>75-100</td>\n",
       "      <td>-9.208</td>\n",
       "      <td>1.294</td>\n",
       "      <td>-577.000</td>\n",
       "    </tr>\n",
       "    <tr>\n",
       "      <th>8</th>\n",
       "      <td>100-200</td>\n",
       "      <td>-11.100</td>\n",
       "      <td>4.332</td>\n",
       "      <td>-512.000</td>\n",
       "    </tr>\n",
       "    <tr>\n",
       "      <th>9</th>\n",
       "      <td>200-500</td>\n",
       "      <td>-691.000</td>\n",
       "      <td>4.421</td>\n",
       "      <td>245.000</td>\n",
       "    </tr>\n",
       "    <tr>\n",
       "      <th>10</th>\n",
       "      <td>500-1000</td>\n",
       "      <td>-57.000</td>\n",
       "      <td>710.000</td>\n",
       "      <td>2.461</td>\n",
       "    </tr>\n",
       "    <tr>\n",
       "      <th>11</th>\n",
       "      <td>1000+</td>\n",
       "      <td>-40.000</td>\n",
       "      <td>420.000</td>\n",
       "      <td>14.225</td>\n",
       "    </tr>\n",
       "    <tr>\n",
       "      <th>12</th>\n",
       "      <td>All</td>\n",
       "      <td>-77.208</td>\n",
       "      <td>13.760</td>\n",
       "      <td>0.000</td>\n",
       "    </tr>\n",
       "  </tbody>\n",
       "</table>\n",
       "</div>"
      ],
      "text/plain": [
       "       Intervals  Tax Units with Tax Cut  Tax Units with Tax Increase  \\\n",
       "1   Less than 10                  -1.436                      477.000   \n",
       "2          10-20                  -7.015                      111.000   \n",
       "3          20-30                  -9.483                      106.000   \n",
       "4          30-40                 -11.352                      307.000   \n",
       "5          40-50                  -9.795                      374.000   \n",
       "6          50-75                 -17.029                        1.201   \n",
       "7         75-100                  -9.208                        1.294   \n",
       "8        100-200                 -11.100                        4.332   \n",
       "9        200-500                -691.000                        4.421   \n",
       "10      500-1000                 -57.000                      710.000   \n",
       "11         1000+                 -40.000                      420.000   \n",
       "12           All                 -77.208                       13.760   \n",
       "\n",
       "    Average Tax Change  \n",
       "1               -8.000  \n",
       "2              -81.000  \n",
       "3             -184.000  \n",
       "4             -297.000  \n",
       "5             -370.000  \n",
       "6             -553.000  \n",
       "7             -577.000  \n",
       "8             -512.000  \n",
       "9              245.000  \n",
       "10               2.461  \n",
       "11              14.225  \n",
       "12               0.000  "
      ]
     },
     "execution_count": 17,
     "metadata": {},
     "output_type": "execute_result"
    }
   ],
   "source": [
    "df_dropped"
   ]
  },
  {
   "cell_type": "code",
   "execution_count": 18,
   "metadata": {},
   "outputs": [],
   "source": [
    "p = Bar(df_dropped, \n",
    "       label=cat(columns='Intervals', sort=False), \n",
    "       values=blend('Tax Units with Tax Increase', 'Tax Units with Tax Cut', name='values', labels_name='vars'),\n",
    "       tooltips=[('Value', '@values')], ylabel=\"Tax units with tax cut             Tax units with tax increase\", stack=cat(columns='values', sort=False), \n",
    "       color=color(columns='vars',\n",
    "                      palette=['silver', 'orange'],\n",
    "                      sort=True),\n",
    "       bar_width=0.4, tools=\"pan,box_zoom, reset, save\", plot_width=600, plot_height=450, logo=None,\n",
    "       toolbar_sticky=False, legend=False)\n",
    "p.xaxis.axis_label = 'Income [$ thousands]'"
   ]
  },
  {
   "cell_type": "code",
   "execution_count": 19,
   "metadata": {
    "collapsed": true
   },
   "outputs": [],
   "source": [
    "values=blend('Tax Units with Tax Increase', 'Tax Units with Tax Cut', name='values', labels_name='vars')"
   ]
  },
  {
   "cell_type": "code",
   "execution_count": 20,
   "metadata": {},
   "outputs": [
    {
     "data": {
      "text/plain": [
       "Blend(Tax Units with Tax Increase, Tax Units with Tax Cut)"
      ]
     },
     "execution_count": 20,
     "metadata": {},
     "output_type": "execute_result"
    }
   ],
   "source": [
    "values"
   ]
  },
  {
   "cell_type": "code",
   "execution_count": 21,
   "metadata": {
    "collapsed": true
   },
   "outputs": [],
   "source": [
    "s1 = figure(plot_width=600, plot_height=200, title='Average Tax Change', tools=\"box_zoom, reset, save\")\n",
    "s1.toolbar.logo = None\n",
    "s1.toolbar_sticky = False\n",
    "s1.title.text_color = '#0569CE'\n",
    "s1.xaxis.axis_label = 'Income [$ thousands]'"
   ]
  },
  {
   "cell_type": "code",
   "execution_count": 22,
   "metadata": {
    "collapsed": true
   },
   "outputs": [],
   "source": [
    "avg_tax_change=df_dropped['Average Tax Change']"
   ]
  },
  {
   "cell_type": "code",
   "execution_count": 23,
   "metadata": {
    "collapsed": true
   },
   "outputs": [],
   "source": [
    "line_x=[i for i in range(len(df_dropped['Intervals']))]"
   ]
  },
  {
   "cell_type": "code",
   "execution_count": 24,
   "metadata": {},
   "outputs": [
    {
     "data": {
      "text/plain": [
       "[0, 1, 2, 3, 4, 5, 6, 7, 8, 9, 10, 11]"
      ]
     },
     "execution_count": 24,
     "metadata": {},
     "output_type": "execute_result"
    }
   ],
   "source": [
    "line_x"
   ]
  },
  {
   "cell_type": "code",
   "execution_count": 25,
   "metadata": {},
   "outputs": [
    {
     "data": {
      "text/html": [
       "<div style=\"display: table;\"><div style=\"display: table-row;\"><div style=\"display: table-cell;\"><b title=\"bokeh.models.renderers.GlyphRenderer\">GlyphRenderer</b>(</div><div style=\"display: table-cell;\">id&nbsp;=&nbsp;'17a52673-70d0-4a75-bf08-8c3a1f57278d', <span id=\"10c095eb-004a-4d63-bc96-bae382b45cb3\" style=\"cursor: pointer;\">&hellip;)</span></div></div><div class=\"c208e5a3-8e73-4d59-9073-487da7660646\" style=\"display: none;\"><div style=\"display: table-cell;\"></div><div style=\"display: table-cell;\">data_source&nbsp;=&nbsp;ColumnDataSource(id='46a0d085-a5b1-41a6-83ef-3fd29bb754c0', ...),</div></div><div class=\"c208e5a3-8e73-4d59-9073-487da7660646\" style=\"display: none;\"><div style=\"display: table-cell;\"></div><div style=\"display: table-cell;\">glyph&nbsp;=&nbsp;Circle(id='c54fd8ac-28dc-409e-a373-b74a2203bb5b', ...),</div></div><div class=\"c208e5a3-8e73-4d59-9073-487da7660646\" style=\"display: none;\"><div style=\"display: table-cell;\"></div><div style=\"display: table-cell;\">hover_glyph&nbsp;=&nbsp;None,</div></div><div class=\"c208e5a3-8e73-4d59-9073-487da7660646\" style=\"display: none;\"><div style=\"display: table-cell;\"></div><div style=\"display: table-cell;\">js_event_callbacks&nbsp;=&nbsp;{},</div></div><div class=\"c208e5a3-8e73-4d59-9073-487da7660646\" style=\"display: none;\"><div style=\"display: table-cell;\"></div><div style=\"display: table-cell;\">js_property_callbacks&nbsp;=&nbsp;{},</div></div><div class=\"c208e5a3-8e73-4d59-9073-487da7660646\" style=\"display: none;\"><div style=\"display: table-cell;\"></div><div style=\"display: table-cell;\">level&nbsp;=&nbsp;'glyph',</div></div><div class=\"c208e5a3-8e73-4d59-9073-487da7660646\" style=\"display: none;\"><div style=\"display: table-cell;\"></div><div style=\"display: table-cell;\">muted&nbsp;=&nbsp;False,</div></div><div class=\"c208e5a3-8e73-4d59-9073-487da7660646\" style=\"display: none;\"><div style=\"display: table-cell;\"></div><div style=\"display: table-cell;\">muted_glyph&nbsp;=&nbsp;None,</div></div><div class=\"c208e5a3-8e73-4d59-9073-487da7660646\" style=\"display: none;\"><div style=\"display: table-cell;\"></div><div style=\"display: table-cell;\">name&nbsp;=&nbsp;None,</div></div><div class=\"c208e5a3-8e73-4d59-9073-487da7660646\" style=\"display: none;\"><div style=\"display: table-cell;\"></div><div style=\"display: table-cell;\">nonselection_glyph&nbsp;=&nbsp;Circle(id='638fbbc2-19aa-4c11-a853-930340c789e0', ...),</div></div><div class=\"c208e5a3-8e73-4d59-9073-487da7660646\" style=\"display: none;\"><div style=\"display: table-cell;\"></div><div style=\"display: table-cell;\">selection_glyph&nbsp;=&nbsp;None,</div></div><div class=\"c208e5a3-8e73-4d59-9073-487da7660646\" style=\"display: none;\"><div style=\"display: table-cell;\"></div><div style=\"display: table-cell;\">subscribed_events&nbsp;=&nbsp;[],</div></div><div class=\"c208e5a3-8e73-4d59-9073-487da7660646\" style=\"display: none;\"><div style=\"display: table-cell;\"></div><div style=\"display: table-cell;\">tags&nbsp;=&nbsp;[],</div></div><div class=\"c208e5a3-8e73-4d59-9073-487da7660646\" style=\"display: none;\"><div style=\"display: table-cell;\"></div><div style=\"display: table-cell;\">visible&nbsp;=&nbsp;True,</div></div><div class=\"c208e5a3-8e73-4d59-9073-487da7660646\" style=\"display: none;\"><div style=\"display: table-cell;\"></div><div style=\"display: table-cell;\">x_range_name&nbsp;=&nbsp;'default',</div></div><div class=\"c208e5a3-8e73-4d59-9073-487da7660646\" style=\"display: none;\"><div style=\"display: table-cell;\"></div><div style=\"display: table-cell;\">y_range_name&nbsp;=&nbsp;'default')</div></div></div>\n",
       "<script>\n",
       "(function() {\n",
       "  var expanded = false;\n",
       "  var ellipsis = document.getElementById(\"10c095eb-004a-4d63-bc96-bae382b45cb3\");\n",
       "  ellipsis.addEventListener(\"click\", function() {\n",
       "    var rows = document.getElementsByClassName(\"c208e5a3-8e73-4d59-9073-487da7660646\");\n",
       "    for (var i = 0; i < rows.length; i++) {\n",
       "      var el = rows[i];\n",
       "      el.style.display = expanded ? \"none\" : \"table-row\";\n",
       "    }\n",
       "    ellipsis.innerHTML = expanded ? \"&hellip;)\" : \"&lsaquo;&lsaquo;&lsaquo;\";\n",
       "    expanded = !expanded;\n",
       "  });\n",
       "})();\n",
       "</script>\n"
      ],
      "text/plain": [
       "GlyphRenderer(id='17a52673-70d0-4a75-bf08-8c3a1f57278d', ...)"
      ]
     },
     "execution_count": 25,
     "metadata": {},
     "output_type": "execute_result"
    }
   ],
   "source": [
    "s1.line(line_x, avg_tax_change, line_color='#0569CE', line_width=2)\n",
    "s1.circle(line_x, avg_tax_change, fill_color=\"white\", size=8)"
   ]
  },
  {
   "cell_type": "code",
   "execution_count": 26,
   "metadata": {
    "collapsed": true
   },
   "outputs": [],
   "source": [
    "label_dict = {}\n",
    "for i, s in enumerate(df_dropped['Intervals']):\n",
    "    label_dict[i] = s\n",
    "\n",
    "s1.xaxis.formatter = FuncTickFormatter(code=\"\"\"\n",
    "    var labels = %s;\n",
    "    return labels[tick];\n",
    "\"\"\" % label_dict)"
   ]
  },
  {
   "cell_type": "code",
   "execution_count": 27,
   "metadata": {},
   "outputs": [
    {
     "data": {
      "text/plain": [
       "{0: 'Less than 10',\n",
       " 1: '10-20',\n",
       " 2: '20-30',\n",
       " 3: '30-40',\n",
       " 4: '40-50',\n",
       " 5: '50-75',\n",
       " 6: '75-100',\n",
       " 7: '100-200',\n",
       " 8: '200-500',\n",
       " 9: '500-1000',\n",
       " 10: '1000+',\n",
       " 11: 'All'}"
      ]
     },
     "execution_count": 27,
     "metadata": {},
     "output_type": "execute_result"
    }
   ],
   "source": [
    "label_dict"
   ]
  },
  {
   "cell_type": "code",
   "execution_count": 28,
   "metadata": {
    "collapsed": true
   },
   "outputs": [],
   "source": [
    "#l = Line(x = \"line_x\", y = \"avg_tax_change\", line_color='#0569CE', line_width=2)"
   ]
  },
  {
   "cell_type": "code",
   "execution_count": 29,
   "metadata": {
    "collapsed": true
   },
   "outputs": [],
   "source": [
    "output_file(\"bar.html\")\n",
    "p_l = column(s1,p)\n",
    "\n",
    "show(p_l)"
   ]
  },
  {
   "cell_type": "code",
   "execution_count": null,
   "metadata": {
    "collapsed": true
   },
   "outputs": [],
   "source": []
  },
  {
   "cell_type": "code",
   "execution_count": null,
   "metadata": {
    "collapsed": true
   },
   "outputs": [],
   "source": []
  },
  {
   "cell_type": "code",
   "execution_count": null,
   "metadata": {
    "collapsed": true
   },
   "outputs": [],
   "source": []
  },
  {
   "cell_type": "code",
   "execution_count": null,
   "metadata": {
    "collapsed": true
   },
   "outputs": [],
   "source": []
  },
  {
   "cell_type": "code",
   "execution_count": null,
   "metadata": {
    "collapsed": true
   },
   "outputs": [],
   "source": []
  },
  {
   "cell_type": "code",
   "execution_count": null,
   "metadata": {
    "collapsed": true
   },
   "outputs": [],
   "source": []
  },
  {
   "cell_type": "code",
   "execution_count": null,
   "metadata": {
    "collapsed": true
   },
   "outputs": [],
   "source": []
  },
  {
   "cell_type": "code",
   "execution_count": null,
   "metadata": {
    "collapsed": true
   },
   "outputs": [],
   "source": [
    "\n"
   ]
  },
  {
   "cell_type": "code",
   "execution_count": null,
   "metadata": {
    "collapsed": true
   },
   "outputs": [],
   "source": []
  },
  {
   "cell_type": "code",
   "execution_count": null,
   "metadata": {
    "collapsed": true
   },
   "outputs": [],
   "source": []
  },
  {
   "cell_type": "code",
   "execution_count": null,
   "metadata": {
    "collapsed": true
   },
   "outputs": [],
   "source": []
  }
 ],
 "metadata": {
  "anaconda-cloud": {},
  "kernelspec": {
   "display_name": "Python [conda env:django_env]",
   "language": "python",
   "name": "conda-env-django_env-py"
  },
  "language_info": {
   "codemirror_mode": {
    "name": "ipython",
    "version": 3
   },
   "file_extension": ".py",
   "mimetype": "text/x-python",
   "name": "python",
   "nbconvert_exporter": "python",
   "pygments_lexer": "ipython3",
   "version": "3.6.2"
  }
 },
 "nbformat": 4,
 "nbformat_minor": 2
}
