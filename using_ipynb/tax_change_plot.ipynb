{
 "cells": [
  {
   "cell_type": "code",
   "execution_count": 1,
   "metadata": {
    "collapsed": true
   },
   "outputs": [],
   "source": [
    "#importing some libraries\n",
    "import pandas as pd\n",
    "from os import path\n",
    "\n",
    "#importing Bokeh libraries\n",
    "from bokeh.plotting import figure\n",
    "from bokeh.layouts import layout\n",
    "from bokeh.models import ColumnDataSource, Text, Range1d, Plot\n",
    "from bokeh.models.widgets import Select\n",
    "from bkcharts import Line, Bar\n",
    "from bkcharts.attributes import cat, ColorAttr, color\n",
    "from bkcharts.operations import blend\n",
    "from bokeh.layouts import column\n",
    "from bokeh.io import output_file, show\n",
    "from bokeh.models import BoxZoomTool, ResetTool, ResetTool, SaveTool\n",
    "from bokeh.models import FuncTickFormatter\n",
    "from bokeh.models import CustomJS, Slider\n",
    "from bokeh.models.glyphs import VBar\n",
    "from bokeh.layouts import widgetbox\n",
    "from bokeh.layouts import layout"
   ]
  },
  {
   "cell_type": "code",
   "execution_count": 2,
   "metadata": {
    "collapsed": true
   },
   "outputs": [],
   "source": [
    "#load data as DataFrame\n",
    "df = pd.read_csv(\"resources/dataset_tax_change.csv\", decimal=\",\", encoding='utf-8-sig')"
   ]
  },
  {
   "cell_type": "code",
   "execution_count": 3,
   "metadata": {},
   "outputs": [
    {
     "data": {
      "text/html": [
       "<div>\n",
       "<style>\n",
       "    .dataframe thead tr:only-child th {\n",
       "        text-align: right;\n",
       "    }\n",
       "\n",
       "    .dataframe thead th {\n",
       "        text-align: left;\n",
       "    }\n",
       "\n",
       "    .dataframe tbody tr th {\n",
       "        vertical-align: top;\n",
       "    }\n",
       "</style>\n",
       "<table border=\"1\" class=\"dataframe\">\n",
       "  <thead>\n",
       "    <tr style=\"text-align: right;\">\n",
       "      <th></th>\n",
       "      <th>Unnamed: 0</th>\n",
       "      <th>Tax Units with Tax Cut</th>\n",
       "      <th>Tax Units with Tax Increase</th>\n",
       "      <th>Count</th>\n",
       "      <th>Average Tax Change</th>\n",
       "      <th>Total Tax Difference</th>\n",
       "      <th>Percent with Tax Increase</th>\n",
       "      <th>Percent with Tax Decrease</th>\n",
       "      <th>Share of Overall Change</th>\n",
       "    </tr>\n",
       "  </thead>\n",
       "  <tbody>\n",
       "    <tr>\n",
       "      <th>0</th>\n",
       "      <td>NaN</td>\n",
       "      <td>Thousands</td>\n",
       "      <td>Thousands</td>\n",
       "      <td>Thousands</td>\n",
       "      <td>NaN</td>\n",
       "      <td>Billions</td>\n",
       "      <td>NaN</td>\n",
       "      <td>NaN</td>\n",
       "      <td>NaN</td>\n",
       "    </tr>\n",
       "    <tr>\n",
       "      <th>1</th>\n",
       "      <td>Less than 10</td>\n",
       "      <td>1,436</td>\n",
       "      <td>477</td>\n",
       "      <td>23,157</td>\n",
       "      <td>-8.000</td>\n",
       "      <td>-0.2</td>\n",
       "      <td>2.1</td>\n",
       "      <td>6.2</td>\n",
       "      <td>0.5</td>\n",
       "    </tr>\n",
       "    <tr>\n",
       "      <th>2</th>\n",
       "      <td>10-20</td>\n",
       "      <td>7,015</td>\n",
       "      <td>111</td>\n",
       "      <td>24,467</td>\n",
       "      <td>-81.000</td>\n",
       "      <td>-2.0</td>\n",
       "      <td>0.5</td>\n",
       "      <td>28.7</td>\n",
       "      <td>5.9</td>\n",
       "    </tr>\n",
       "    <tr>\n",
       "      <th>3</th>\n",
       "      <td>20-30</td>\n",
       "      <td>9,483</td>\n",
       "      <td>106</td>\n",
       "      <td>18,943</td>\n",
       "      <td>-184.000</td>\n",
       "      <td>-3.5</td>\n",
       "      <td>0.6</td>\n",
       "      <td>50.1</td>\n",
       "      <td>10.4</td>\n",
       "    </tr>\n",
       "    <tr>\n",
       "      <th>4</th>\n",
       "      <td>30-40</td>\n",
       "      <td>11,352</td>\n",
       "      <td>307</td>\n",
       "      <td>16,372</td>\n",
       "      <td>-297.000</td>\n",
       "      <td>-4.9</td>\n",
       "      <td>1.9</td>\n",
       "      <td>69.3</td>\n",
       "      <td>14.4</td>\n",
       "    </tr>\n",
       "    <tr>\n",
       "      <th>5</th>\n",
       "      <td>40-50</td>\n",
       "      <td>9,795</td>\n",
       "      <td>374</td>\n",
       "      <td>13,283</td>\n",
       "      <td>-370.000</td>\n",
       "      <td>-4.9</td>\n",
       "      <td>2.8</td>\n",
       "      <td>73.7</td>\n",
       "      <td>14.6</td>\n",
       "    </tr>\n",
       "    <tr>\n",
       "      <th>6</th>\n",
       "      <td>50-75</td>\n",
       "      <td>17,029</td>\n",
       "      <td>1,201</td>\n",
       "      <td>22,758</td>\n",
       "      <td>-553.000</td>\n",
       "      <td>-12.6</td>\n",
       "      <td>5.3</td>\n",
       "      <td>74.8</td>\n",
       "      <td>37.3</td>\n",
       "    </tr>\n",
       "    <tr>\n",
       "      <th>7</th>\n",
       "      <td>75-100</td>\n",
       "      <td>9,208</td>\n",
       "      <td>1,294</td>\n",
       "      <td>13,548</td>\n",
       "      <td>-577.000</td>\n",
       "      <td>-7.8</td>\n",
       "      <td>9.6</td>\n",
       "      <td>68.0</td>\n",
       "      <td>23.2</td>\n",
       "    </tr>\n",
       "    <tr>\n",
       "      <th>8</th>\n",
       "      <td>100-200</td>\n",
       "      <td>11,100</td>\n",
       "      <td>4,332</td>\n",
       "      <td>23,024</td>\n",
       "      <td>-512.000</td>\n",
       "      <td>-11.8</td>\n",
       "      <td>18.8</td>\n",
       "      <td>48.2</td>\n",
       "      <td>35.0</td>\n",
       "    </tr>\n",
       "    <tr>\n",
       "      <th>9</th>\n",
       "      <td>200-500</td>\n",
       "      <td>691</td>\n",
       "      <td>4,421</td>\n",
       "      <td>7,922</td>\n",
       "      <td>245.000</td>\n",
       "      <td>1.9</td>\n",
       "      <td>55.8</td>\n",
       "      <td>8.7</td>\n",
       "      <td>-5.8</td>\n",
       "    </tr>\n",
       "    <tr>\n",
       "      <th>10</th>\n",
       "      <td>500-1000</td>\n",
       "      <td>57</td>\n",
       "      <td>710</td>\n",
       "      <td>1,179</td>\n",
       "      <td>2.461</td>\n",
       "      <td>2.9</td>\n",
       "      <td>60.2</td>\n",
       "      <td>4.8</td>\n",
       "      <td>-8.6</td>\n",
       "    </tr>\n",
       "    <tr>\n",
       "      <th>11</th>\n",
       "      <td>1000+</td>\n",
       "      <td>40</td>\n",
       "      <td>420</td>\n",
       "      <td>636</td>\n",
       "      <td>14.225</td>\n",
       "      <td>9.0</td>\n",
       "      <td>66.0</td>\n",
       "      <td>6.3</td>\n",
       "      <td>-26.8</td>\n",
       "    </tr>\n",
       "    <tr>\n",
       "      <th>12</th>\n",
       "      <td>All</td>\n",
       "      <td>77,208</td>\n",
       "      <td>13,760</td>\n",
       "      <td>170,055</td>\n",
       "      <td>0.000</td>\n",
       "      <td>-33.7</td>\n",
       "      <td>0</td>\n",
       "      <td>0</td>\n",
       "      <td>100.0</td>\n",
       "    </tr>\n",
       "    <tr>\n",
       "      <th>13</th>\n",
       "      <td>Source: https://www.ospc.org/taxbrain/14814/</td>\n",
       "      <td>NaN</td>\n",
       "      <td>NaN</td>\n",
       "      <td>NaN</td>\n",
       "      <td>NaN</td>\n",
       "      <td>NaN</td>\n",
       "      <td>NaN</td>\n",
       "      <td>NaN</td>\n",
       "      <td>NaN</td>\n",
       "    </tr>\n",
       "  </tbody>\n",
       "</table>\n",
       "</div>"
      ],
      "text/plain": [
       "                                      Unnamed: 0 Tax Units with Tax Cut  \\\n",
       "0                                            NaN              Thousands   \n",
       "1                                   Less than 10                  1,436   \n",
       "2                                          10-20                  7,015   \n",
       "3                                          20-30                  9,483   \n",
       "4                                          30-40                 11,352   \n",
       "5                                          40-50                  9,795   \n",
       "6                                          50-75                 17,029   \n",
       "7                                         75-100                  9,208   \n",
       "8                                        100-200                 11,100   \n",
       "9                                        200-500                    691   \n",
       "10                                      500-1000                     57   \n",
       "11                                         1000+                     40   \n",
       "12                                           All                 77,208   \n",
       "13  Source: https://www.ospc.org/taxbrain/14814/                    NaN   \n",
       "\n",
       "   Tax Units with Tax Increase      Count  Average Tax Change  \\\n",
       "0                    Thousands  Thousands                 NaN   \n",
       "1                          477     23,157              -8.000   \n",
       "2                          111     24,467             -81.000   \n",
       "3                          106     18,943            -184.000   \n",
       "4                          307     16,372            -297.000   \n",
       "5                          374     13,283            -370.000   \n",
       "6                        1,201     22,758            -553.000   \n",
       "7                        1,294     13,548            -577.000   \n",
       "8                        4,332     23,024            -512.000   \n",
       "9                        4,421      7,922             245.000   \n",
       "10                         710      1,179               2.461   \n",
       "11                         420        636              14.225   \n",
       "12                      13,760    170,055               0.000   \n",
       "13                         NaN        NaN                 NaN   \n",
       "\n",
       "   Total Tax Difference Percent with Tax Increase Percent with Tax Decrease  \\\n",
       "0              Billions                       NaN                       NaN   \n",
       "1                  -0.2                       2.1                       6.2   \n",
       "2                  -2.0                       0.5                      28.7   \n",
       "3                  -3.5                       0.6                      50.1   \n",
       "4                  -4.9                       1.9                      69.3   \n",
       "5                  -4.9                       2.8                      73.7   \n",
       "6                 -12.6                       5.3                      74.8   \n",
       "7                  -7.8                       9.6                      68.0   \n",
       "8                 -11.8                      18.8                      48.2   \n",
       "9                   1.9                      55.8                       8.7   \n",
       "10                  2.9                      60.2                       4.8   \n",
       "11                  9.0                      66.0                       6.3   \n",
       "12                -33.7                         0                         0   \n",
       "13                  NaN                       NaN                       NaN   \n",
       "\n",
       "   Share of Overall Change  \n",
       "0                      NaN  \n",
       "1                      0.5  \n",
       "2                      5.9  \n",
       "3                     10.4  \n",
       "4                     14.4  \n",
       "5                     14.6  \n",
       "6                     37.3  \n",
       "7                     23.2  \n",
       "8                     35.0  \n",
       "9                     -5.8  \n",
       "10                    -8.6  \n",
       "11                   -26.8  \n",
       "12                   100.0  \n",
       "13                     NaN  "
      ]
     },
     "execution_count": 3,
     "metadata": {},
     "output_type": "execute_result"
    }
   ],
   "source": [
    "df"
   ]
  },
  {
   "cell_type": "code",
   "execution_count": 4,
   "metadata": {},
   "outputs": [
    {
     "data": {
      "text/plain": [
       "['Unnamed: 0',\n",
       " 'Tax Units with Tax Cut',\n",
       " 'Tax Units with Tax Increase',\n",
       " 'Count',\n",
       " 'Average Tax Change',\n",
       " 'Total Tax Difference',\n",
       " 'Percent with Tax Increase',\n",
       " 'Percent with Tax Decrease',\n",
       " 'Share of Overall Change']"
      ]
     },
     "execution_count": 4,
     "metadata": {},
     "output_type": "execute_result"
    }
   ],
   "source": [
    "list(df)"
   ]
  },
  {
   "cell_type": "code",
   "execution_count": 5,
   "metadata": {
    "collapsed": true
   },
   "outputs": [],
   "source": [
    "df_data = df[['Unnamed: 0','Tax Units with Tax Cut', 'Tax Units with Tax Increase', 'Average Tax Change']]"
   ]
  },
  {
   "cell_type": "code",
   "execution_count": 6,
   "metadata": {},
   "outputs": [
    {
     "data": {
      "text/html": [
       "<div>\n",
       "<style>\n",
       "    .dataframe thead tr:only-child th {\n",
       "        text-align: right;\n",
       "    }\n",
       "\n",
       "    .dataframe thead th {\n",
       "        text-align: left;\n",
       "    }\n",
       "\n",
       "    .dataframe tbody tr th {\n",
       "        vertical-align: top;\n",
       "    }\n",
       "</style>\n",
       "<table border=\"1\" class=\"dataframe\">\n",
       "  <thead>\n",
       "    <tr style=\"text-align: right;\">\n",
       "      <th></th>\n",
       "      <th>Unnamed: 0</th>\n",
       "      <th>Tax Units with Tax Cut</th>\n",
       "      <th>Tax Units with Tax Increase</th>\n",
       "      <th>Average Tax Change</th>\n",
       "    </tr>\n",
       "  </thead>\n",
       "  <tbody>\n",
       "    <tr>\n",
       "      <th>0</th>\n",
       "      <td>NaN</td>\n",
       "      <td>Thousands</td>\n",
       "      <td>Thousands</td>\n",
       "      <td>NaN</td>\n",
       "    </tr>\n",
       "    <tr>\n",
       "      <th>1</th>\n",
       "      <td>Less than 10</td>\n",
       "      <td>1,436</td>\n",
       "      <td>477</td>\n",
       "      <td>-8.000</td>\n",
       "    </tr>\n",
       "    <tr>\n",
       "      <th>2</th>\n",
       "      <td>10-20</td>\n",
       "      <td>7,015</td>\n",
       "      <td>111</td>\n",
       "      <td>-81.000</td>\n",
       "    </tr>\n",
       "    <tr>\n",
       "      <th>3</th>\n",
       "      <td>20-30</td>\n",
       "      <td>9,483</td>\n",
       "      <td>106</td>\n",
       "      <td>-184.000</td>\n",
       "    </tr>\n",
       "    <tr>\n",
       "      <th>4</th>\n",
       "      <td>30-40</td>\n",
       "      <td>11,352</td>\n",
       "      <td>307</td>\n",
       "      <td>-297.000</td>\n",
       "    </tr>\n",
       "    <tr>\n",
       "      <th>5</th>\n",
       "      <td>40-50</td>\n",
       "      <td>9,795</td>\n",
       "      <td>374</td>\n",
       "      <td>-370.000</td>\n",
       "    </tr>\n",
       "    <tr>\n",
       "      <th>6</th>\n",
       "      <td>50-75</td>\n",
       "      <td>17,029</td>\n",
       "      <td>1,201</td>\n",
       "      <td>-553.000</td>\n",
       "    </tr>\n",
       "    <tr>\n",
       "      <th>7</th>\n",
       "      <td>75-100</td>\n",
       "      <td>9,208</td>\n",
       "      <td>1,294</td>\n",
       "      <td>-577.000</td>\n",
       "    </tr>\n",
       "    <tr>\n",
       "      <th>8</th>\n",
       "      <td>100-200</td>\n",
       "      <td>11,100</td>\n",
       "      <td>4,332</td>\n",
       "      <td>-512.000</td>\n",
       "    </tr>\n",
       "    <tr>\n",
       "      <th>9</th>\n",
       "      <td>200-500</td>\n",
       "      <td>691</td>\n",
       "      <td>4,421</td>\n",
       "      <td>245.000</td>\n",
       "    </tr>\n",
       "    <tr>\n",
       "      <th>10</th>\n",
       "      <td>500-1000</td>\n",
       "      <td>57</td>\n",
       "      <td>710</td>\n",
       "      <td>2.461</td>\n",
       "    </tr>\n",
       "    <tr>\n",
       "      <th>11</th>\n",
       "      <td>1000+</td>\n",
       "      <td>40</td>\n",
       "      <td>420</td>\n",
       "      <td>14.225</td>\n",
       "    </tr>\n",
       "    <tr>\n",
       "      <th>12</th>\n",
       "      <td>All</td>\n",
       "      <td>77,208</td>\n",
       "      <td>13,760</td>\n",
       "      <td>0.000</td>\n",
       "    </tr>\n",
       "    <tr>\n",
       "      <th>13</th>\n",
       "      <td>Source: https://www.ospc.org/taxbrain/14814/</td>\n",
       "      <td>NaN</td>\n",
       "      <td>NaN</td>\n",
       "      <td>NaN</td>\n",
       "    </tr>\n",
       "  </tbody>\n",
       "</table>\n",
       "</div>"
      ],
      "text/plain": [
       "                                      Unnamed: 0 Tax Units with Tax Cut  \\\n",
       "0                                            NaN              Thousands   \n",
       "1                                   Less than 10                  1,436   \n",
       "2                                          10-20                  7,015   \n",
       "3                                          20-30                  9,483   \n",
       "4                                          30-40                 11,352   \n",
       "5                                          40-50                  9,795   \n",
       "6                                          50-75                 17,029   \n",
       "7                                         75-100                  9,208   \n",
       "8                                        100-200                 11,100   \n",
       "9                                        200-500                    691   \n",
       "10                                      500-1000                     57   \n",
       "11                                         1000+                     40   \n",
       "12                                           All                 77,208   \n",
       "13  Source: https://www.ospc.org/taxbrain/14814/                    NaN   \n",
       "\n",
       "   Tax Units with Tax Increase  Average Tax Change  \n",
       "0                    Thousands                 NaN  \n",
       "1                          477              -8.000  \n",
       "2                          111             -81.000  \n",
       "3                          106            -184.000  \n",
       "4                          307            -297.000  \n",
       "5                          374            -370.000  \n",
       "6                        1,201            -553.000  \n",
       "7                        1,294            -577.000  \n",
       "8                        4,332            -512.000  \n",
       "9                        4,421             245.000  \n",
       "10                         710               2.461  \n",
       "11                         420              14.225  \n",
       "12                      13,760               0.000  \n",
       "13                         NaN                 NaN  "
      ]
     },
     "execution_count": 6,
     "metadata": {},
     "output_type": "execute_result"
    }
   ],
   "source": [
    "df_data"
   ]
  },
  {
   "cell_type": "code",
   "execution_count": 7,
   "metadata": {
    "collapsed": true
   },
   "outputs": [],
   "source": [
    "df_dropped=df_data.drop(df.index[[0,len(df_data['Tax Units with Tax Cut'])-1]])"
   ]
  },
  {
   "cell_type": "code",
   "execution_count": 8,
   "metadata": {},
   "outputs": [
    {
     "data": {
      "text/plain": [
       "13"
      ]
     },
     "execution_count": 8,
     "metadata": {},
     "output_type": "execute_result"
    }
   ],
   "source": [
    "len(df_data['Tax Units with Tax Cut'])-1"
   ]
  },
  {
   "cell_type": "code",
   "execution_count": 9,
   "metadata": {},
   "outputs": [
    {
     "data": {
      "text/html": [
       "<div>\n",
       "<style>\n",
       "    .dataframe thead tr:only-child th {\n",
       "        text-align: right;\n",
       "    }\n",
       "\n",
       "    .dataframe thead th {\n",
       "        text-align: left;\n",
       "    }\n",
       "\n",
       "    .dataframe tbody tr th {\n",
       "        vertical-align: top;\n",
       "    }\n",
       "</style>\n",
       "<table border=\"1\" class=\"dataframe\">\n",
       "  <thead>\n",
       "    <tr style=\"text-align: right;\">\n",
       "      <th></th>\n",
       "      <th>Unnamed: 0</th>\n",
       "      <th>Tax Units with Tax Cut</th>\n",
       "      <th>Tax Units with Tax Increase</th>\n",
       "      <th>Average Tax Change</th>\n",
       "    </tr>\n",
       "  </thead>\n",
       "  <tbody>\n",
       "    <tr>\n",
       "      <th>1</th>\n",
       "      <td>Less than 10</td>\n",
       "      <td>1,436</td>\n",
       "      <td>477</td>\n",
       "      <td>-8.000</td>\n",
       "    </tr>\n",
       "    <tr>\n",
       "      <th>2</th>\n",
       "      <td>10-20</td>\n",
       "      <td>7,015</td>\n",
       "      <td>111</td>\n",
       "      <td>-81.000</td>\n",
       "    </tr>\n",
       "    <tr>\n",
       "      <th>3</th>\n",
       "      <td>20-30</td>\n",
       "      <td>9,483</td>\n",
       "      <td>106</td>\n",
       "      <td>-184.000</td>\n",
       "    </tr>\n",
       "    <tr>\n",
       "      <th>4</th>\n",
       "      <td>30-40</td>\n",
       "      <td>11,352</td>\n",
       "      <td>307</td>\n",
       "      <td>-297.000</td>\n",
       "    </tr>\n",
       "    <tr>\n",
       "      <th>5</th>\n",
       "      <td>40-50</td>\n",
       "      <td>9,795</td>\n",
       "      <td>374</td>\n",
       "      <td>-370.000</td>\n",
       "    </tr>\n",
       "    <tr>\n",
       "      <th>6</th>\n",
       "      <td>50-75</td>\n",
       "      <td>17,029</td>\n",
       "      <td>1,201</td>\n",
       "      <td>-553.000</td>\n",
       "    </tr>\n",
       "    <tr>\n",
       "      <th>7</th>\n",
       "      <td>75-100</td>\n",
       "      <td>9,208</td>\n",
       "      <td>1,294</td>\n",
       "      <td>-577.000</td>\n",
       "    </tr>\n",
       "    <tr>\n",
       "      <th>8</th>\n",
       "      <td>100-200</td>\n",
       "      <td>11,100</td>\n",
       "      <td>4,332</td>\n",
       "      <td>-512.000</td>\n",
       "    </tr>\n",
       "    <tr>\n",
       "      <th>9</th>\n",
       "      <td>200-500</td>\n",
       "      <td>691</td>\n",
       "      <td>4,421</td>\n",
       "      <td>245.000</td>\n",
       "    </tr>\n",
       "    <tr>\n",
       "      <th>10</th>\n",
       "      <td>500-1000</td>\n",
       "      <td>57</td>\n",
       "      <td>710</td>\n",
       "      <td>2.461</td>\n",
       "    </tr>\n",
       "    <tr>\n",
       "      <th>11</th>\n",
       "      <td>1000+</td>\n",
       "      <td>40</td>\n",
       "      <td>420</td>\n",
       "      <td>14.225</td>\n",
       "    </tr>\n",
       "    <tr>\n",
       "      <th>12</th>\n",
       "      <td>All</td>\n",
       "      <td>77,208</td>\n",
       "      <td>13,760</td>\n",
       "      <td>0.000</td>\n",
       "    </tr>\n",
       "  </tbody>\n",
       "</table>\n",
       "</div>"
      ],
      "text/plain": [
       "      Unnamed: 0 Tax Units with Tax Cut Tax Units with Tax Increase  \\\n",
       "1   Less than 10                  1,436                         477   \n",
       "2          10-20                  7,015                         111   \n",
       "3          20-30                  9,483                         106   \n",
       "4          30-40                 11,352                         307   \n",
       "5          40-50                  9,795                         374   \n",
       "6          50-75                 17,029                       1,201   \n",
       "7         75-100                  9,208                       1,294   \n",
       "8        100-200                 11,100                       4,332   \n",
       "9        200-500                    691                       4,421   \n",
       "10      500-1000                     57                         710   \n",
       "11         1000+                     40                         420   \n",
       "12           All                 77,208                      13,760   \n",
       "\n",
       "    Average Tax Change  \n",
       "1               -8.000  \n",
       "2              -81.000  \n",
       "3             -184.000  \n",
       "4             -297.000  \n",
       "5             -370.000  \n",
       "6             -553.000  \n",
       "7             -577.000  \n",
       "8             -512.000  \n",
       "9              245.000  \n",
       "10               2.461  \n",
       "11              14.225  \n",
       "12               0.000  "
      ]
     },
     "execution_count": 9,
     "metadata": {},
     "output_type": "execute_result"
    }
   ],
   "source": [
    "df_dropped"
   ]
  },
  {
   "cell_type": "code",
   "execution_count": 10,
   "metadata": {
    "collapsed": true
   },
   "outputs": [],
   "source": [
    "df_dropped['Tax Units with Tax Cut']= [x.replace(',', '.') for x in df_dropped['Tax Units with Tax Cut']]"
   ]
  },
  {
   "cell_type": "code",
   "execution_count": 11,
   "metadata": {
    "collapsed": true
   },
   "outputs": [],
   "source": [
    "df_dropped['Tax Units with Tax Cut']=(-1)*df_dropped['Tax Units with Tax Cut'].astype(float)"
   ]
  },
  {
   "cell_type": "code",
   "execution_count": 12,
   "metadata": {
    "collapsed": true
   },
   "outputs": [],
   "source": [
    "df_dropped['Tax Units with Tax Increase']= [x.replace(',', '.') for x in df_dropped['Tax Units with Tax Increase']]"
   ]
  },
  {
   "cell_type": "code",
   "execution_count": 13,
   "metadata": {
    "collapsed": true
   },
   "outputs": [],
   "source": [
    "df_dropped['Tax Units with Tax Increase']=df_dropped['Tax Units with Tax Increase'].astype(float)"
   ]
  },
  {
   "cell_type": "code",
   "execution_count": 14,
   "metadata": {
    "scrolled": true
   },
   "outputs": [
    {
     "data": {
      "text/html": [
       "<div>\n",
       "<style>\n",
       "    .dataframe thead tr:only-child th {\n",
       "        text-align: right;\n",
       "    }\n",
       "\n",
       "    .dataframe thead th {\n",
       "        text-align: left;\n",
       "    }\n",
       "\n",
       "    .dataframe tbody tr th {\n",
       "        vertical-align: top;\n",
       "    }\n",
       "</style>\n",
       "<table border=\"1\" class=\"dataframe\">\n",
       "  <thead>\n",
       "    <tr style=\"text-align: right;\">\n",
       "      <th></th>\n",
       "      <th>Unnamed: 0</th>\n",
       "      <th>Tax Units with Tax Cut</th>\n",
       "      <th>Tax Units with Tax Increase</th>\n",
       "      <th>Average Tax Change</th>\n",
       "    </tr>\n",
       "  </thead>\n",
       "  <tbody>\n",
       "    <tr>\n",
       "      <th>1</th>\n",
       "      <td>Less than 10</td>\n",
       "      <td>-1.436</td>\n",
       "      <td>477.000</td>\n",
       "      <td>-8.000</td>\n",
       "    </tr>\n",
       "    <tr>\n",
       "      <th>2</th>\n",
       "      <td>10-20</td>\n",
       "      <td>-7.015</td>\n",
       "      <td>111.000</td>\n",
       "      <td>-81.000</td>\n",
       "    </tr>\n",
       "    <tr>\n",
       "      <th>3</th>\n",
       "      <td>20-30</td>\n",
       "      <td>-9.483</td>\n",
       "      <td>106.000</td>\n",
       "      <td>-184.000</td>\n",
       "    </tr>\n",
       "    <tr>\n",
       "      <th>4</th>\n",
       "      <td>30-40</td>\n",
       "      <td>-11.352</td>\n",
       "      <td>307.000</td>\n",
       "      <td>-297.000</td>\n",
       "    </tr>\n",
       "    <tr>\n",
       "      <th>5</th>\n",
       "      <td>40-50</td>\n",
       "      <td>-9.795</td>\n",
       "      <td>374.000</td>\n",
       "      <td>-370.000</td>\n",
       "    </tr>\n",
       "    <tr>\n",
       "      <th>6</th>\n",
       "      <td>50-75</td>\n",
       "      <td>-17.029</td>\n",
       "      <td>1.201</td>\n",
       "      <td>-553.000</td>\n",
       "    </tr>\n",
       "    <tr>\n",
       "      <th>7</th>\n",
       "      <td>75-100</td>\n",
       "      <td>-9.208</td>\n",
       "      <td>1.294</td>\n",
       "      <td>-577.000</td>\n",
       "    </tr>\n",
       "    <tr>\n",
       "      <th>8</th>\n",
       "      <td>100-200</td>\n",
       "      <td>-11.100</td>\n",
       "      <td>4.332</td>\n",
       "      <td>-512.000</td>\n",
       "    </tr>\n",
       "    <tr>\n",
       "      <th>9</th>\n",
       "      <td>200-500</td>\n",
       "      <td>-691.000</td>\n",
       "      <td>4.421</td>\n",
       "      <td>245.000</td>\n",
       "    </tr>\n",
       "    <tr>\n",
       "      <th>10</th>\n",
       "      <td>500-1000</td>\n",
       "      <td>-57.000</td>\n",
       "      <td>710.000</td>\n",
       "      <td>2.461</td>\n",
       "    </tr>\n",
       "    <tr>\n",
       "      <th>11</th>\n",
       "      <td>1000+</td>\n",
       "      <td>-40.000</td>\n",
       "      <td>420.000</td>\n",
       "      <td>14.225</td>\n",
       "    </tr>\n",
       "    <tr>\n",
       "      <th>12</th>\n",
       "      <td>All</td>\n",
       "      <td>-77.208</td>\n",
       "      <td>13.760</td>\n",
       "      <td>0.000</td>\n",
       "    </tr>\n",
       "  </tbody>\n",
       "</table>\n",
       "</div>"
      ],
      "text/plain": [
       "      Unnamed: 0  Tax Units with Tax Cut  Tax Units with Tax Increase  \\\n",
       "1   Less than 10                  -1.436                      477.000   \n",
       "2          10-20                  -7.015                      111.000   \n",
       "3          20-30                  -9.483                      106.000   \n",
       "4          30-40                 -11.352                      307.000   \n",
       "5          40-50                  -9.795                      374.000   \n",
       "6          50-75                 -17.029                        1.201   \n",
       "7         75-100                  -9.208                        1.294   \n",
       "8        100-200                 -11.100                        4.332   \n",
       "9        200-500                -691.000                        4.421   \n",
       "10      500-1000                 -57.000                      710.000   \n",
       "11         1000+                 -40.000                      420.000   \n",
       "12           All                 -77.208                       13.760   \n",
       "\n",
       "    Average Tax Change  \n",
       "1               -8.000  \n",
       "2              -81.000  \n",
       "3             -184.000  \n",
       "4             -297.000  \n",
       "5             -370.000  \n",
       "6             -553.000  \n",
       "7             -577.000  \n",
       "8             -512.000  \n",
       "9              245.000  \n",
       "10               2.461  \n",
       "11              14.225  \n",
       "12               0.000  "
      ]
     },
     "execution_count": 14,
     "metadata": {},
     "output_type": "execute_result"
    }
   ],
   "source": [
    "df_dropped"
   ]
  },
  {
   "cell_type": "code",
   "execution_count": 15,
   "metadata": {
    "collapsed": true
   },
   "outputs": [],
   "source": [
    "names = df_dropped.columns.tolist()\n",
    "names[names.index('Unnamed: 0')] = 'Intervals'\n",
    "df_dropped.columns = names"
   ]
  },
  {
   "cell_type": "code",
   "execution_count": 16,
   "metadata": {
    "collapsed": true
   },
   "outputs": [],
   "source": [
    "#Transform ColumnDataFrame to ColumnDataSource\n",
    "tax_increase=ColumnDataSource(pd.DataFrame(df_dropped[\"Tax Units with Tax Increase\"]))\n",
    "tax_cut=ColumnDataSource(pd.DataFrame(df_dropped[\"Tax Units with Tax Cut\"]))\n",
    "cds_df_dropped = ColumnDataSource(df_dropped)\n"
   ]
  },
  {
   "cell_type": "code",
   "execution_count": 17,
   "metadata": {},
   "outputs": [
    {
     "data": {
      "text/html": [
       "<div>\n",
       "<style>\n",
       "    .dataframe thead tr:only-child th {\n",
       "        text-align: right;\n",
       "    }\n",
       "\n",
       "    .dataframe thead th {\n",
       "        text-align: left;\n",
       "    }\n",
       "\n",
       "    .dataframe tbody tr th {\n",
       "        vertical-align: top;\n",
       "    }\n",
       "</style>\n",
       "<table border=\"1\" class=\"dataframe\">\n",
       "  <thead>\n",
       "    <tr style=\"text-align: right;\">\n",
       "      <th></th>\n",
       "      <th>Intervals</th>\n",
       "      <th>Tax Units with Tax Cut</th>\n",
       "      <th>Tax Units with Tax Increase</th>\n",
       "      <th>Average Tax Change</th>\n",
       "    </tr>\n",
       "  </thead>\n",
       "  <tbody>\n",
       "    <tr>\n",
       "      <th>1</th>\n",
       "      <td>Less than 10</td>\n",
       "      <td>-1.436</td>\n",
       "      <td>477.000</td>\n",
       "      <td>-8.000</td>\n",
       "    </tr>\n",
       "    <tr>\n",
       "      <th>2</th>\n",
       "      <td>10-20</td>\n",
       "      <td>-7.015</td>\n",
       "      <td>111.000</td>\n",
       "      <td>-81.000</td>\n",
       "    </tr>\n",
       "    <tr>\n",
       "      <th>3</th>\n",
       "      <td>20-30</td>\n",
       "      <td>-9.483</td>\n",
       "      <td>106.000</td>\n",
       "      <td>-184.000</td>\n",
       "    </tr>\n",
       "    <tr>\n",
       "      <th>4</th>\n",
       "      <td>30-40</td>\n",
       "      <td>-11.352</td>\n",
       "      <td>307.000</td>\n",
       "      <td>-297.000</td>\n",
       "    </tr>\n",
       "    <tr>\n",
       "      <th>5</th>\n",
       "      <td>40-50</td>\n",
       "      <td>-9.795</td>\n",
       "      <td>374.000</td>\n",
       "      <td>-370.000</td>\n",
       "    </tr>\n",
       "    <tr>\n",
       "      <th>6</th>\n",
       "      <td>50-75</td>\n",
       "      <td>-17.029</td>\n",
       "      <td>1.201</td>\n",
       "      <td>-553.000</td>\n",
       "    </tr>\n",
       "    <tr>\n",
       "      <th>7</th>\n",
       "      <td>75-100</td>\n",
       "      <td>-9.208</td>\n",
       "      <td>1.294</td>\n",
       "      <td>-577.000</td>\n",
       "    </tr>\n",
       "    <tr>\n",
       "      <th>8</th>\n",
       "      <td>100-200</td>\n",
       "      <td>-11.100</td>\n",
       "      <td>4.332</td>\n",
       "      <td>-512.000</td>\n",
       "    </tr>\n",
       "    <tr>\n",
       "      <th>9</th>\n",
       "      <td>200-500</td>\n",
       "      <td>-691.000</td>\n",
       "      <td>4.421</td>\n",
       "      <td>245.000</td>\n",
       "    </tr>\n",
       "    <tr>\n",
       "      <th>10</th>\n",
       "      <td>500-1000</td>\n",
       "      <td>-57.000</td>\n",
       "      <td>710.000</td>\n",
       "      <td>2.461</td>\n",
       "    </tr>\n",
       "    <tr>\n",
       "      <th>11</th>\n",
       "      <td>1000+</td>\n",
       "      <td>-40.000</td>\n",
       "      <td>420.000</td>\n",
       "      <td>14.225</td>\n",
       "    </tr>\n",
       "    <tr>\n",
       "      <th>12</th>\n",
       "      <td>All</td>\n",
       "      <td>-77.208</td>\n",
       "      <td>13.760</td>\n",
       "      <td>0.000</td>\n",
       "    </tr>\n",
       "  </tbody>\n",
       "</table>\n",
       "</div>"
      ],
      "text/plain": [
       "       Intervals  Tax Units with Tax Cut  Tax Units with Tax Increase  \\\n",
       "1   Less than 10                  -1.436                      477.000   \n",
       "2          10-20                  -7.015                      111.000   \n",
       "3          20-30                  -9.483                      106.000   \n",
       "4          30-40                 -11.352                      307.000   \n",
       "5          40-50                  -9.795                      374.000   \n",
       "6          50-75                 -17.029                        1.201   \n",
       "7         75-100                  -9.208                        1.294   \n",
       "8        100-200                 -11.100                        4.332   \n",
       "9        200-500                -691.000                        4.421   \n",
       "10      500-1000                 -57.000                      710.000   \n",
       "11         1000+                 -40.000                      420.000   \n",
       "12           All                 -77.208                       13.760   \n",
       "\n",
       "    Average Tax Change  \n",
       "1               -8.000  \n",
       "2              -81.000  \n",
       "3             -184.000  \n",
       "4             -297.000  \n",
       "5             -370.000  \n",
       "6             -553.000  \n",
       "7             -577.000  \n",
       "8             -512.000  \n",
       "9              245.000  \n",
       "10               2.461  \n",
       "11              14.225  \n",
       "12               0.000  "
      ]
     },
     "execution_count": 17,
     "metadata": {},
     "output_type": "execute_result"
    }
   ],
   "source": [
    "df_dropped"
   ]
  },
  {
   "cell_type": "code",
   "execution_count": 18,
   "metadata": {
    "collapsed": true
   },
   "outputs": [],
   "source": [
    "years=[2017, 2018, 2019, 2020, 2021, 2022, 2023, 2024, 2025, 2026]"
   ]
  },
  {
   "cell_type": "code",
   "execution_count": 19,
   "metadata": {
    "collapsed": true
   },
   "outputs": [],
   "source": [
    "text_source = ColumnDataSource({'year': ['%s' % years[0]]})\n",
    "text = Text(x=0.8, y=600, text='year', text_font_size='20pt', text_color='#0569CE', text_alpha=1)"
   ]
  },
  {
   "cell_type": "code",
   "execution_count": 20,
   "metadata": {},
   "outputs": [
    {
     "data": {
      "text/html": [
       "<div style=\"display: table;\"><div style=\"display: table-row;\"><div style=\"display: table-cell;\"><b title=\"bokeh.models.renderers.GlyphRenderer\">GlyphRenderer</b>(</div><div style=\"display: table-cell;\">id&nbsp;=&nbsp;'e1e646fa-f177-45a3-b337-3c669e973fc3', <span id=\"213cffe2-1a21-44f9-95ab-86605d578038\" style=\"cursor: pointer;\">&hellip;)</span></div></div><div class=\"60c6e6f8-4ace-4c1d-b387-47d35762b24f\" style=\"display: none;\"><div style=\"display: table-cell;\"></div><div style=\"display: table-cell;\">data_source&nbsp;=&nbsp;ColumnDataSource(id='56121075-c96a-4f30-bead-c254184d5d21', ...),</div></div><div class=\"60c6e6f8-4ace-4c1d-b387-47d35762b24f\" style=\"display: none;\"><div style=\"display: table-cell;\"></div><div style=\"display: table-cell;\">glyph&nbsp;=&nbsp;Text(id='a9c534ce-b459-4683-a130-655e51b5e8aa', ...),</div></div><div class=\"60c6e6f8-4ace-4c1d-b387-47d35762b24f\" style=\"display: none;\"><div style=\"display: table-cell;\"></div><div style=\"display: table-cell;\">hover_glyph&nbsp;=&nbsp;None,</div></div><div class=\"60c6e6f8-4ace-4c1d-b387-47d35762b24f\" style=\"display: none;\"><div style=\"display: table-cell;\"></div><div style=\"display: table-cell;\">js_event_callbacks&nbsp;=&nbsp;{},</div></div><div class=\"60c6e6f8-4ace-4c1d-b387-47d35762b24f\" style=\"display: none;\"><div style=\"display: table-cell;\"></div><div style=\"display: table-cell;\">js_property_callbacks&nbsp;=&nbsp;{},</div></div><div class=\"60c6e6f8-4ace-4c1d-b387-47d35762b24f\" style=\"display: none;\"><div style=\"display: table-cell;\"></div><div style=\"display: table-cell;\">level&nbsp;=&nbsp;'glyph',</div></div><div class=\"60c6e6f8-4ace-4c1d-b387-47d35762b24f\" style=\"display: none;\"><div style=\"display: table-cell;\"></div><div style=\"display: table-cell;\">muted&nbsp;=&nbsp;False,</div></div><div class=\"60c6e6f8-4ace-4c1d-b387-47d35762b24f\" style=\"display: none;\"><div style=\"display: table-cell;\"></div><div style=\"display: table-cell;\">muted_glyph&nbsp;=&nbsp;None,</div></div><div class=\"60c6e6f8-4ace-4c1d-b387-47d35762b24f\" style=\"display: none;\"><div style=\"display: table-cell;\"></div><div style=\"display: table-cell;\">name&nbsp;=&nbsp;None,</div></div><div class=\"60c6e6f8-4ace-4c1d-b387-47d35762b24f\" style=\"display: none;\"><div style=\"display: table-cell;\"></div><div style=\"display: table-cell;\">nonselection_glyph&nbsp;=&nbsp;'auto',</div></div><div class=\"60c6e6f8-4ace-4c1d-b387-47d35762b24f\" style=\"display: none;\"><div style=\"display: table-cell;\"></div><div style=\"display: table-cell;\">selection_glyph&nbsp;=&nbsp;'auto',</div></div><div class=\"60c6e6f8-4ace-4c1d-b387-47d35762b24f\" style=\"display: none;\"><div style=\"display: table-cell;\"></div><div style=\"display: table-cell;\">subscribed_events&nbsp;=&nbsp;[],</div></div><div class=\"60c6e6f8-4ace-4c1d-b387-47d35762b24f\" style=\"display: none;\"><div style=\"display: table-cell;\"></div><div style=\"display: table-cell;\">tags&nbsp;=&nbsp;[],</div></div><div class=\"60c6e6f8-4ace-4c1d-b387-47d35762b24f\" style=\"display: none;\"><div style=\"display: table-cell;\"></div><div style=\"display: table-cell;\">visible&nbsp;=&nbsp;True,</div></div><div class=\"60c6e6f8-4ace-4c1d-b387-47d35762b24f\" style=\"display: none;\"><div style=\"display: table-cell;\"></div><div style=\"display: table-cell;\">x_range_name&nbsp;=&nbsp;'default',</div></div><div class=\"60c6e6f8-4ace-4c1d-b387-47d35762b24f\" style=\"display: none;\"><div style=\"display: table-cell;\"></div><div style=\"display: table-cell;\">y_range_name&nbsp;=&nbsp;'default')</div></div></div>\n",
       "<script>\n",
       "(function() {\n",
       "  var expanded = false;\n",
       "  var ellipsis = document.getElementById(\"213cffe2-1a21-44f9-95ab-86605d578038\");\n",
       "  ellipsis.addEventListener(\"click\", function() {\n",
       "    var rows = document.getElementsByClassName(\"60c6e6f8-4ace-4c1d-b387-47d35762b24f\");\n",
       "    for (var i = 0; i < rows.length; i++) {\n",
       "      var el = rows[i];\n",
       "      el.style.display = expanded ? \"none\" : \"table-row\";\n",
       "    }\n",
       "    ellipsis.innerHTML = expanded ? \"&hellip;)\" : \"&lsaquo;&lsaquo;&lsaquo;\";\n",
       "    expanded = !expanded;\n",
       "  });\n",
       "})();\n",
       "</script>\n"
      ],
      "text/plain": [
       "GlyphRenderer(id='e1e646fa-f177-45a3-b337-3c669e973fc3', ...)"
      ]
     },
     "execution_count": 20,
     "metadata": {},
     "output_type": "execute_result"
    }
   ],
   "source": [
    "p = Bar(df_dropped, \n",
    "       label=cat(columns='Intervals', sort=False), \n",
    "       values=blend('Tax Units with Tax Increase', 'Tax Units with Tax Cut', name='values', labels_name='vars'),\n",
    "       tooltips=[('Value', '@values')], ylabel=\"Tax units with tax cut             Tax units with tax increase\", stack=cat(columns='values', sort=False), \n",
    "       color=color(columns='vars',\n",
    "                      palette=['silver', 'orange'],\n",
    "                      sort=True),\n",
    "       bar_width=0.4, tools=\"pan,box_zoom, reset, save\", plot_width=600, plot_height=500, logo=None,\n",
    "       toolbar_sticky=False, legend=False)\n",
    "p.xaxis.axis_label = 'Income [$ thousands]'\n",
    "p.add_glyph(text_source, text)"
   ]
  },
  {
   "cell_type": "code",
   "execution_count": null,
   "metadata": {
    "collapsed": true
   },
   "outputs": [],
   "source": []
  },
  {
   "cell_type": "code",
   "execution_count": 21,
   "metadata": {
    "collapsed": true
   },
   "outputs": [],
   "source": [
    "values=blend('Tax Units with Tax Increase', 'Tax Units with Tax Cut', name='values', labels_name='vars')"
   ]
  },
  {
   "cell_type": "code",
   "execution_count": 22,
   "metadata": {},
   "outputs": [
    {
     "data": {
      "text/plain": [
       "Blend(Tax Units with Tax Increase, Tax Units with Tax Cut)"
      ]
     },
     "execution_count": 22,
     "metadata": {},
     "output_type": "execute_result"
    }
   ],
   "source": [
    "values"
   ]
  },
  {
   "cell_type": "code",
   "execution_count": 23,
   "metadata": {
    "collapsed": true
   },
   "outputs": [],
   "source": [
    "s1 = figure(plot_width=600, plot_height=200, title='Average Tax Change', tools=\"box_zoom, reset, save\")\n",
    "s1.toolbar.logo = None\n",
    "s1.toolbar_sticky = False\n",
    "s1.title.text_color = '#0569CE'\n",
    "s1.xaxis.axis_label = 'Income [$ thousands]'"
   ]
  },
  {
   "cell_type": "code",
   "execution_count": 24,
   "metadata": {
    "collapsed": true
   },
   "outputs": [],
   "source": [
    "avg_tax_change=df_dropped['Average Tax Change']"
   ]
  },
  {
   "cell_type": "code",
   "execution_count": 25,
   "metadata": {
    "collapsed": true
   },
   "outputs": [],
   "source": [
    "line_x=[i for i in range(len(df_dropped['Intervals']))]"
   ]
  },
  {
   "cell_type": "code",
   "execution_count": 26,
   "metadata": {},
   "outputs": [
    {
     "data": {
      "text/plain": [
       "[0, 1, 2, 3, 4, 5, 6, 7, 8, 9, 10, 11]"
      ]
     },
     "execution_count": 26,
     "metadata": {},
     "output_type": "execute_result"
    }
   ],
   "source": [
    "line_x"
   ]
  },
  {
   "cell_type": "code",
   "execution_count": 27,
   "metadata": {},
   "outputs": [
    {
     "data": {
      "text/html": [
       "<div style=\"display: table;\"><div style=\"display: table-row;\"><div style=\"display: table-cell;\"><b title=\"bokeh.models.renderers.GlyphRenderer\">GlyphRenderer</b>(</div><div style=\"display: table-cell;\">id&nbsp;=&nbsp;'25ccfd54-b274-4fd9-830a-e026f64fe46e', <span id=\"fec88156-857d-4015-b5cc-d97a94bb64ef\" style=\"cursor: pointer;\">&hellip;)</span></div></div><div class=\"bcfbdcb2-39c8-4634-af71-81b188add5d5\" style=\"display: none;\"><div style=\"display: table-cell;\"></div><div style=\"display: table-cell;\">data_source&nbsp;=&nbsp;ColumnDataSource(id='a696743f-b268-4d97-bf4f-ab326fddbf9e', ...),</div></div><div class=\"bcfbdcb2-39c8-4634-af71-81b188add5d5\" style=\"display: none;\"><div style=\"display: table-cell;\"></div><div style=\"display: table-cell;\">glyph&nbsp;=&nbsp;Circle(id='31b85a80-7f5e-44a9-ba95-fd248fccaaf7', ...),</div></div><div class=\"bcfbdcb2-39c8-4634-af71-81b188add5d5\" style=\"display: none;\"><div style=\"display: table-cell;\"></div><div style=\"display: table-cell;\">hover_glyph&nbsp;=&nbsp;None,</div></div><div class=\"bcfbdcb2-39c8-4634-af71-81b188add5d5\" style=\"display: none;\"><div style=\"display: table-cell;\"></div><div style=\"display: table-cell;\">js_event_callbacks&nbsp;=&nbsp;{},</div></div><div class=\"bcfbdcb2-39c8-4634-af71-81b188add5d5\" style=\"display: none;\"><div style=\"display: table-cell;\"></div><div style=\"display: table-cell;\">js_property_callbacks&nbsp;=&nbsp;{},</div></div><div class=\"bcfbdcb2-39c8-4634-af71-81b188add5d5\" style=\"display: none;\"><div style=\"display: table-cell;\"></div><div style=\"display: table-cell;\">level&nbsp;=&nbsp;'glyph',</div></div><div class=\"bcfbdcb2-39c8-4634-af71-81b188add5d5\" style=\"display: none;\"><div style=\"display: table-cell;\"></div><div style=\"display: table-cell;\">muted&nbsp;=&nbsp;False,</div></div><div class=\"bcfbdcb2-39c8-4634-af71-81b188add5d5\" style=\"display: none;\"><div style=\"display: table-cell;\"></div><div style=\"display: table-cell;\">muted_glyph&nbsp;=&nbsp;None,</div></div><div class=\"bcfbdcb2-39c8-4634-af71-81b188add5d5\" style=\"display: none;\"><div style=\"display: table-cell;\"></div><div style=\"display: table-cell;\">name&nbsp;=&nbsp;None,</div></div><div class=\"bcfbdcb2-39c8-4634-af71-81b188add5d5\" style=\"display: none;\"><div style=\"display: table-cell;\"></div><div style=\"display: table-cell;\">nonselection_glyph&nbsp;=&nbsp;Circle(id='8341a95b-d1aa-42d3-a977-2d33bf026d0c', ...),</div></div><div class=\"bcfbdcb2-39c8-4634-af71-81b188add5d5\" style=\"display: none;\"><div style=\"display: table-cell;\"></div><div style=\"display: table-cell;\">selection_glyph&nbsp;=&nbsp;None,</div></div><div class=\"bcfbdcb2-39c8-4634-af71-81b188add5d5\" style=\"display: none;\"><div style=\"display: table-cell;\"></div><div style=\"display: table-cell;\">subscribed_events&nbsp;=&nbsp;[],</div></div><div class=\"bcfbdcb2-39c8-4634-af71-81b188add5d5\" style=\"display: none;\"><div style=\"display: table-cell;\"></div><div style=\"display: table-cell;\">tags&nbsp;=&nbsp;[],</div></div><div class=\"bcfbdcb2-39c8-4634-af71-81b188add5d5\" style=\"display: none;\"><div style=\"display: table-cell;\"></div><div style=\"display: table-cell;\">visible&nbsp;=&nbsp;True,</div></div><div class=\"bcfbdcb2-39c8-4634-af71-81b188add5d5\" style=\"display: none;\"><div style=\"display: table-cell;\"></div><div style=\"display: table-cell;\">x_range_name&nbsp;=&nbsp;'default',</div></div><div class=\"bcfbdcb2-39c8-4634-af71-81b188add5d5\" style=\"display: none;\"><div style=\"display: table-cell;\"></div><div style=\"display: table-cell;\">y_range_name&nbsp;=&nbsp;'default')</div></div></div>\n",
       "<script>\n",
       "(function() {\n",
       "  var expanded = false;\n",
       "  var ellipsis = document.getElementById(\"fec88156-857d-4015-b5cc-d97a94bb64ef\");\n",
       "  ellipsis.addEventListener(\"click\", function() {\n",
       "    var rows = document.getElementsByClassName(\"bcfbdcb2-39c8-4634-af71-81b188add5d5\");\n",
       "    for (var i = 0; i < rows.length; i++) {\n",
       "      var el = rows[i];\n",
       "      el.style.display = expanded ? \"none\" : \"table-row\";\n",
       "    }\n",
       "    ellipsis.innerHTML = expanded ? \"&hellip;)\" : \"&lsaquo;&lsaquo;&lsaquo;\";\n",
       "    expanded = !expanded;\n",
       "  });\n",
       "})();\n",
       "</script>\n"
      ],
      "text/plain": [
       "GlyphRenderer(id='25ccfd54-b274-4fd9-830a-e026f64fe46e', ...)"
      ]
     },
     "execution_count": 27,
     "metadata": {},
     "output_type": "execute_result"
    }
   ],
   "source": [
    "s1.line(line_x, avg_tax_change, line_color='#0569CE', line_width=2)\n",
    "s1.circle(line_x, avg_tax_change, fill_color=\"white\", size=8)"
   ]
  },
  {
   "cell_type": "code",
   "execution_count": 28,
   "metadata": {
    "collapsed": true
   },
   "outputs": [],
   "source": [
    "label_dict = {}\n",
    "for i, s in enumerate(df_dropped['Intervals']):\n",
    "    label_dict[i] = s\n",
    "\n",
    "s1.xaxis.formatter = FuncTickFormatter(code=\"\"\"\n",
    "    var labels = %s;\n",
    "    return labels[tick];\n",
    "\"\"\" % label_dict)"
   ]
  },
  {
   "cell_type": "code",
   "execution_count": 29,
   "metadata": {},
   "outputs": [
    {
     "data": {
      "text/plain": [
       "{0: 'Less than 10',\n",
       " 1: '10-20',\n",
       " 2: '20-30',\n",
       " 3: '30-40',\n",
       " 4: '40-50',\n",
       " 5: '50-75',\n",
       " 6: '75-100',\n",
       " 7: '100-200',\n",
       " 8: '200-500',\n",
       " 9: '500-1000',\n",
       " 10: '1000+',\n",
       " 11: 'All'}"
      ]
     },
     "execution_count": 29,
     "metadata": {},
     "output_type": "execute_result"
    }
   ],
   "source": [
    "label_dict"
   ]
  },
  {
   "cell_type": "code",
   "execution_count": 30,
   "metadata": {
    "collapsed": true
   },
   "outputs": [],
   "source": [
    "df_dropped_cut=df_dropped[['Intervals','Tax Units with Tax Cut']]"
   ]
  },
  {
   "cell_type": "code",
   "execution_count": 31,
   "metadata": {
    "collapsed": true
   },
   "outputs": [],
   "source": [
    "df_dropped_increase=df_dropped[['Intervals','Tax Units with Tax Increase']]"
   ]
  },
  {
   "cell_type": "code",
   "execution_count": 32,
   "metadata": {
    "collapsed": true
   },
   "outputs": [],
   "source": [
    "df_dropped_cut_new = {}\n",
    "df_dropped_increase_new = {}\n",
    "for year in years:\n",
    "    df_dropped_cut_new['_' + str(year)]=ColumnDataSource(df_dropped_cut)\n",
    "    df_dropped_increase_new['_' + str(year)]=ColumnDataSource(df_dropped_increase)"
   ]
  },
  {
   "cell_type": "code",
   "execution_count": 33,
   "metadata": {},
   "outputs": [
    {
     "data": {
      "text/plain": [
       "{'_2017': ColumnDataSource(id='febfd094-435c-478f-b54f-6d5d874c91b8', ...),\n",
       " '_2018': ColumnDataSource(id='48980d99-a2ce-4ec6-b0b4-806e55a287f0', ...),\n",
       " '_2019': ColumnDataSource(id='8c40ae2d-a519-41e1-bec9-5cabbeae6309', ...),\n",
       " '_2020': ColumnDataSource(id='37c32d97-b369-41cb-ab59-3d8379014486', ...),\n",
       " '_2021': ColumnDataSource(id='d8aaa797-b7b2-4f06-bd76-dbc056a4e60e', ...),\n",
       " '_2022': ColumnDataSource(id='6915ba0e-ab8b-4c4b-bce8-a840e1a943bf', ...),\n",
       " '_2023': ColumnDataSource(id='d0dbe4ce-5b5c-4cf4-a612-7744eedff8f2', ...),\n",
       " '_2024': ColumnDataSource(id='9fcbf6d5-22e9-4dc6-9e9f-721e99b4fe13', ...),\n",
       " '_2025': ColumnDataSource(id='dd6d4e4e-ddbf-4bfa-8ae0-ca06e22a1dd7', ...),\n",
       " '_2026': ColumnDataSource(id='68ac4c40-700e-4246-8932-7862743a3504', ...)}"
      ]
     },
     "execution_count": 33,
     "metadata": {},
     "output_type": "execute_result"
    }
   ],
   "source": [
    "df_dropped_cut_new"
   ]
  },
  {
   "cell_type": "code",
   "execution_count": 34,
   "metadata": {},
   "outputs": [
    {
     "data": {
      "text/plain": [
       "{'_2017': ColumnDataSource(id='20f6389e-6bf9-4213-a452-2ad771599694', ...),\n",
       " '_2018': ColumnDataSource(id='35c165c9-972d-4557-8243-5df3cff43630', ...),\n",
       " '_2019': ColumnDataSource(id='630779b2-040c-42de-862c-8291b8c9344f', ...),\n",
       " '_2020': ColumnDataSource(id='5bb5bf3e-815b-4024-95a5-277adafeb657', ...),\n",
       " '_2021': ColumnDataSource(id='b17147c1-6c31-4aa5-8db3-8f1bb40a8a97', ...),\n",
       " '_2022': ColumnDataSource(id='314f7f35-78da-4da0-87bf-8980a2b4d315', ...),\n",
       " '_2023': ColumnDataSource(id='0795ba5a-650b-44bd-b1c6-0bfdd8c9e5b4', ...),\n",
       " '_2024': ColumnDataSource(id='2ea7fad2-757c-46a5-987a-d2a54993df49', ...),\n",
       " '_2025': ColumnDataSource(id='243aac56-1794-4978-93e6-bea564ef873e', ...),\n",
       " '_2026': ColumnDataSource(id='3c63d9cb-cb25-4cf1-8216-f615b567dd8b', ...)}"
      ]
     },
     "execution_count": 34,
     "metadata": {},
     "output_type": "execute_result"
    }
   ],
   "source": [
    "df_dropped_increase_new"
   ]
  },
  {
   "cell_type": "code",
   "execution_count": 35,
   "metadata": {
    "collapsed": true
   },
   "outputs": [],
   "source": [
    "dictionary_of_sources = dict(zip([x for x in years], ['_%s' % x for x in years]))"
   ]
  },
  {
   "cell_type": "code",
   "execution_count": 36,
   "metadata": {},
   "outputs": [
    {
     "data": {
      "text/plain": [
       "'{2017: _2017, 2018: _2018, 2019: _2019, 2020: _2020, 2021: _2021, 2022: _2022, 2023: _2023, 2024: _2024, 2025: _2025, 2026: _2026}'"
      ]
     },
     "execution_count": 36,
     "metadata": {},
     "output_type": "execute_result"
    }
   ],
   "source": [
    "js_source_array = str(dictionary_of_sources).replace(\"'\", \"\")\n",
    "js_source_array"
   ]
  },
  {
   "cell_type": "code",
   "execution_count": 37,
   "metadata": {
    "collapsed": true
   },
   "outputs": [],
   "source": [
    "renderer_source_cut = df_dropped_cut_new['_%s' % years[0]]\n",
    "renderer_source_increase = df_dropped_increase_new['_%s' % years[0]]"
   ]
  },
  {
   "cell_type": "code",
   "execution_count": 38,
   "metadata": {},
   "outputs": [
    {
     "data": {
      "text/plain": [
       "{'Intervals': 1     Less than 10\n",
       " 2            10-20\n",
       " 3            20-30\n",
       " 4            30-40\n",
       " 5            40-50\n",
       " 6            50-75\n",
       " 7           75-100\n",
       " 8          100-200\n",
       " 9          200-500\n",
       " 10        500-1000\n",
       " 11           1000+\n",
       " 12             All\n",
       " Name: Intervals, dtype: object, 'Tax Units with Tax Cut': 1      -1.436\n",
       " 2      -7.015\n",
       " 3      -9.483\n",
       " 4     -11.352\n",
       " 5      -9.795\n",
       " 6     -17.029\n",
       " 7      -9.208\n",
       " 8     -11.100\n",
       " 9    -691.000\n",
       " 10    -57.000\n",
       " 11    -40.000\n",
       " 12    -77.208\n",
       " Name: Tax Units with Tax Cut, dtype: float64, 'index': array([ 1,  2,  3,  4,  5,  6,  7,  8,  9, 10, 11, 12])}"
      ]
     },
     "execution_count": 38,
     "metadata": {},
     "output_type": "execute_result"
    }
   ],
   "source": [
    "renderer_source_cut.data"
   ]
  },
  {
   "cell_type": "code",
   "execution_count": null,
   "metadata": {
    "collapsed": true
   },
   "outputs": [],
   "source": []
  },
  {
   "cell_type": "code",
   "execution_count": 41,
   "metadata": {},
   "outputs": [],
   "source": [
    "# Add the slider\n",
    "code_cut = \"\"\"\n",
    "    var year = slider.get('value'),\n",
    "        df_dropped_cut_new = %s,\n",
    "        new_source_data_cut = df_dropped_cut_new[year].get('data');\n",
    "        renderer_source_cut.set('data', new_source_data_cut);\n",
    "        text_source.set('data', {'year': [String(year)]});\n",
    "        \"\"\" % js_source_array\n",
    "\n",
    "code_increase = \"\"\"\n",
    "    var year = slider.get('value'),\n",
    "        df_dropped_increase_new = %s,\n",
    "        new_source_data_cut = df_dropped_cut_new[year].get('data');\n",
    "        renderer_source_cut.set('data', new_source_data_cut);\n",
    "        text_source.set('data', {'year': [String(year)]});\n",
    "        \"\"\" % js_source_array\n",
    "\n",
    "callback = CustomJS(args=df_dropped_cut_new, code=code_cut)\n",
    "slider = Slider(start=years[0], end=years[-1], value=1, step=1, title=\"Year\", callback=callback)\n",
    "callback.args[\"renderer_source_cut\"] = renderer_source_cut\n",
    "callback.args[\"renderer_source_increase\"] = renderer_source_increase\n",
    "callback.args[\"slider\"] = slider\n",
    "callback.args[\"text_source\"] = text_source"
   ]
  },
  {
   "cell_type": "code",
   "execution_count": 42,
   "metadata": {},
   "outputs": [
    {
     "data": {
      "text/plain": [
       "'{2017: _2017, 2018: _2018, 2019: _2019, 2020: _2020, 2021: _2021, 2022: _2022, 2023: _2023, 2024: _2024, 2025: _2025, 2026: _2026}'"
      ]
     },
     "execution_count": 42,
     "metadata": {},
     "output_type": "execute_result"
    }
   ],
   "source": [
    "js_source_array"
   ]
  },
  {
   "cell_type": "code",
   "execution_count": 43,
   "metadata": {
    "collapsed": true
   },
   "outputs": [],
   "source": [
    "#show(widgetbox(slider))"
   ]
  },
  {
   "cell_type": "code",
   "execution_count": 45,
   "metadata": {
    "collapsed": true
   },
   "outputs": [],
   "source": [
    "output_file(\"bar.html\")\n",
    "p_l = column(s1,p)\n",
    "\n",
    "show(layout([[p_l],[slider]]))"
   ]
  },
  {
   "cell_type": "code",
   "execution_count": null,
   "metadata": {
    "collapsed": true
   },
   "outputs": [],
   "source": []
  },
  {
   "cell_type": "code",
   "execution_count": null,
   "metadata": {
    "collapsed": true
   },
   "outputs": [],
   "source": []
  }
 ],
 "metadata": {
  "anaconda-cloud": {},
  "kernelspec": {
   "display_name": "Python [conda env:django_env]",
   "language": "python",
   "name": "conda-env-django_env-py"
  },
  "language_info": {
   "codemirror_mode": {
    "name": "ipython",
    "version": 3
   },
   "file_extension": ".py",
   "mimetype": "text/x-python",
   "name": "python",
   "nbconvert_exporter": "python",
   "pygments_lexer": "ipython3",
   "version": "3.6.2"
  }
 },
 "nbformat": 4,
 "nbformat_minor": 2
}
